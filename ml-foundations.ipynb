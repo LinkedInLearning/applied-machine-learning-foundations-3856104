{
 "cells": [
  {
   "cell_type": "markdown",
   "metadata": {},
   "source": [
    "# EDA\n"
   ]
  },
  {
   "cell_type": "markdown",
   "metadata": {},
   "source": [
    "\n",
    "## Exploring the Data\n"
   ]
  },
  {
   "cell_type": "code",
   "execution_count": 2,
   "metadata": {},
   "outputs": [],
   "source": [
    "import polars as pl\n",
    "import polars.selectors as cs\n",
    "import sklearn \n",
    "import catboost\n",
    "\n",
    "import warnings\n",
    "warnings.filterwarnings('ignore')"
   ]
  },
  {
   "cell_type": "code",
   "execution_count": 3,
   "metadata": {},
   "outputs": [
    {
     "data": {
      "text/html": [
       "<div><style>\n",
       ".dataframe > thead > tr,\n",
       ".dataframe > tbody > tr {\n",
       "  text-align: right;\n",
       "  white-space: pre-wrap;\n",
       "}\n",
       "</style>\n",
       "<small>shape: (21_613, 23)</small><table border=\"1\" class=\"dataframe\"><thead><tr><th>id</th><th>price</th><th>bedrooms</th><th>bathrooms</th><th>sqft_living</th><th>sqft_lot</th><th>floors</th><th>waterfront</th><th>view</th><th>condition</th><th>grade</th><th>sqft_above</th><th>sqft_basement</th><th>yr_built</th><th>yr_renovated</th><th>zipcode</th><th>lat</th><th>long</th><th>sqft_living15</th><th>sqft_lot15</th><th>date_year</th><th>date_month</th><th>date_day</th></tr><tr><td>i64</td><td>f64</td><td>i64</td><td>f64</td><td>i64</td><td>i64</td><td>f64</td><td>i64</td><td>i64</td><td>i64</td><td>i64</td><td>i64</td><td>i64</td><td>i64</td><td>i64</td><td>i64</td><td>f64</td><td>f64</td><td>i64</td><td>i64</td><td>i64</td><td>i64</td><td>i64</td></tr></thead><tbody><tr><td>7129300520</td><td>221900.0</td><td>3</td><td>1.0</td><td>1180</td><td>5650</td><td>1.0</td><td>0</td><td>0</td><td>3</td><td>7</td><td>1180</td><td>0</td><td>1955</td><td>0</td><td>98178</td><td>47.5112</td><td>-122.257</td><td>1340</td><td>5650</td><td>2014</td><td>10</td><td>13</td></tr><tr><td>6414100192</td><td>538000.0</td><td>3</td><td>2.25</td><td>2570</td><td>7242</td><td>2.0</td><td>0</td><td>0</td><td>3</td><td>7</td><td>2170</td><td>400</td><td>1951</td><td>1991</td><td>98125</td><td>47.721</td><td>-122.319</td><td>1690</td><td>7639</td><td>2014</td><td>12</td><td>9</td></tr><tr><td>5631500400</td><td>180000.0</td><td>2</td><td>1.0</td><td>770</td><td>10000</td><td>1.0</td><td>0</td><td>0</td><td>3</td><td>6</td><td>770</td><td>0</td><td>1933</td><td>0</td><td>98028</td><td>47.7379</td><td>-122.233</td><td>2720</td><td>8062</td><td>2015</td><td>2</td><td>25</td></tr><tr><td>2487200875</td><td>604000.0</td><td>4</td><td>3.0</td><td>1960</td><td>5000</td><td>1.0</td><td>0</td><td>0</td><td>5</td><td>7</td><td>1050</td><td>910</td><td>1965</td><td>0</td><td>98136</td><td>47.5208</td><td>-122.393</td><td>1360</td><td>5000</td><td>2014</td><td>12</td><td>9</td></tr><tr><td>1954400510</td><td>510000.0</td><td>3</td><td>2.0</td><td>1680</td><td>8080</td><td>1.0</td><td>0</td><td>0</td><td>3</td><td>8</td><td>1680</td><td>0</td><td>1987</td><td>0</td><td>98074</td><td>47.6168</td><td>-122.045</td><td>1800</td><td>7503</td><td>2015</td><td>2</td><td>18</td></tr><tr><td>&hellip;</td><td>&hellip;</td><td>&hellip;</td><td>&hellip;</td><td>&hellip;</td><td>&hellip;</td><td>&hellip;</td><td>&hellip;</td><td>&hellip;</td><td>&hellip;</td><td>&hellip;</td><td>&hellip;</td><td>&hellip;</td><td>&hellip;</td><td>&hellip;</td><td>&hellip;</td><td>&hellip;</td><td>&hellip;</td><td>&hellip;</td><td>&hellip;</td><td>&hellip;</td><td>&hellip;</td><td>&hellip;</td></tr><tr><td>263000018</td><td>360000.0</td><td>3</td><td>2.5</td><td>1530</td><td>1131</td><td>3.0</td><td>0</td><td>0</td><td>3</td><td>8</td><td>1530</td><td>0</td><td>2009</td><td>0</td><td>98103</td><td>47.6993</td><td>-122.346</td><td>1530</td><td>1509</td><td>2014</td><td>5</td><td>21</td></tr><tr><td>6600060120</td><td>400000.0</td><td>4</td><td>2.5</td><td>2310</td><td>5813</td><td>2.0</td><td>0</td><td>0</td><td>3</td><td>8</td><td>2310</td><td>0</td><td>2014</td><td>0</td><td>98146</td><td>47.5107</td><td>-122.362</td><td>1830</td><td>7200</td><td>2015</td><td>2</td><td>23</td></tr><tr><td>1523300141</td><td>402101.0</td><td>2</td><td>0.75</td><td>1020</td><td>1350</td><td>2.0</td><td>0</td><td>0</td><td>3</td><td>7</td><td>1020</td><td>0</td><td>2009</td><td>0</td><td>98144</td><td>47.5944</td><td>-122.299</td><td>1020</td><td>2007</td><td>2014</td><td>6</td><td>23</td></tr><tr><td>291310100</td><td>400000.0</td><td>3</td><td>2.5</td><td>1600</td><td>2388</td><td>2.0</td><td>0</td><td>0</td><td>3</td><td>8</td><td>1600</td><td>0</td><td>2004</td><td>0</td><td>98027</td><td>47.5345</td><td>-122.069</td><td>1410</td><td>1287</td><td>2015</td><td>1</td><td>16</td></tr><tr><td>1523300157</td><td>325000.0</td><td>2</td><td>0.75</td><td>1020</td><td>1076</td><td>2.0</td><td>0</td><td>0</td><td>3</td><td>7</td><td>1020</td><td>0</td><td>2008</td><td>0</td><td>98144</td><td>47.5941</td><td>-122.299</td><td>1020</td><td>1357</td><td>2014</td><td>10</td><td>15</td></tr></tbody></table></div>"
      ],
      "text/plain": [
       "shape: (21_613, 23)\n",
       "┌────────────┬──────────┬──────────┬───────────┬───┬────────────┬───────────┬───────────┬──────────┐\n",
       "│ id         ┆ price    ┆ bedrooms ┆ bathrooms ┆ … ┆ sqft_lot15 ┆ date_year ┆ date_mont ┆ date_day │\n",
       "│ ---        ┆ ---      ┆ ---      ┆ ---       ┆   ┆ ---        ┆ ---       ┆ h         ┆ ---      │\n",
       "│ i64        ┆ f64      ┆ i64      ┆ f64       ┆   ┆ i64        ┆ i64       ┆ ---       ┆ i64      │\n",
       "│            ┆          ┆          ┆           ┆   ┆            ┆           ┆ i64       ┆          │\n",
       "╞════════════╪══════════╪══════════╪═══════════╪═══╪════════════╪═══════════╪═══════════╪══════════╡\n",
       "│ 7129300520 ┆ 221900.0 ┆ 3        ┆ 1.0       ┆ … ┆ 5650       ┆ 2014      ┆ 10        ┆ 13       │\n",
       "│ 6414100192 ┆ 538000.0 ┆ 3        ┆ 2.25      ┆ … ┆ 7639       ┆ 2014      ┆ 12        ┆ 9        │\n",
       "│ 5631500400 ┆ 180000.0 ┆ 2        ┆ 1.0       ┆ … ┆ 8062       ┆ 2015      ┆ 2         ┆ 25       │\n",
       "│ 2487200875 ┆ 604000.0 ┆ 4        ┆ 3.0       ┆ … ┆ 5000       ┆ 2014      ┆ 12        ┆ 9        │\n",
       "│ 1954400510 ┆ 510000.0 ┆ 3        ┆ 2.0       ┆ … ┆ 7503       ┆ 2015      ┆ 2         ┆ 18       │\n",
       "│ …          ┆ …        ┆ …        ┆ …         ┆ … ┆ …          ┆ …         ┆ …         ┆ …        │\n",
       "│ 263000018  ┆ 360000.0 ┆ 3        ┆ 2.5       ┆ … ┆ 1509       ┆ 2014      ┆ 5         ┆ 21       │\n",
       "│ 6600060120 ┆ 400000.0 ┆ 4        ┆ 2.5       ┆ … ┆ 7200       ┆ 2015      ┆ 2         ┆ 23       │\n",
       "│ 1523300141 ┆ 402101.0 ┆ 2        ┆ 0.75      ┆ … ┆ 2007       ┆ 2014      ┆ 6         ┆ 23       │\n",
       "│ 291310100  ┆ 400000.0 ┆ 3        ┆ 2.5       ┆ … ┆ 1287       ┆ 2015      ┆ 1         ┆ 16       │\n",
       "│ 1523300157 ┆ 325000.0 ┆ 2        ┆ 0.75      ┆ … ┆ 1357       ┆ 2014      ┆ 10        ┆ 15       │\n",
       "└────────────┴──────────┴──────────┴───────────┴───┴────────────┴───────────┴───────────┴──────────┘"
      ]
     },
     "execution_count": 3,
     "metadata": {},
     "output_type": "execute_result"
    }
   ],
   "source": [
    "# King County House Sales dataset from OpenML (includes Seattle)\n",
    "# this is an ARFF file, which is a text file with a specific format\n",
    "url = 'https://www.openml.org/data/download/22044765/dataset'\n",
    "cols = ['id', 'price', 'bedrooms', 'bathrooms', 'sqft_living', 'sqft_lot', 'floors', 'waterfront', 'view', \n",
    "        'condition', 'grade', 'sqft_above', 'sqft_basement', 'yr_built', 'yr_renovated',\n",
    "        'zipcode', 'lat', 'long', 'sqft_living15', 'sqft_lot15', 'date_year', 'date_month', 'date_day']\n",
    "\n",
    "raw = pl.read_csv(url, new_columns=cols, skip_rows=31, has_header=False)\n",
    "raw"
   ]
  },
  {
   "cell_type": "code",
   "execution_count": null,
   "metadata": {},
   "outputs": [],
   "source": [
    "raw.describe()"
   ]
  },
  {
   "cell_type": "code",
   "execution_count": null,
   "metadata": {},
   "outputs": [],
   "source": [
    "raw.corr()"
   ]
  },
  {
   "cell_type": "code",
   "execution_count": null,
   "metadata": {},
   "outputs": [],
   "source": [
    "(raw\n",
    " .to_pandas(use_pyarrow_extension_array=True)\n",
    " .corr()\n",
    " .style.background_gradient(cmap='RdBu', vmin=-1, vmax=1)\n",
    ")"
   ]
  },
  {
   "cell_type": "code",
   "execution_count": null,
   "metadata": {},
   "outputs": [],
   "source": [
    "(raw\n",
    " .plot.scatter('sqft_living', 'price', alpha=0.1)\n",
    ")"
   ]
  },
  {
   "cell_type": "code",
   "execution_count": null,
   "metadata": {},
   "outputs": [],
   "source": [
    "(raw\n",
    " .group_by('date_month', 'zipcode')\n",
    " .agg(pl.col('price').mean())\n",
    " .plot.line('date_month', 'price', by='zipcode')\n",
    " )"
   ]
  },
  {
   "cell_type": "code",
   "execution_count": null,
   "metadata": {},
   "outputs": [],
   "source": [
    "(raw\n",
    " .group_by('date_month', 'zipcode')\n",
    " .agg(pl.col('price').mean())\n",
    " .sort('date_month')\n",
    " .plot.line('date_month', 'price', by='zipcode', alpha=0.5)\n",
    " )"
   ]
  },
  {
   "cell_type": "code",
   "execution_count": null,
   "metadata": {},
   "outputs": [],
   "source": [
    "# lat/long scatter plot\n",
    "(raw\n",
    " .sort('price')\n",
    " .plot.scatter(x='long', y='lat', alpha=0.5, c='price', s=1)\n",
    ")"
   ]
  },
  {
   "cell_type": "code",
   "execution_count": null,
   "metadata": {},
   "outputs": [],
   "source": [
    "# lat/long scatter plot\n",
    "(raw\n",
    " .filter(pl.col('price') > 1_000_000)\n",
    " .sort('price')\n",
    " .plot.scatter(x='long', y='lat', alpha=0.5, c='price', s=1)\n",
    ")"
   ]
  },
  {
   "cell_type": "code",
   "execution_count": null,
   "metadata": {},
   "outputs": [],
   "source": []
  },
  {
   "cell_type": "code",
   "execution_count": null,
   "metadata": {},
   "outputs": [],
   "source": []
  },
  {
   "cell_type": "markdown",
   "metadata": {},
   "source": [
    "\n",
    "## Data Preprocessing\n"
   ]
  },
  {
   "cell_type": "code",
   "execution_count": 4,
   "metadata": {},
   "outputs": [
    {
     "data": {
      "text/html": [
       "<div><style>\n",
       ".dataframe > thead > tr,\n",
       ".dataframe > tbody > tr {\n",
       "  text-align: right;\n",
       "  white-space: pre-wrap;\n",
       "}\n",
       "</style>\n",
       "<small>shape: (21_613, 21)</small><table border=\"1\" class=\"dataframe\"><thead><tr><th>id</th><th>price</th><th>bedrooms</th><th>bathrooms</th><th>sqft_living</th><th>sqft_lot</th><th>floors</th><th>waterfront</th><th>view</th><th>condition</th><th>grade</th><th>sqft_above</th><th>sqft_basement</th><th>yr_built</th><th>yr_renovated</th><th>zipcode</th><th>lat</th><th>long</th><th>sqft_living15</th><th>sqft_lot15</th><th>date</th></tr><tr><td>i64</td><td>f64</td><td>i64</td><td>f64</td><td>i64</td><td>i64</td><td>f64</td><td>i64</td><td>i64</td><td>i64</td><td>i64</td><td>i64</td><td>i64</td><td>i64</td><td>i64</td><td>cat</td><td>f64</td><td>f64</td><td>i64</td><td>i64</td><td>date</td></tr></thead><tbody><tr><td>7129300520</td><td>221900.0</td><td>3</td><td>1.0</td><td>1180</td><td>5650</td><td>1.0</td><td>0</td><td>0</td><td>3</td><td>7</td><td>1180</td><td>0</td><td>1955</td><td>null</td><td>&quot;98178&quot;</td><td>47.5112</td><td>-122.257</td><td>1340</td><td>5650</td><td>2014-10-13</td></tr><tr><td>6414100192</td><td>538000.0</td><td>3</td><td>2.25</td><td>2570</td><td>7242</td><td>2.0</td><td>0</td><td>0</td><td>3</td><td>7</td><td>2170</td><td>400</td><td>1951</td><td>1991</td><td>&quot;98125&quot;</td><td>47.721</td><td>-122.319</td><td>1690</td><td>7639</td><td>2014-12-09</td></tr><tr><td>5631500400</td><td>180000.0</td><td>2</td><td>1.0</td><td>770</td><td>10000</td><td>1.0</td><td>0</td><td>0</td><td>3</td><td>6</td><td>770</td><td>0</td><td>1933</td><td>null</td><td>&quot;98028&quot;</td><td>47.7379</td><td>-122.233</td><td>2720</td><td>8062</td><td>2015-02-25</td></tr><tr><td>2487200875</td><td>604000.0</td><td>4</td><td>3.0</td><td>1960</td><td>5000</td><td>1.0</td><td>0</td><td>0</td><td>5</td><td>7</td><td>1050</td><td>910</td><td>1965</td><td>null</td><td>&quot;98136&quot;</td><td>47.5208</td><td>-122.393</td><td>1360</td><td>5000</td><td>2014-12-09</td></tr><tr><td>1954400510</td><td>510000.0</td><td>3</td><td>2.0</td><td>1680</td><td>8080</td><td>1.0</td><td>0</td><td>0</td><td>3</td><td>8</td><td>1680</td><td>0</td><td>1987</td><td>null</td><td>&quot;98074&quot;</td><td>47.6168</td><td>-122.045</td><td>1800</td><td>7503</td><td>2015-02-18</td></tr><tr><td>&hellip;</td><td>&hellip;</td><td>&hellip;</td><td>&hellip;</td><td>&hellip;</td><td>&hellip;</td><td>&hellip;</td><td>&hellip;</td><td>&hellip;</td><td>&hellip;</td><td>&hellip;</td><td>&hellip;</td><td>&hellip;</td><td>&hellip;</td><td>&hellip;</td><td>&hellip;</td><td>&hellip;</td><td>&hellip;</td><td>&hellip;</td><td>&hellip;</td><td>&hellip;</td></tr><tr><td>263000018</td><td>360000.0</td><td>3</td><td>2.5</td><td>1530</td><td>1131</td><td>3.0</td><td>0</td><td>0</td><td>3</td><td>8</td><td>1530</td><td>0</td><td>2009</td><td>null</td><td>&quot;98103&quot;</td><td>47.6993</td><td>-122.346</td><td>1530</td><td>1509</td><td>2014-05-21</td></tr><tr><td>6600060120</td><td>400000.0</td><td>4</td><td>2.5</td><td>2310</td><td>5813</td><td>2.0</td><td>0</td><td>0</td><td>3</td><td>8</td><td>2310</td><td>0</td><td>2014</td><td>null</td><td>&quot;98146&quot;</td><td>47.5107</td><td>-122.362</td><td>1830</td><td>7200</td><td>2015-02-23</td></tr><tr><td>1523300141</td><td>402101.0</td><td>2</td><td>0.75</td><td>1020</td><td>1350</td><td>2.0</td><td>0</td><td>0</td><td>3</td><td>7</td><td>1020</td><td>0</td><td>2009</td><td>null</td><td>&quot;98144&quot;</td><td>47.5944</td><td>-122.299</td><td>1020</td><td>2007</td><td>2014-06-23</td></tr><tr><td>291310100</td><td>400000.0</td><td>3</td><td>2.5</td><td>1600</td><td>2388</td><td>2.0</td><td>0</td><td>0</td><td>3</td><td>8</td><td>1600</td><td>0</td><td>2004</td><td>null</td><td>&quot;98027&quot;</td><td>47.5345</td><td>-122.069</td><td>1410</td><td>1287</td><td>2015-01-16</td></tr><tr><td>1523300157</td><td>325000.0</td><td>2</td><td>0.75</td><td>1020</td><td>1076</td><td>2.0</td><td>0</td><td>0</td><td>3</td><td>7</td><td>1020</td><td>0</td><td>2008</td><td>null</td><td>&quot;98144&quot;</td><td>47.5941</td><td>-122.299</td><td>1020</td><td>1357</td><td>2014-10-15</td></tr></tbody></table></div>"
      ],
      "text/plain": [
       "shape: (21_613, 21)\n",
       "┌────────────┬──────────┬──────────┬───────────┬───┬──────────┬────────────┬───────────┬───────────┐\n",
       "│ id         ┆ price    ┆ bedrooms ┆ bathrooms ┆ … ┆ long     ┆ sqft_livin ┆ sqft_lot1 ┆ date      │\n",
       "│ ---        ┆ ---      ┆ ---      ┆ ---       ┆   ┆ ---      ┆ g15        ┆ 5         ┆ ---       │\n",
       "│ i64        ┆ f64      ┆ i64      ┆ f64       ┆   ┆ f64      ┆ ---        ┆ ---       ┆ date      │\n",
       "│            ┆          ┆          ┆           ┆   ┆          ┆ i64        ┆ i64       ┆           │\n",
       "╞════════════╪══════════╪══════════╪═══════════╪═══╪══════════╪════════════╪═══════════╪═══════════╡\n",
       "│ 7129300520 ┆ 221900.0 ┆ 3        ┆ 1.0       ┆ … ┆ -122.257 ┆ 1340       ┆ 5650      ┆ 2014-10-1 │\n",
       "│            ┆          ┆          ┆           ┆   ┆          ┆            ┆           ┆ 3         │\n",
       "│ 6414100192 ┆ 538000.0 ┆ 3        ┆ 2.25      ┆ … ┆ -122.319 ┆ 1690       ┆ 7639      ┆ 2014-12-0 │\n",
       "│            ┆          ┆          ┆           ┆   ┆          ┆            ┆           ┆ 9         │\n",
       "│ 5631500400 ┆ 180000.0 ┆ 2        ┆ 1.0       ┆ … ┆ -122.233 ┆ 2720       ┆ 8062      ┆ 2015-02-2 │\n",
       "│            ┆          ┆          ┆           ┆   ┆          ┆            ┆           ┆ 5         │\n",
       "│ 2487200875 ┆ 604000.0 ┆ 4        ┆ 3.0       ┆ … ┆ -122.393 ┆ 1360       ┆ 5000      ┆ 2014-12-0 │\n",
       "│            ┆          ┆          ┆           ┆   ┆          ┆            ┆           ┆ 9         │\n",
       "│ 1954400510 ┆ 510000.0 ┆ 3        ┆ 2.0       ┆ … ┆ -122.045 ┆ 1800       ┆ 7503      ┆ 2015-02-1 │\n",
       "│            ┆          ┆          ┆           ┆   ┆          ┆            ┆           ┆ 8         │\n",
       "│ …          ┆ …        ┆ …        ┆ …         ┆ … ┆ …        ┆ …          ┆ …         ┆ …         │\n",
       "│ 263000018  ┆ 360000.0 ┆ 3        ┆ 2.5       ┆ … ┆ -122.346 ┆ 1530       ┆ 1509      ┆ 2014-05-2 │\n",
       "│            ┆          ┆          ┆           ┆   ┆          ┆            ┆           ┆ 1         │\n",
       "│ 6600060120 ┆ 400000.0 ┆ 4        ┆ 2.5       ┆ … ┆ -122.362 ┆ 1830       ┆ 7200      ┆ 2015-02-2 │\n",
       "│            ┆          ┆          ┆           ┆   ┆          ┆            ┆           ┆ 3         │\n",
       "│ 1523300141 ┆ 402101.0 ┆ 2        ┆ 0.75      ┆ … ┆ -122.299 ┆ 1020       ┆ 2007      ┆ 2014-06-2 │\n",
       "│            ┆          ┆          ┆           ┆   ┆          ┆            ┆           ┆ 3         │\n",
       "│ 291310100  ┆ 400000.0 ┆ 3        ┆ 2.5       ┆ … ┆ -122.069 ┆ 1410       ┆ 1287      ┆ 2015-01-1 │\n",
       "│            ┆          ┆          ┆           ┆   ┆          ┆            ┆           ┆ 6         │\n",
       "│ 1523300157 ┆ 325000.0 ┆ 2        ┆ 0.75      ┆ … ┆ -122.299 ┆ 1020       ┆ 1357      ┆ 2014-10-1 │\n",
       "│            ┆          ┆          ┆           ┆   ┆          ┆            ┆           ┆ 5         │\n",
       "└────────────┴──────────┴──────────┴───────────┴───┴──────────┴────────────┴───────────┴───────────┘"
      ]
     },
     "execution_count": 4,
     "metadata": {},
     "output_type": "execute_result"
    }
   ],
   "source": [
    "def tweak_housing(df):\n",
    "    return (df\n",
    "            .with_columns(zipcode=pl.col('zipcode').cast(pl.String).cast(pl.Categorical),\n",
    "                          date=pl.date(pl.col('date_year'), pl.col('date_month'), pl.col('date_day')),\n",
    "                          yr_renovated=pl.col('yr_renovated').replace(0, None),\n",
    "                          )\n",
    "            .select(['id', 'price', 'bedrooms', 'bathrooms', 'sqft_living', 'sqft_lot', 'floors', \n",
    "                     'waterfront', 'view', 'condition', 'grade', 'sqft_above', 'sqft_basement', \n",
    "                     'yr_built', 'yr_renovated', 'zipcode', 'lat', 'long', 'sqft_living15', \n",
    "                     'sqft_lot15', 'date',  #'date_year', 'date_month', 'date_day', \n",
    "                     ])\n",
    "    )\n",
    "\n",
    "tweak_housing(raw)\n",
    "    "
   ]
  },
  {
   "cell_type": "code",
   "execution_count": null,
   "metadata": {},
   "outputs": [],
   "source": []
  },
  {
   "cell_type": "code",
   "execution_count": null,
   "metadata": {},
   "outputs": [],
   "source": []
  },
  {
   "cell_type": "code",
   "execution_count": null,
   "metadata": {},
   "outputs": [],
   "source": []
  },
  {
   "cell_type": "markdown",
   "metadata": {},
   "source": [
    "\n",
    "## Sklearn Pipelines\n"
   ]
  },
  {
   "cell_type": "code",
   "execution_count": 5,
   "metadata": {
    "scrolled": true
   },
   "outputs": [],
   "source": [
    "# The difference between sklearn pipelines and transformers is \n",
    "# that a pipeline is a sequence of steps. A transformer transforms\n",
    "# the data, and a pipeline is a sequence of transformers.\n",
    "# A ColumnTransformer applies multiple transformers to different\n",
    "# columns of the input data.\n",
    "\n",
    "from sklearn.pipeline import Pipeline\n",
    "from sklearn.compose import ColumnTransformer\n",
    "from sklearn.preprocessing import StandardScaler, OneHotEncoder\n",
    "from sklearn.impute import SimpleImputer\n",
    "from sklearn.model_selection import train_test_split\n",
    "from sklearn.preprocessing import FunctionTransformer\n",
    "from sklearn.base import BaseEstimator, TransformerMixin\n",
    "# use pandas output for sklearn\n",
    "from sklearn import set_config\n",
    "set_config(transform_output='polars')"
   ]
  },
  {
   "cell_type": "code",
   "execution_count": 6,
   "metadata": {},
   "outputs": [
    {
     "name": "stdout",
     "output_type": "stream",
     "text": [
      "['id', 'price', 'bedrooms', 'bathrooms', 'sqft_living', 'sqft_lot', 'floors', 'waterfront', 'view', 'condition', 'grade', 'sqft_above', 'sqft_basement', 'yr_built', 'yr_renovated', 'lat', 'long', 'sqft_living15', 'sqft_lot15']\n"
     ]
    }
   ],
   "source": [
    "print(tweak_housing(raw).select(cs.numeric()).columns)"
   ]
  },
  {
   "cell_type": "code",
   "execution_count": null,
   "metadata": {
    "collapsed": true,
    "jupyter": {
     "outputs_hidden": true
    },
    "scrolled": true
   },
   "outputs": [],
   "source": [
    "numeric_features = ['bedrooms', 'bathrooms', 'sqft_living']\n",
    "std = StandardScaler()\n",
    "std.fit_transform(tweak_housing(raw).select(numeric_features))"
   ]
  },
  {
   "cell_type": "code",
   "execution_count": null,
   "metadata": {
    "collapsed": true,
    "jupyter": {
     "outputs_hidden": true
    }
   },
   "outputs": [],
   "source": [
    "numeric_features = ['bedrooms', 'bathrooms', 'sqft_living']\n",
    "\n",
    "num_pipeline = Pipeline([\n",
    "     ('std', StandardScaler())])\n",
    "\n",
    "num_pipeline.fit_transform(\n",
    "    tweak_housing(raw)\n",
    "    .select(numeric_features)\n",
    ")"
   ]
  },
  {
   "cell_type": "code",
   "execution_count": null,
   "metadata": {
    "collapsed": true,
    "jupyter": {
     "outputs_hidden": true
    },
    "scrolled": true
   },
   "outputs": [],
   "source": [
    "# add another step\n",
    "numeric_features = ['bedrooms', 'bathrooms', 'sqft_living']\n",
    "\n",
    "num_pipeline = Pipeline([\n",
    "    ('imputer', SimpleImputer(strategy='median')),\n",
    "    ('std', StandardScaler())])\n",
    "\n",
    "num_pipeline.fit_transform(\n",
    "    tweak_housing(raw)\n",
    "    .select(numeric_features)\n",
    ")"
   ]
  },
  {
   "cell_type": "code",
   "execution_count": null,
   "metadata": {
    "scrolled": true
   },
   "outputs": [],
   "source": [
    "cat_features = ['zipcode']\n",
    "\n",
    "ohe = OneHotEncoder(handle_unknown='ignore')\n",
    "#                    sparse_output=False)\n",
    "\n",
    "ohe.fit_transform(\n",
    "    tweak_housing(raw)\n",
    "    .select(cat_features)\n",
    ")"
   ]
  },
  {
   "cell_type": "code",
   "execution_count": null,
   "metadata": {
    "scrolled": true
   },
   "outputs": [],
   "source": [
    "cat_features = ['zipcode']\n",
    "\n",
    "ohe = OneHotEncoder(handle_unknown='ignore',\n",
    "                    sparse_output=False)\n",
    "\n",
    "ohe.fit_transform(\n",
    "    tweak_housing(raw)\n",
    "    .select(cat_features)\n",
    ")"
   ]
  },
  {
   "cell_type": "code",
   "execution_count": null,
   "metadata": {
    "collapsed": true,
    "jupyter": {
     "outputs_hidden": true
    }
   },
   "outputs": [],
   "source": [
    "cat_features = ['zipcode']\n",
    "\n",
    "ohe = OneHotEncoder(handle_unknown='ignore',\n",
    "                    sparse_output=False, max_categories=10)\n",
    "\n",
    "ohe.fit_transform(\n",
    "    tweak_housing(raw)\n",
    "    .select(cat_features)\n",
    ")"
   ]
  },
  {
   "cell_type": "code",
   "execution_count": null,
   "metadata": {
    "scrolled": true
   },
   "outputs": [],
   "source": [
    "cat_features = ['zipcode']\n",
    "\n",
    "cat_pipeline = Pipeline(steps=[\n",
    "    ('cat', OneHotEncoder(handle_unknown='ignore', sparse_output=False))])\n",
    "\n",
    "cat_pipeline.set_params(cat__max_categories=10)\n",
    "cat_pipeline.fit_transform(\n",
    "    tweak_housing(raw)\n",
    "    .select(cat_features)\n",
    ")"
   ]
  },
  {
   "cell_type": "code",
   "execution_count": null,
   "metadata": {},
   "outputs": [],
   "source": [
    "# transformer from a function\n",
    "tweak_transformer = FunctionTransformer(tweak_housing)\n",
    "\n",
    "tweak_transformer.fit_transform(raw)"
   ]
  },
  {
   "cell_type": "code",
   "execution_count": null,
   "metadata": {},
   "outputs": [],
   "source": [
    "categorical_features = ['zipcode']\n",
    "\n",
    "numeric_transformer = Pipeline(steps=[\n",
    "    ('imputer', SimpleImputer(strategy='median')),\n",
    "    ('scaler', StandardScaler())])\n",
    "\n",
    "ct = ColumnTransformer(\n",
    "    transformers=[\n",
    "        ('num', numeric_transformer, numeric_features),\n",
    "        ('cat', OneHotEncoder(handle_unknown='ignore',\n",
    "                              sparse_output=False), categorical_features)])\n",
    "\n",
    "ct.fit_transform(\n",
    "    tweak_housing(raw)\n",
    "    .select([*numeric_features, *cat_features])\n",
    ")"
   ]
  },
  {
   "cell_type": "code",
   "execution_count": null,
   "metadata": {},
   "outputs": [],
   "source": [
    "# Custom transformer \n",
    "class ZipAvgPriceAdder(BaseEstimator, TransformerMixin):\n",
    "    def __init__(self):\n",
    "        pass\n",
    "    def fit(self, X, y=None):\n",
    "        # assume X is a polars dataframe\n",
    "        self.zip_avg_price = (X\n",
    "                              .group_by('zipcode')\n",
    "                              .agg(zip_mean=pl.col('price').mean())\n",
    "        )\n",
    "        return self\n",
    "    \n",
    "    def transform(self, X, y=None):\n",
    "        return X.join(self.zip_avg_price, on='zipcode')\n",
    "\n",
    "zip_adder = ZipAvgPriceAdder()\n",
    "zip_adder.fit_transform(raw.select(['zipcode', 'price']))"
   ]
  },
  {
   "cell_type": "code",
   "execution_count": 7,
   "metadata": {
    "scrolled": true
   },
   "outputs": [
    {
     "data": {
      "text/html": [
       "<div><style>\n",
       ".dataframe > thead > tr,\n",
       ".dataframe > tbody > tr {\n",
       "  text-align: right;\n",
       "  white-space: pre-wrap;\n",
       "}\n",
       "</style>\n",
       "<small>shape: (21_613, 88)</small><table border=\"1\" class=\"dataframe\"><thead><tr><th>num__bedrooms</th><th>num__bathrooms</th><th>num__sqft_living</th><th>num__sqft_lot</th><th>num__floors</th><th>num__waterfront</th><th>num__view</th><th>num__condition</th><th>num__grade</th><th>num__sqft_above</th><th>num__sqft_basement</th><th>num__yr_built</th><th>num__yr_renovated</th><th>num__lat</th><th>num__long</th><th>num__sqft_living15</th><th>num__sqft_lot15</th><th>num__zip_mean</th><th>cat__zipcode_98001</th><th>cat__zipcode_98002</th><th>cat__zipcode_98003</th><th>cat__zipcode_98004</th><th>cat__zipcode_98005</th><th>cat__zipcode_98006</th><th>cat__zipcode_98007</th><th>cat__zipcode_98008</th><th>cat__zipcode_98010</th><th>cat__zipcode_98011</th><th>cat__zipcode_98014</th><th>cat__zipcode_98019</th><th>cat__zipcode_98022</th><th>cat__zipcode_98023</th><th>cat__zipcode_98024</th><th>cat__zipcode_98027</th><th>cat__zipcode_98028</th><th>cat__zipcode_98029</th><th>cat__zipcode_98030</th><th>&hellip;</th><th>cat__zipcode_98059</th><th>cat__zipcode_98065</th><th>cat__zipcode_98070</th><th>cat__zipcode_98072</th><th>cat__zipcode_98074</th><th>cat__zipcode_98075</th><th>cat__zipcode_98077</th><th>cat__zipcode_98092</th><th>cat__zipcode_98102</th><th>cat__zipcode_98103</th><th>cat__zipcode_98105</th><th>cat__zipcode_98106</th><th>cat__zipcode_98107</th><th>cat__zipcode_98108</th><th>cat__zipcode_98109</th><th>cat__zipcode_98112</th><th>cat__zipcode_98115</th><th>cat__zipcode_98116</th><th>cat__zipcode_98117</th><th>cat__zipcode_98118</th><th>cat__zipcode_98119</th><th>cat__zipcode_98122</th><th>cat__zipcode_98125</th><th>cat__zipcode_98126</th><th>cat__zipcode_98133</th><th>cat__zipcode_98136</th><th>cat__zipcode_98144</th><th>cat__zipcode_98146</th><th>cat__zipcode_98148</th><th>cat__zipcode_98155</th><th>cat__zipcode_98166</th><th>cat__zipcode_98168</th><th>cat__zipcode_98177</th><th>cat__zipcode_98178</th><th>cat__zipcode_98188</th><th>cat__zipcode_98198</th><th>cat__zipcode_98199</th></tr><tr><td>f64</td><td>f64</td><td>f64</td><td>f64</td><td>f64</td><td>f64</td><td>f64</td><td>f64</td><td>f64</td><td>f64</td><td>f64</td><td>f64</td><td>f64</td><td>f64</td><td>f64</td><td>f64</td><td>f64</td><td>f64</td><td>f64</td><td>f64</td><td>f64</td><td>f64</td><td>f64</td><td>f64</td><td>f64</td><td>f64</td><td>f64</td><td>f64</td><td>f64</td><td>f64</td><td>f64</td><td>f64</td><td>f64</td><td>f64</td><td>f64</td><td>f64</td><td>f64</td><td>&hellip;</td><td>f64</td><td>f64</td><td>f64</td><td>f64</td><td>f64</td><td>f64</td><td>f64</td><td>f64</td><td>f64</td><td>f64</td><td>f64</td><td>f64</td><td>f64</td><td>f64</td><td>f64</td><td>f64</td><td>f64</td><td>f64</td><td>f64</td><td>f64</td><td>f64</td><td>f64</td><td>f64</td><td>f64</td><td>f64</td><td>f64</td><td>f64</td><td>f64</td><td>f64</td><td>f64</td><td>f64</td><td>f64</td><td>f64</td><td>f64</td><td>f64</td><td>f64</td><td>f64</td></tr></thead><tbody><tr><td>-0.398737</td><td>-1.447464</td><td>-0.979835</td><td>-0.228321</td><td>-0.915427</td><td>-0.087173</td><td>-0.305759</td><td>-0.629187</td><td>-0.558836</td><td>-0.734708</td><td>-0.658681</td><td>-0.544898</td><td>0.053508</td><td>-0.352572</td><td>-0.306079</td><td>-0.943355</td><td>-0.260715</td><td>-0.979321</td><td>0.0</td><td>0.0</td><td>0.0</td><td>0.0</td><td>0.0</td><td>0.0</td><td>0.0</td><td>0.0</td><td>0.0</td><td>0.0</td><td>0.0</td><td>0.0</td><td>0.0</td><td>0.0</td><td>0.0</td><td>0.0</td><td>0.0</td><td>0.0</td><td>0.0</td><td>&hellip;</td><td>0.0</td><td>0.0</td><td>0.0</td><td>0.0</td><td>0.0</td><td>0.0</td><td>0.0</td><td>0.0</td><td>0.0</td><td>0.0</td><td>0.0</td><td>0.0</td><td>0.0</td><td>0.0</td><td>0.0</td><td>0.0</td><td>0.0</td><td>0.0</td><td>0.0</td><td>0.0</td><td>0.0</td><td>0.0</td><td>0.0</td><td>0.0</td><td>0.0</td><td>0.0</td><td>0.0</td><td>0.0</td><td>0.0</td><td>0.0</td><td>0.0</td><td>0.0</td><td>0.0</td><td>1.0</td><td>0.0</td><td>0.0</td><td>0.0</td></tr><tr><td>-0.398737</td><td>0.175607</td><td>0.533634</td><td>-0.189885</td><td>0.936506</td><td>-0.087173</td><td>-0.305759</td><td>-0.629187</td><td>-0.558836</td><td>0.460841</td><td>0.245141</td><td>-0.681079</td><td>-2.67545</td><td>1.161568</td><td>-0.746341</td><td>-0.432686</td><td>-0.187868</td><td>-0.301434</td><td>0.0</td><td>0.0</td><td>0.0</td><td>0.0</td><td>0.0</td><td>0.0</td><td>0.0</td><td>0.0</td><td>0.0</td><td>0.0</td><td>0.0</td><td>0.0</td><td>0.0</td><td>0.0</td><td>0.0</td><td>0.0</td><td>0.0</td><td>0.0</td><td>0.0</td><td>&hellip;</td><td>0.0</td><td>0.0</td><td>0.0</td><td>0.0</td><td>0.0</td><td>0.0</td><td>0.0</td><td>0.0</td><td>0.0</td><td>0.0</td><td>0.0</td><td>0.0</td><td>0.0</td><td>0.0</td><td>0.0</td><td>0.0</td><td>0.0</td><td>0.0</td><td>0.0</td><td>0.0</td><td>0.0</td><td>0.0</td><td>1.0</td><td>0.0</td><td>0.0</td><td>0.0</td><td>0.0</td><td>0.0</td><td>0.0</td><td>0.0</td><td>0.0</td><td>0.0</td><td>0.0</td><td>0.0</td><td>0.0</td><td>0.0</td><td>0.0</td></tr><tr><td>-1.473959</td><td>-1.447464</td><td>-1.426254</td><td>-0.123298</td><td>-0.915427</td><td>-0.087173</td><td>-0.305759</td><td>-0.629187</td><td>-1.409587</td><td>-1.229834</td><td>-0.658681</td><td>-1.293892</td><td>0.053508</td><td>1.283537</td><td>-0.135655</td><td>1.07014</td><td>-0.172375</td><td>-0.331204</td><td>0.0</td><td>0.0</td><td>0.0</td><td>0.0</td><td>0.0</td><td>0.0</td><td>0.0</td><td>0.0</td><td>0.0</td><td>0.0</td><td>0.0</td><td>0.0</td><td>0.0</td><td>0.0</td><td>0.0</td><td>0.0</td><td>1.0</td><td>0.0</td><td>0.0</td><td>&hellip;</td><td>0.0</td><td>0.0</td><td>0.0</td><td>0.0</td><td>0.0</td><td>0.0</td><td>0.0</td><td>0.0</td><td>0.0</td><td>0.0</td><td>0.0</td><td>0.0</td><td>0.0</td><td>0.0</td><td>0.0</td><td>0.0</td><td>0.0</td><td>0.0</td><td>0.0</td><td>0.0</td><td>0.0</td><td>0.0</td><td>0.0</td><td>0.0</td><td>0.0</td><td>0.0</td><td>0.0</td><td>0.0</td><td>0.0</td><td>0.0</td><td>0.0</td><td>0.0</td><td>0.0</td><td>0.0</td><td>0.0</td><td>0.0</td><td>0.0</td></tr><tr><td>0.676485</td><td>1.149449</td><td>-0.13055</td><td>-0.244014</td><td>-0.915427</td><td>-0.087173</td><td>-0.305759</td><td>2.444294</td><td>-0.558836</td><td>-0.891699</td><td>1.397515</td><td>-0.204446</td><td>0.053508</td><td>-0.283288</td><td>-1.271816</td><td>-0.914174</td><td>-0.284522</td><td>0.049507</td><td>0.0</td><td>0.0</td><td>0.0</td><td>0.0</td><td>0.0</td><td>0.0</td><td>0.0</td><td>0.0</td><td>0.0</td><td>0.0</td><td>0.0</td><td>0.0</td><td>0.0</td><td>0.0</td><td>0.0</td><td>0.0</td><td>0.0</td><td>0.0</td><td>0.0</td><td>&hellip;</td><td>0.0</td><td>0.0</td><td>0.0</td><td>0.0</td><td>0.0</td><td>0.0</td><td>0.0</td><td>0.0</td><td>0.0</td><td>0.0</td><td>0.0</td><td>0.0</td><td>0.0</td><td>0.0</td><td>0.0</td><td>0.0</td><td>0.0</td><td>0.0</td><td>0.0</td><td>0.0</td><td>0.0</td><td>0.0</td><td>0.0</td><td>0.0</td><td>0.0</td><td>1.0</td><td>0.0</td><td>0.0</td><td>0.0</td><td>0.0</td><td>0.0</td><td>0.0</td><td>0.0</td><td>0.0</td><td>0.0</td><td>0.0</td><td>0.0</td></tr><tr><td>-0.398737</td><td>-0.149007</td><td>-0.435422</td><td>-0.169653</td><td>-0.915427</td><td>-0.087173</td><td>-0.305759</td><td>-0.629187</td><td>0.291916</td><td>-0.130895</td><td>-0.658681</td><td>0.544548</td><td>0.053508</td><td>0.40955</td><td>1.199335</td><td>-0.27219</td><td>-0.192849</td><td>0.621019</td><td>0.0</td><td>0.0</td><td>0.0</td><td>0.0</td><td>0.0</td><td>0.0</td><td>0.0</td><td>0.0</td><td>0.0</td><td>0.0</td><td>0.0</td><td>0.0</td><td>0.0</td><td>0.0</td><td>0.0</td><td>0.0</td><td>0.0</td><td>0.0</td><td>0.0</td><td>&hellip;</td><td>0.0</td><td>0.0</td><td>0.0</td><td>0.0</td><td>1.0</td><td>0.0</td><td>0.0</td><td>0.0</td><td>0.0</td><td>0.0</td><td>0.0</td><td>0.0</td><td>0.0</td><td>0.0</td><td>0.0</td><td>0.0</td><td>0.0</td><td>0.0</td><td>0.0</td><td>0.0</td><td>0.0</td><td>0.0</td><td>0.0</td><td>0.0</td><td>0.0</td><td>0.0</td><td>0.0</td><td>0.0</td><td>0.0</td><td>0.0</td><td>0.0</td><td>0.0</td><td>0.0</td><td>0.0</td><td>0.0</td><td>0.0</td><td>0.0</td></tr><tr><td>&hellip;</td><td>&hellip;</td><td>&hellip;</td><td>&hellip;</td><td>&hellip;</td><td>&hellip;</td><td>&hellip;</td><td>&hellip;</td><td>&hellip;</td><td>&hellip;</td><td>&hellip;</td><td>&hellip;</td><td>&hellip;</td><td>&hellip;</td><td>&hellip;</td><td>&hellip;</td><td>&hellip;</td><td>&hellip;</td><td>&hellip;</td><td>&hellip;</td><td>&hellip;</td><td>&hellip;</td><td>&hellip;</td><td>&hellip;</td><td>&hellip;</td><td>&hellip;</td><td>&hellip;</td><td>&hellip;</td><td>&hellip;</td><td>&hellip;</td><td>&hellip;</td><td>&hellip;</td><td>&hellip;</td><td>&hellip;</td><td>&hellip;</td><td>&hellip;</td><td>&hellip;</td><td>&hellip;</td><td>&hellip;</td><td>&hellip;</td><td>&hellip;</td><td>&hellip;</td><td>&hellip;</td><td>&hellip;</td><td>&hellip;</td><td>&hellip;</td><td>&hellip;</td><td>&hellip;</td><td>&hellip;</td><td>&hellip;</td><td>&hellip;</td><td>&hellip;</td><td>&hellip;</td><td>&hellip;</td><td>&hellip;</td><td>&hellip;</td><td>&hellip;</td><td>&hellip;</td><td>&hellip;</td><td>&hellip;</td><td>&hellip;</td><td>&hellip;</td><td>&hellip;</td><td>&hellip;</td><td>&hellip;</td><td>&hellip;</td><td>&hellip;</td><td>&hellip;</td><td>&hellip;</td><td>&hellip;</td><td>&hellip;</td><td>&hellip;</td><td>&hellip;</td><td>&hellip;</td><td>&hellip;</td></tr><tr><td>-0.398737</td><td>0.500221</td><td>-0.598746</td><td>-0.337424</td><td>2.788439</td><td>-0.087173</td><td>-0.305759</td><td>-0.629187</td><td>0.291916</td><td>-0.312039</td><td>-0.658681</td><td>1.293542</td><td>0.053508</td><td>1.004958</td><td>-0.938069</td><td>-0.666135</td><td>-0.412381</td><td>0.191323</td><td>0.0</td><td>0.0</td><td>0.0</td><td>0.0</td><td>0.0</td><td>0.0</td><td>0.0</td><td>0.0</td><td>0.0</td><td>0.0</td><td>0.0</td><td>0.0</td><td>0.0</td><td>0.0</td><td>0.0</td><td>0.0</td><td>0.0</td><td>0.0</td><td>0.0</td><td>&hellip;</td><td>0.0</td><td>0.0</td><td>0.0</td><td>0.0</td><td>0.0</td><td>0.0</td><td>0.0</td><td>0.0</td><td>0.0</td><td>1.0</td><td>0.0</td><td>0.0</td><td>0.0</td><td>0.0</td><td>0.0</td><td>0.0</td><td>0.0</td><td>0.0</td><td>0.0</td><td>0.0</td><td>0.0</td><td>0.0</td><td>0.0</td><td>0.0</td><td>0.0</td><td>0.0</td><td>0.0</td><td>0.0</td><td>0.0</td><td>0.0</td><td>0.0</td><td>0.0</td><td>0.0</td><td>0.0</td><td>0.0</td><td>0.0</td><td>0.0</td></tr><tr><td>0.676485</td><td>0.500221</td><td>0.250539</td><td>-0.224386</td><td>0.936506</td><td>-0.087173</td><td>-0.305759</td><td>-0.629187</td><td>0.291916</td><td>0.629908</td><td>-0.658681</td><td>1.463768</td><td>0.053508</td><td>-0.35618</td><td>-1.051685</td><td>-0.228419</td><td>-0.203946</td><td>-0.770759</td><td>0.0</td><td>0.0</td><td>0.0</td><td>0.0</td><td>0.0</td><td>0.0</td><td>0.0</td><td>0.0</td><td>0.0</td><td>0.0</td><td>0.0</td><td>0.0</td><td>0.0</td><td>0.0</td><td>0.0</td><td>0.0</td><td>0.0</td><td>0.0</td><td>0.0</td><td>&hellip;</td><td>0.0</td><td>0.0</td><td>0.0</td><td>0.0</td><td>0.0</td><td>0.0</td><td>0.0</td><td>0.0</td><td>0.0</td><td>0.0</td><td>0.0</td><td>0.0</td><td>0.0</td><td>0.0</td><td>0.0</td><td>0.0</td><td>0.0</td><td>0.0</td><td>0.0</td><td>0.0</td><td>0.0</td><td>0.0</td><td>0.0</td><td>0.0</td><td>0.0</td><td>0.0</td><td>0.0</td><td>1.0</td><td>0.0</td><td>0.0</td><td>0.0</td><td>0.0</td><td>0.0</td><td>0.0</td><td>0.0</td><td>0.0</td><td>0.0</td></tr><tr><td>-1.473959</td><td>-1.772078</td><td>-1.154047</td><td>-0.332137</td><td>0.936506</td><td>-0.087173</td><td>-0.305759</td><td>-0.629187</td><td>-0.558836</td><td>-0.927928</td><td>-0.658681</td><td>1.293542</td><td>0.053508</td><td>0.247888</td><td>-0.604321</td><td>-1.410253</td><td>-0.394141</td><td>0.232414</td><td>0.0</td><td>0.0</td><td>0.0</td><td>0.0</td><td>0.0</td><td>0.0</td><td>0.0</td><td>0.0</td><td>0.0</td><td>0.0</td><td>0.0</td><td>0.0</td><td>0.0</td><td>0.0</td><td>0.0</td><td>0.0</td><td>0.0</td><td>0.0</td><td>0.0</td><td>&hellip;</td><td>0.0</td><td>0.0</td><td>0.0</td><td>0.0</td><td>0.0</td><td>0.0</td><td>0.0</td><td>0.0</td><td>0.0</td><td>0.0</td><td>0.0</td><td>0.0</td><td>0.0</td><td>0.0</td><td>0.0</td><td>0.0</td><td>0.0</td><td>0.0</td><td>0.0</td><td>0.0</td><td>0.0</td><td>0.0</td><td>0.0</td><td>0.0</td><td>0.0</td><td>0.0</td><td>1.0</td><td>0.0</td><td>0.0</td><td>0.0</td><td>0.0</td><td>0.0</td><td>0.0</td><td>0.0</td><td>0.0</td><td>0.0</td><td>0.0</td></tr><tr><td>-0.398737</td><td>0.500221</td><td>-0.522528</td><td>-0.307076</td><td>0.936506</td><td>-0.087173</td><td>-0.305759</td><td>-0.629187</td><td>0.291916</td><td>-0.227505</td><td>-0.658681</td><td>1.123316</td><td>0.053508</td><td>-0.184414</td><td>1.02891</td><td>-0.841221</td><td>-0.420511</td><td>0.328193</td><td>0.0</td><td>0.0</td><td>0.0</td><td>0.0</td><td>0.0</td><td>0.0</td><td>0.0</td><td>0.0</td><td>0.0</td><td>0.0</td><td>0.0</td><td>0.0</td><td>0.0</td><td>0.0</td><td>0.0</td><td>1.0</td><td>0.0</td><td>0.0</td><td>0.0</td><td>&hellip;</td><td>0.0</td><td>0.0</td><td>0.0</td><td>0.0</td><td>0.0</td><td>0.0</td><td>0.0</td><td>0.0</td><td>0.0</td><td>0.0</td><td>0.0</td><td>0.0</td><td>0.0</td><td>0.0</td><td>0.0</td><td>0.0</td><td>0.0</td><td>0.0</td><td>0.0</td><td>0.0</td><td>0.0</td><td>0.0</td><td>0.0</td><td>0.0</td><td>0.0</td><td>0.0</td><td>0.0</td><td>0.0</td><td>0.0</td><td>0.0</td><td>0.0</td><td>0.0</td><td>0.0</td><td>0.0</td><td>0.0</td><td>0.0</td><td>0.0</td></tr><tr><td>-1.473959</td><td>-1.772078</td><td>-1.154047</td><td>-0.338752</td><td>0.936506</td><td>-0.087173</td><td>-0.305759</td><td>-0.629187</td><td>-0.558836</td><td>-0.927928</td><td>-0.658681</td><td>1.259497</td><td>0.053508</td><td>0.245723</td><td>-0.604321</td><td>-1.410253</td><td>-0.417948</td><td>0.232414</td><td>0.0</td><td>0.0</td><td>0.0</td><td>0.0</td><td>0.0</td><td>0.0</td><td>0.0</td><td>0.0</td><td>0.0</td><td>0.0</td><td>0.0</td><td>0.0</td><td>0.0</td><td>0.0</td><td>0.0</td><td>0.0</td><td>0.0</td><td>0.0</td><td>0.0</td><td>&hellip;</td><td>0.0</td><td>0.0</td><td>0.0</td><td>0.0</td><td>0.0</td><td>0.0</td><td>0.0</td><td>0.0</td><td>0.0</td><td>0.0</td><td>0.0</td><td>0.0</td><td>0.0</td><td>0.0</td><td>0.0</td><td>0.0</td><td>0.0</td><td>0.0</td><td>0.0</td><td>0.0</td><td>0.0</td><td>0.0</td><td>0.0</td><td>0.0</td><td>0.0</td><td>0.0</td><td>1.0</td><td>0.0</td><td>0.0</td><td>0.0</td><td>0.0</td><td>0.0</td><td>0.0</td><td>0.0</td><td>0.0</td><td>0.0</td><td>0.0</td></tr></tbody></table></div>"
      ],
      "text/plain": [
       "shape: (21_613, 88)\n",
       "┌───────────┬───────────┬───────────┬───────────┬───┬───────────┬───────────┬───────────┬──────────┐\n",
       "│ num__bedr ┆ num__bath ┆ num__sqft ┆ num__sqft ┆ … ┆ cat__zipc ┆ cat__zipc ┆ cat__zipc ┆ cat__zip │\n",
       "│ ooms      ┆ rooms     ┆ _living   ┆ _lot      ┆   ┆ ode_98178 ┆ ode_98188 ┆ ode_98198 ┆ code_981 │\n",
       "│ ---       ┆ ---       ┆ ---       ┆ ---       ┆   ┆ ---       ┆ ---       ┆ ---       ┆ 99       │\n",
       "│ f64       ┆ f64       ┆ f64       ┆ f64       ┆   ┆ f64       ┆ f64       ┆ f64       ┆ ---      │\n",
       "│           ┆           ┆           ┆           ┆   ┆           ┆           ┆           ┆ f64      │\n",
       "╞═══════════╪═══════════╪═══════════╪═══════════╪═══╪═══════════╪═══════════╪═══════════╪══════════╡\n",
       "│ -0.398737 ┆ -1.447464 ┆ -0.979835 ┆ -0.228321 ┆ … ┆ 1.0       ┆ 0.0       ┆ 0.0       ┆ 0.0      │\n",
       "│ -0.398737 ┆ 0.175607  ┆ 0.533634  ┆ -0.189885 ┆ … ┆ 0.0       ┆ 0.0       ┆ 0.0       ┆ 0.0      │\n",
       "│ -1.473959 ┆ -1.447464 ┆ -1.426254 ┆ -0.123298 ┆ … ┆ 0.0       ┆ 0.0       ┆ 0.0       ┆ 0.0      │\n",
       "│ 0.676485  ┆ 1.149449  ┆ -0.13055  ┆ -0.244014 ┆ … ┆ 0.0       ┆ 0.0       ┆ 0.0       ┆ 0.0      │\n",
       "│ -0.398737 ┆ -0.149007 ┆ -0.435422 ┆ -0.169653 ┆ … ┆ 0.0       ┆ 0.0       ┆ 0.0       ┆ 0.0      │\n",
       "│ …         ┆ …         ┆ …         ┆ …         ┆ … ┆ …         ┆ …         ┆ …         ┆ …        │\n",
       "│ -0.398737 ┆ 0.500221  ┆ -0.598746 ┆ -0.337424 ┆ … ┆ 0.0       ┆ 0.0       ┆ 0.0       ┆ 0.0      │\n",
       "│ 0.676485  ┆ 0.500221  ┆ 0.250539  ┆ -0.224386 ┆ … ┆ 0.0       ┆ 0.0       ┆ 0.0       ┆ 0.0      │\n",
       "│ -1.473959 ┆ -1.772078 ┆ -1.154047 ┆ -0.332137 ┆ … ┆ 0.0       ┆ 0.0       ┆ 0.0       ┆ 0.0      │\n",
       "│ -0.398737 ┆ 0.500221  ┆ -0.522528 ┆ -0.307076 ┆ … ┆ 0.0       ┆ 0.0       ┆ 0.0       ┆ 0.0      │\n",
       "│ -1.473959 ┆ -1.772078 ┆ -1.154047 ┆ -0.338752 ┆ … ┆ 0.0       ┆ 0.0       ┆ 0.0       ┆ 0.0      │\n",
       "└───────────┴───────────┴───────────┴───────────┴───┴───────────┴───────────┴───────────┴──────────┘"
      ]
     },
     "execution_count": 7,
     "metadata": {},
     "output_type": "execute_result"
    }
   ],
   "source": [
    "# make the pipeline\n",
    "numeric_features = ['bedrooms', 'bathrooms', 'sqft_living', 'sqft_lot', 'floors', 'waterfront', 'view', \n",
    "                    'condition', 'grade', 'sqft_above', 'sqft_basement', 'yr_built', 'yr_renovated', \n",
    "                    'lat', 'long', 'sqft_living15', 'sqft_lot15', 'zip_mean']\n",
    "numeric_transformer = Pipeline(steps=[\n",
    "    ('imputer', SimpleImputer(strategy='median')),\n",
    "    ('scaler', StandardScaler())])\n",
    "\n",
    "categorical_features = ['zipcode']\n",
    "\n",
    "preprocessor = ColumnTransformer(\n",
    "    transformers=[\n",
    "        ('num', numeric_transformer, numeric_features),\n",
    "        ('cat', OneHotEncoder(handle_unknown='ignore',\n",
    "                              sparse_output=False), categorical_features)])\n",
    "\n",
    "tweak_transformer = FunctionTransformer(tweak_housing)\n",
    "\n",
    "class ZipAvgPriceAdder(BaseEstimator, TransformerMixin):\n",
    "    def __init__(self):\n",
    "        pass\n",
    "    def fit(self, X, y=None):\n",
    "        # assume X is a polars dataframe\n",
    "        self.zip_avg_price = (X\n",
    "                              .group_by('zipcode')\n",
    "                              .agg(zip_mean=pl.col('price').mean())\n",
    "        )\n",
    "        return self\n",
    "    \n",
    "    def transform(self, X, y=None):\n",
    "        return X.join(self.zip_avg_price, on='zipcode')\n",
    "\n",
    "# Append classifier to preprocessing pipeline.\n",
    "# Now we have a full prediction pipeline.\n",
    "pipe = Pipeline(steps=[('tweak', tweak_transformer),\n",
    "                      ('zip_avg_price', ZipAvgPriceAdder()),\n",
    "                      ('preprocessor', preprocessor),\n",
    "                      ])\n",
    "\n",
    "X = raw #.drop('price')\n",
    "y = raw.select('price') # Note sklearn wants a Polars dataframe for y\n",
    "\n",
    "X_train, X_test, y_train, y_test = train_test_split(X, y, test_size=0.2, random_state=42)\n",
    "\n",
    "pipe.fit_transform(raw, raw.select('price'))"
   ]
  },
  {
   "cell_type": "code",
   "execution_count": null,
   "metadata": {},
   "outputs": [],
   "source": [
    "pipe"
   ]
  },
  {
   "cell_type": "code",
   "execution_count": null,
   "metadata": {},
   "outputs": [],
   "source": [
    "# Note sklearn wants a Polars dataframe for y\n",
    "X = raw #.drop('price')\n",
    "y = raw.select('price') \n",
    "#y = raw['price']\n",
    "\n",
    "X_train, X_test, y_train, y_test = train_test_split(X, y, test_size=0.2, random_state=42)"
   ]
  },
  {
   "cell_type": "code",
   "execution_count": null,
   "metadata": {},
   "outputs": [],
   "source": []
  },
  {
   "cell_type": "code",
   "execution_count": null,
   "metadata": {},
   "outputs": [],
   "source": []
  },
  {
   "cell_type": "code",
   "execution_count": null,
   "metadata": {},
   "outputs": [],
   "source": []
  },
  {
   "cell_type": "code",
   "execution_count": null,
   "metadata": {},
   "outputs": [],
   "source": []
  },
  {
   "cell_type": "code",
   "execution_count": null,
   "metadata": {},
   "outputs": [],
   "source": []
  },
  {
   "cell_type": "markdown",
   "metadata": {
    "jp-MarkdownHeadingCollapsed": true
   },
   "source": [
    "\n",
    "## Challenge\n",
    "\n",
    "Make a plot to explore the relationship between the number of bedrooms and the price of the house."
   ]
  },
  {
   "cell_type": "code",
   "execution_count": null,
   "metadata": {},
   "outputs": [],
   "source": []
  },
  {
   "cell_type": "code",
   "execution_count": null,
   "metadata": {},
   "outputs": [],
   "source": []
  },
  {
   "cell_type": "code",
   "execution_count": null,
   "metadata": {},
   "outputs": [],
   "source": []
  },
  {
   "cell_type": "code",
   "execution_count": null,
   "metadata": {},
   "outputs": [],
   "source": []
  },
  {
   "cell_type": "code",
   "execution_count": null,
   "metadata": {},
   "outputs": [],
   "source": []
  },
  {
   "cell_type": "markdown",
   "metadata": {},
   "source": [
    "\n",
    "## Solution"
   ]
  },
  {
   "cell_type": "code",
   "execution_count": null,
   "metadata": {},
   "outputs": [],
   "source": [
    "(tweak_housing(raw)\n",
    "  .plot.scatter(x='bedrooms', y='price', alpha=.01, yformatter='%.0f')\n",
    ")"
   ]
  },
  {
   "cell_type": "code",
   "execution_count": null,
   "metadata": {},
   "outputs": [],
   "source": [
    "(tweak_housing(raw)\n",
    "  .plot.scatter(x='bedrooms', y='price', alpha=.1, size=1, yformatter='%.0f')\n",
    "  .opts(jitter=.8)\n",
    ")"
   ]
  },
  {
   "cell_type": "code",
   "execution_count": null,
   "metadata": {},
   "outputs": [],
   "source": []
  },
  {
   "cell_type": "code",
   "execution_count": null,
   "metadata": {},
   "outputs": [],
   "source": []
  },
  {
   "cell_type": "code",
   "execution_count": null,
   "metadata": {},
   "outputs": [],
   "source": []
  },
  {
   "cell_type": "code",
   "execution_count": null,
   "metadata": {},
   "outputs": [],
   "source": []
  },
  {
   "cell_type": "code",
   "execution_count": null,
   "metadata": {},
   "outputs": [],
   "source": []
  },
  {
   "cell_type": "markdown",
   "metadata": {
    "vscode": {
     "languageId": "plaintext"
    }
   },
   "source": [
    "# Model Creation\n"
   ]
  },
  {
   "cell_type": "markdown",
   "metadata": {},
   "source": [
    "\n",
    "## Dummy Model\n"
   ]
  },
  {
   "cell_type": "code",
   "execution_count": null,
   "metadata": {
    "scrolled": true
   },
   "outputs": [],
   "source": [
    "from sklearn.dummy import DummyRegressor\n",
    "\n",
    "dummy = DummyRegressor(strategy='mean')\n",
    "y = raw.select('price')\n",
    "X_train, X_test, y_train, y_test = train_test_split(raw, y, test_size=0.2, random_state=42)\n",
    "dummy_pipe = Pipeline(steps=[('tweak', tweak_transformer),\n",
    "                      ('zip_avg_price', ZipAvgPriceAdder()),\n",
    "                      ('preprocessor', preprocessor),\n",
    "                      ('dummy', dummy),\n",
    "                      ])\n",
    "\n",
    "dummy_pipe.fit(X_train, y_train)\n",
    "dummy_pipe.score(X_test, y_test)"
   ]
  },
  {
   "cell_type": "code",
   "execution_count": null,
   "metadata": {},
   "outputs": [],
   "source": [
    "dummy_pipe"
   ]
  },
  {
   "cell_type": "code",
   "execution_count": null,
   "metadata": {
    "scrolled": true
   },
   "outputs": [],
   "source": [
    "dummy_pipe.predict(X_test)"
   ]
  },
  {
   "cell_type": "code",
   "execution_count": null,
   "metadata": {},
   "outputs": [],
   "source": []
  },
  {
   "cell_type": "code",
   "execution_count": null,
   "metadata": {},
   "outputs": [],
   "source": []
  },
  {
   "cell_type": "code",
   "execution_count": null,
   "metadata": {},
   "outputs": [],
   "source": []
  },
  {
   "cell_type": "markdown",
   "metadata": {},
   "source": [
    "\n",
    "## Linear Regression\n"
   ]
  },
  {
   "cell_type": "code",
   "execution_count": 15,
   "metadata": {},
   "outputs": [
    {
     "data": {
      "text/plain": [
       "0.8069953800756082"
      ]
     },
     "execution_count": 15,
     "metadata": {},
     "output_type": "execute_result"
    }
   ],
   "source": [
    "from sklearn.linear_model import LinearRegression\n",
    "\n",
    "\n",
    "lr =  LinearRegression()\n",
    "y = raw.select('price')\n",
    "X_train, X_test, y_train, y_test = train_test_split(raw, y, test_size=0.2, random_state=42)\n",
    "lr_pipe = Pipeline(steps=[('tweak', tweak_transformer),\n",
    "                      ('zip_avg_price', ZipAvgPriceAdder()),\n",
    "                      ('preprocessor', preprocessor),\n",
    "                        ('lr', lr),\n",
    "                      ])\n",
    "\n",
    "lr_pipe.fit(X_train, y_train)\n",
    "lr_pipe.score(X_test, y_test)"
   ]
  },
  {
   "cell_type": "code",
   "execution_count": null,
   "metadata": {},
   "outputs": [],
   "source": [
    "lr_pipe.predict(X_test)"
   ]
  },
  {
   "cell_type": "code",
   "execution_count": null,
   "metadata": {},
   "outputs": [],
   "source": []
  },
  {
   "cell_type": "code",
   "execution_count": null,
   "metadata": {},
   "outputs": [],
   "source": []
  },
  {
   "cell_type": "markdown",
   "metadata": {},
   "source": [
    "\n",
    "## Decision Trees\n"
   ]
  },
  {
   "cell_type": "code",
   "execution_count": 23,
   "metadata": {},
   "outputs": [
    {
     "data": {
      "text/plain": [
       "0.7361694188624901"
      ]
     },
     "execution_count": 23,
     "metadata": {},
     "output_type": "execute_result"
    }
   ],
   "source": [
    "from sklearn.tree import DecisionTreeRegressor\n",
    "\n",
    "\n",
    "dt = DecisionTreeRegressor()\n",
    "y = raw.select('price')\n",
    "X_train, X_test, y_train, y_test = train_test_split(raw, y, test_size=0.2, random_state=42)\n",
    "dt_pipe = Pipeline(steps=[('tweak', tweak_transformer),\n",
    "                      ('zip_avg_price', ZipAvgPriceAdder()),\n",
    "                      ('preprocessor', preprocessor),\n",
    "                      ('dt', dt),\n",
    "                      ])\n",
    "\n",
    "dt_pipe.fit(X_train, y_train)\n",
    "dt_pipe.score(X_test, y_test)"
   ]
  },
  {
   "cell_type": "code",
   "execution_count": null,
   "metadata": {},
   "outputs": [],
   "source": [
    "dt_pipe.set_params(dt__max_depth=1)\n",
    "dt_pipe.fit(X_train, y_train)\n",
    "dt_pipe.score(X_test, y_test)"
   ]
  },
  {
   "cell_type": "code",
   "execution_count": null,
   "metadata": {},
   "outputs": [],
   "source": [
    "dt_pipe.set_params(dt__max_depth=9)\n",
    "dt_pipe.fit(X_train, y_train)\n",
    "dt_pipe.score(X_test, y_test)"
   ]
  },
  {
   "cell_type": "code",
   "execution_count": null,
   "metadata": {},
   "outputs": [],
   "source": []
  },
  {
   "cell_type": "code",
   "execution_count": null,
   "metadata": {},
   "outputs": [],
   "source": []
  },
  {
   "cell_type": "code",
   "execution_count": null,
   "metadata": {},
   "outputs": [],
   "source": []
  },
  {
   "cell_type": "markdown",
   "metadata": {},
   "source": [
    "\n",
    "## CatBoost\n"
   ]
  },
  {
   "cell_type": "code",
   "execution_count": null,
   "metadata": {},
   "outputs": [],
   "source": []
  },
  {
   "cell_type": "code",
   "execution_count": 8,
   "metadata": {
    "scrolled": true
   },
   "outputs": [
    {
     "name": "stdout",
     "output_type": "stream",
     "text": [
      "Learning rate set to 0.064232\n",
      "0:\tlearn: 346982.2594620\ttotal: 58.6ms\tremaining: 58.6s\n",
      "1:\tlearn: 332378.5598059\ttotal: 68.5ms\tremaining: 34.2s\n",
      "2:\tlearn: 319502.6617458\ttotal: 80ms\tremaining: 26.6s\n",
      "3:\tlearn: 307490.7902475\ttotal: 90.4ms\tremaining: 22.5s\n",
      "4:\tlearn: 294940.3225791\ttotal: 100ms\tremaining: 19.9s\n",
      "5:\tlearn: 283907.9796375\ttotal: 109ms\tremaining: 18.1s\n",
      "6:\tlearn: 273592.5548762\ttotal: 113ms\tremaining: 16.1s\n",
      "7:\tlearn: 263472.9134855\ttotal: 117ms\tremaining: 14.5s\n",
      "8:\tlearn: 254884.3331936\ttotal: 120ms\tremaining: 13.2s\n",
      "9:\tlearn: 246261.9209853\ttotal: 124ms\tremaining: 12.2s\n",
      "10:\tlearn: 238183.5765242\ttotal: 127ms\tremaining: 11.4s\n",
      "11:\tlearn: 230600.1564374\ttotal: 132ms\tremaining: 10.8s\n",
      "12:\tlearn: 223779.4367347\ttotal: 135ms\tremaining: 10.3s\n",
      "13:\tlearn: 217021.8170437\ttotal: 138ms\tremaining: 9.75s\n",
      "14:\tlearn: 210875.7711670\ttotal: 142ms\tremaining: 9.3s\n",
      "15:\tlearn: 205122.1910805\ttotal: 145ms\tremaining: 8.94s\n",
      "16:\tlearn: 199643.2642325\ttotal: 149ms\tremaining: 8.61s\n",
      "17:\tlearn: 194468.6623792\ttotal: 152ms\tremaining: 8.3s\n",
      "18:\tlearn: 189919.4312134\ttotal: 156ms\tremaining: 8.03s\n",
      "19:\tlearn: 185677.4637198\ttotal: 159ms\tremaining: 7.8s\n",
      "20:\tlearn: 181651.2824826\ttotal: 165ms\tremaining: 7.71s\n",
      "21:\tlearn: 177935.2576400\ttotal: 169ms\tremaining: 7.51s\n",
      "22:\tlearn: 174375.1961795\ttotal: 172ms\tremaining: 7.32s\n",
      "23:\tlearn: 171214.6470860\ttotal: 176ms\tremaining: 7.15s\n",
      "24:\tlearn: 167893.3642747\ttotal: 179ms\tremaining: 6.99s\n",
      "25:\tlearn: 165076.7673089\ttotal: 183ms\tremaining: 6.84s\n",
      "26:\tlearn: 162303.5073505\ttotal: 186ms\tremaining: 6.71s\n",
      "27:\tlearn: 159779.8463295\ttotal: 191ms\tremaining: 6.63s\n",
      "28:\tlearn: 157421.2203256\ttotal: 195ms\tremaining: 6.51s\n",
      "29:\tlearn: 155190.5628509\ttotal: 198ms\tremaining: 6.4s\n",
      "30:\tlearn: 153006.2455454\ttotal: 202ms\tremaining: 6.32s\n",
      "31:\tlearn: 150976.5367056\ttotal: 205ms\tremaining: 6.21s\n",
      "32:\tlearn: 149090.6868707\ttotal: 209ms\tremaining: 6.12s\n",
      "33:\tlearn: 147409.4967465\ttotal: 212ms\tremaining: 6.03s\n",
      "34:\tlearn: 145892.6036341\ttotal: 215ms\tremaining: 5.94s\n",
      "35:\tlearn: 144270.3995036\ttotal: 219ms\tremaining: 5.86s\n",
      "36:\tlearn: 142696.1940308\ttotal: 222ms\tremaining: 5.78s\n",
      "37:\tlearn: 141396.1066546\ttotal: 225ms\tremaining: 5.71s\n",
      "38:\tlearn: 140081.0236270\ttotal: 229ms\tremaining: 5.64s\n",
      "39:\tlearn: 138942.8187901\ttotal: 232ms\tremaining: 5.58s\n",
      "40:\tlearn: 137669.2903751\ttotal: 240ms\tremaining: 5.62s\n",
      "41:\tlearn: 136486.5123025\ttotal: 247ms\tremaining: 5.62s\n",
      "42:\tlearn: 135486.9106997\ttotal: 250ms\tremaining: 5.56s\n",
      "43:\tlearn: 134642.2860552\ttotal: 253ms\tremaining: 5.5s\n",
      "44:\tlearn: 133659.9987286\ttotal: 256ms\tremaining: 5.44s\n",
      "45:\tlearn: 132888.6204306\ttotal: 260ms\tremaining: 5.38s\n",
      "46:\tlearn: 132024.0947783\ttotal: 263ms\tremaining: 5.33s\n",
      "47:\tlearn: 131211.7944616\ttotal: 267ms\tremaining: 5.3s\n",
      "48:\tlearn: 130440.7730271\ttotal: 270ms\tremaining: 5.25s\n",
      "49:\tlearn: 129641.6623215\ttotal: 274ms\tremaining: 5.2s\n",
      "50:\tlearn: 128918.7958885\ttotal: 277ms\tremaining: 5.16s\n",
      "51:\tlearn: 128302.0083705\ttotal: 280ms\tremaining: 5.11s\n",
      "52:\tlearn: 127604.0632283\ttotal: 284ms\tremaining: 5.07s\n",
      "53:\tlearn: 126909.0951725\ttotal: 287ms\tremaining: 5.03s\n",
      "54:\tlearn: 126343.4695131\ttotal: 290ms\tremaining: 4.99s\n",
      "55:\tlearn: 125654.7154751\ttotal: 294ms\tremaining: 4.96s\n",
      "56:\tlearn: 125204.6487892\ttotal: 298ms\tremaining: 4.93s\n",
      "57:\tlearn: 124734.1758586\ttotal: 301ms\tremaining: 4.89s\n",
      "58:\tlearn: 124232.8193870\ttotal: 305ms\tremaining: 4.87s\n",
      "59:\tlearn: 123745.6899143\ttotal: 308ms\tremaining: 4.83s\n",
      "60:\tlearn: 123270.3271102\ttotal: 312ms\tremaining: 4.8s\n",
      "61:\tlearn: 122824.7943008\ttotal: 315ms\tremaining: 4.76s\n",
      "62:\tlearn: 122335.7886981\ttotal: 318ms\tremaining: 4.73s\n",
      "63:\tlearn: 121889.9187663\ttotal: 322ms\tremaining: 4.7s\n",
      "64:\tlearn: 121504.4471172\ttotal: 325ms\tremaining: 4.67s\n",
      "65:\tlearn: 121022.1842477\ttotal: 328ms\tremaining: 4.64s\n",
      "66:\tlearn: 120615.5955176\ttotal: 332ms\tremaining: 4.62s\n",
      "67:\tlearn: 120250.4504278\ttotal: 335ms\tremaining: 4.59s\n",
      "68:\tlearn: 119914.3060024\ttotal: 340ms\tremaining: 4.58s\n",
      "69:\tlearn: 119554.1457059\ttotal: 343ms\tremaining: 4.55s\n",
      "70:\tlearn: 119193.3820324\ttotal: 346ms\tremaining: 4.53s\n",
      "71:\tlearn: 118857.2524999\ttotal: 349ms\tremaining: 4.5s\n",
      "72:\tlearn: 118544.3417136\ttotal: 353ms\tremaining: 4.48s\n",
      "73:\tlearn: 118199.2337074\ttotal: 356ms\tremaining: 4.46s\n",
      "74:\tlearn: 117702.3628066\ttotal: 360ms\tremaining: 4.44s\n",
      "75:\tlearn: 117413.7671445\ttotal: 363ms\tremaining: 4.42s\n",
      "76:\tlearn: 117110.5790529\ttotal: 366ms\tremaining: 4.39s\n",
      "77:\tlearn: 116762.9446852\ttotal: 370ms\tremaining: 4.37s\n",
      "78:\tlearn: 116494.7122533\ttotal: 373ms\tremaining: 4.35s\n",
      "79:\tlearn: 116227.6263376\ttotal: 376ms\tremaining: 4.32s\n",
      "80:\tlearn: 115968.9739857\ttotal: 379ms\tremaining: 4.3s\n",
      "81:\tlearn: 115717.2621932\ttotal: 382ms\tremaining: 4.28s\n",
      "82:\tlearn: 115528.1171416\ttotal: 387ms\tremaining: 4.27s\n",
      "83:\tlearn: 115246.5327919\ttotal: 390ms\tremaining: 4.25s\n",
      "84:\tlearn: 114979.2764323\ttotal: 393ms\tremaining: 4.23s\n",
      "85:\tlearn: 114704.4535716\ttotal: 397ms\tremaining: 4.22s\n",
      "86:\tlearn: 114542.9043726\ttotal: 400ms\tremaining: 4.2s\n",
      "87:\tlearn: 114392.9602851\ttotal: 403ms\tremaining: 4.18s\n",
      "88:\tlearn: 114125.1751689\ttotal: 406ms\tremaining: 4.16s\n",
      "89:\tlearn: 113900.4832821\ttotal: 409ms\tremaining: 4.14s\n",
      "90:\tlearn: 113587.3096441\ttotal: 413ms\tremaining: 4.12s\n",
      "91:\tlearn: 113397.4847432\ttotal: 416ms\tremaining: 4.1s\n",
      "92:\tlearn: 113227.6329878\ttotal: 419ms\tremaining: 4.08s\n",
      "93:\tlearn: 113030.8111150\ttotal: 422ms\tremaining: 4.07s\n",
      "94:\tlearn: 112831.1923897\ttotal: 427ms\tremaining: 4.06s\n",
      "95:\tlearn: 112689.4239846\ttotal: 430ms\tremaining: 4.05s\n",
      "96:\tlearn: 112524.4358009\ttotal: 434ms\tremaining: 4.04s\n",
      "97:\tlearn: 112340.8462771\ttotal: 439ms\tremaining: 4.04s\n",
      "98:\tlearn: 112227.1604231\ttotal: 442ms\tremaining: 4.02s\n",
      "99:\tlearn: 112036.8378032\ttotal: 445ms\tremaining: 4.01s\n",
      "100:\tlearn: 111872.6600231\ttotal: 449ms\tremaining: 4s\n",
      "101:\tlearn: 111717.9032053\ttotal: 452ms\tremaining: 3.98s\n",
      "102:\tlearn: 111570.3991225\ttotal: 455ms\tremaining: 3.96s\n",
      "103:\tlearn: 111428.5586936\ttotal: 459ms\tremaining: 3.95s\n",
      "104:\tlearn: 111327.7938207\ttotal: 462ms\tremaining: 3.94s\n",
      "105:\tlearn: 111111.0486975\ttotal: 465ms\tremaining: 3.92s\n",
      "106:\tlearn: 110963.2363472\ttotal: 468ms\tremaining: 3.91s\n",
      "107:\tlearn: 110745.8691791\ttotal: 471ms\tremaining: 3.89s\n",
      "108:\tlearn: 110583.9254530\ttotal: 475ms\tremaining: 3.88s\n",
      "109:\tlearn: 110398.6578122\ttotal: 478ms\tremaining: 3.87s\n",
      "110:\tlearn: 110247.2200625\ttotal: 481ms\tremaining: 3.85s\n",
      "111:\tlearn: 110072.2097530\ttotal: 485ms\tremaining: 3.84s\n",
      "112:\tlearn: 109888.3158502\ttotal: 488ms\tremaining: 3.83s\n",
      "113:\tlearn: 109753.3731337\ttotal: 491ms\tremaining: 3.82s\n",
      "114:\tlearn: 109493.6711530\ttotal: 494ms\tremaining: 3.8s\n",
      "115:\tlearn: 109371.1337084\ttotal: 498ms\tremaining: 3.79s\n",
      "116:\tlearn: 109158.2010488\ttotal: 501ms\tremaining: 3.78s\n",
      "117:\tlearn: 108958.2933204\ttotal: 505ms\tremaining: 3.77s\n",
      "118:\tlearn: 108772.0702956\ttotal: 508ms\tremaining: 3.76s\n",
      "119:\tlearn: 108577.6327333\ttotal: 511ms\tremaining: 3.75s\n",
      "120:\tlearn: 108443.3309719\ttotal: 515ms\tremaining: 3.74s\n",
      "121:\tlearn: 108292.7491941\ttotal: 518ms\tremaining: 3.73s\n",
      "122:\tlearn: 108169.8611842\ttotal: 521ms\tremaining: 3.71s\n",
      "123:\tlearn: 107997.8951579\ttotal: 524ms\tremaining: 3.71s\n",
      "124:\tlearn: 107865.9872631\ttotal: 528ms\tremaining: 3.69s\n",
      "125:\tlearn: 107621.1309979\ttotal: 532ms\tremaining: 3.69s\n",
      "126:\tlearn: 107463.8923379\ttotal: 535ms\tremaining: 3.68s\n",
      "127:\tlearn: 107309.9280280\ttotal: 538ms\tremaining: 3.66s\n",
      "128:\tlearn: 107177.6814753\ttotal: 541ms\tremaining: 3.65s\n",
      "129:\tlearn: 107005.4100668\ttotal: 545ms\tremaining: 3.65s\n",
      "130:\tlearn: 106848.7886912\ttotal: 548ms\tremaining: 3.63s\n",
      "131:\tlearn: 106732.8898278\ttotal: 551ms\tremaining: 3.63s\n",
      "132:\tlearn: 106623.8799337\ttotal: 555ms\tremaining: 3.62s\n",
      "133:\tlearn: 106505.3311425\ttotal: 558ms\tremaining: 3.6s\n",
      "134:\tlearn: 106358.0496265\ttotal: 562ms\tremaining: 3.6s\n",
      "135:\tlearn: 106231.6492499\ttotal: 565ms\tremaining: 3.59s\n",
      "136:\tlearn: 106105.5472539\ttotal: 568ms\tremaining: 3.58s\n",
      "137:\tlearn: 106013.4857913\ttotal: 571ms\tremaining: 3.57s\n",
      "138:\tlearn: 105927.8380142\ttotal: 575ms\tremaining: 3.56s\n",
      "139:\tlearn: 105772.4139204\ttotal: 578ms\tremaining: 3.55s\n",
      "140:\tlearn: 105636.5270143\ttotal: 585ms\tremaining: 3.56s\n",
      "141:\tlearn: 105495.9840700\ttotal: 589ms\tremaining: 3.56s\n",
      "142:\tlearn: 105316.8764972\ttotal: 592ms\tremaining: 3.55s\n",
      "143:\tlearn: 105219.3024299\ttotal: 596ms\tremaining: 3.54s\n",
      "144:\tlearn: 105051.2941077\ttotal: 600ms\tremaining: 3.54s\n",
      "145:\tlearn: 104923.8946441\ttotal: 604ms\tremaining: 3.53s\n",
      "146:\tlearn: 104777.5496056\ttotal: 607ms\tremaining: 3.52s\n",
      "147:\tlearn: 104673.6869451\ttotal: 610ms\tremaining: 3.51s\n",
      "148:\tlearn: 104467.0292950\ttotal: 614ms\tremaining: 3.51s\n",
      "149:\tlearn: 104213.5323560\ttotal: 619ms\tremaining: 3.5s\n",
      "150:\tlearn: 104099.9702357\ttotal: 622ms\tremaining: 3.5s\n",
      "151:\tlearn: 103925.2104328\ttotal: 626ms\tremaining: 3.49s\n",
      "152:\tlearn: 103802.0043184\ttotal: 631ms\tremaining: 3.49s\n",
      "153:\tlearn: 103656.6122438\ttotal: 634ms\tremaining: 3.48s\n",
      "154:\tlearn: 103508.8611749\ttotal: 639ms\tremaining: 3.48s\n",
      "155:\tlearn: 103337.8029418\ttotal: 642ms\tremaining: 3.47s\n",
      "156:\tlearn: 103223.5405777\ttotal: 646ms\tremaining: 3.47s\n",
      "157:\tlearn: 103121.7502782\ttotal: 649ms\tremaining: 3.46s\n",
      "158:\tlearn: 103007.1692788\ttotal: 653ms\tremaining: 3.46s\n",
      "159:\tlearn: 102892.9208582\ttotal: 657ms\tremaining: 3.45s\n",
      "160:\tlearn: 102727.7520968\ttotal: 660ms\tremaining: 3.44s\n",
      "161:\tlearn: 102618.8418216\ttotal: 664ms\tremaining: 3.43s\n",
      "162:\tlearn: 102490.8675807\ttotal: 667ms\tremaining: 3.42s\n",
      "163:\tlearn: 102309.0411259\ttotal: 670ms\tremaining: 3.42s\n",
      "164:\tlearn: 102217.8213397\ttotal: 673ms\tremaining: 3.41s\n",
      "165:\tlearn: 102088.4775782\ttotal: 677ms\tremaining: 3.4s\n",
      "166:\tlearn: 101988.7286365\ttotal: 680ms\tremaining: 3.39s\n",
      "167:\tlearn: 101862.3963831\ttotal: 684ms\tremaining: 3.38s\n",
      "168:\tlearn: 101788.7027318\ttotal: 687ms\tremaining: 3.38s\n",
      "169:\tlearn: 101665.3258945\ttotal: 692ms\tremaining: 3.38s\n",
      "170:\tlearn: 101586.3427074\ttotal: 695ms\tremaining: 3.37s\n",
      "171:\tlearn: 101475.3450652\ttotal: 698ms\tremaining: 3.36s\n",
      "172:\tlearn: 101346.7898813\ttotal: 701ms\tremaining: 3.35s\n",
      "173:\tlearn: 101229.6664180\ttotal: 705ms\tremaining: 3.35s\n",
      "174:\tlearn: 101086.9001901\ttotal: 708ms\tremaining: 3.34s\n",
      "175:\tlearn: 100921.1667605\ttotal: 712ms\tremaining: 3.33s\n",
      "176:\tlearn: 100818.8363398\ttotal: 715ms\tremaining: 3.33s\n",
      "177:\tlearn: 100680.7117461\ttotal: 719ms\tremaining: 3.32s\n",
      "178:\tlearn: 100541.9027394\ttotal: 722ms\tremaining: 3.31s\n",
      "179:\tlearn: 100410.1085862\ttotal: 726ms\tremaining: 3.31s\n",
      "180:\tlearn: 100295.3127497\ttotal: 730ms\tremaining: 3.3s\n",
      "181:\tlearn: 100139.9759355\ttotal: 733ms\tremaining: 3.29s\n",
      "182:\tlearn: 100015.4763217\ttotal: 737ms\tremaining: 3.29s\n",
      "183:\tlearn: 99916.4152564\ttotal: 740ms\tremaining: 3.28s\n",
      "184:\tlearn: 99788.0397205\ttotal: 743ms\tremaining: 3.27s\n",
      "185:\tlearn: 99651.6077967\ttotal: 747ms\tremaining: 3.27s\n",
      "186:\tlearn: 99540.7837987\ttotal: 750ms\tremaining: 3.26s\n",
      "187:\tlearn: 99385.1313785\ttotal: 754ms\tremaining: 3.25s\n",
      "188:\tlearn: 99238.7069402\ttotal: 757ms\tremaining: 3.25s\n",
      "189:\tlearn: 99166.0263628\ttotal: 763ms\tremaining: 3.25s\n",
      "190:\tlearn: 99060.1535972\ttotal: 769ms\tremaining: 3.26s\n",
      "191:\tlearn: 98931.3572279\ttotal: 772ms\tremaining: 3.25s\n",
      "192:\tlearn: 98850.6840092\ttotal: 776ms\tremaining: 3.24s\n",
      "193:\tlearn: 98736.2280344\ttotal: 780ms\tremaining: 3.24s\n",
      "194:\tlearn: 98597.9691602\ttotal: 784ms\tremaining: 3.23s\n",
      "195:\tlearn: 98488.3356443\ttotal: 787ms\tremaining: 3.23s\n",
      "196:\tlearn: 98380.0821827\ttotal: 790ms\tremaining: 3.22s\n",
      "197:\tlearn: 98256.5175767\ttotal: 794ms\tremaining: 3.22s\n",
      "198:\tlearn: 98176.8978002\ttotal: 798ms\tremaining: 3.21s\n",
      "199:\tlearn: 98074.0255578\ttotal: 801ms\tremaining: 3.2s\n",
      "200:\tlearn: 97990.1320457\ttotal: 804ms\tremaining: 3.2s\n",
      "201:\tlearn: 97879.3724260\ttotal: 808ms\tremaining: 3.19s\n",
      "202:\tlearn: 97699.6394670\ttotal: 812ms\tremaining: 3.19s\n",
      "203:\tlearn: 97545.8207026\ttotal: 815ms\tremaining: 3.18s\n",
      "204:\tlearn: 97485.7816368\ttotal: 819ms\tremaining: 3.17s\n",
      "205:\tlearn: 97387.7290289\ttotal: 824ms\tremaining: 3.17s\n",
      "206:\tlearn: 97289.7217026\ttotal: 827ms\tremaining: 3.17s\n",
      "207:\tlearn: 97159.1837891\ttotal: 830ms\tremaining: 3.16s\n",
      "208:\tlearn: 97074.7235467\ttotal: 834ms\tremaining: 3.16s\n",
      "209:\tlearn: 96974.1714256\ttotal: 838ms\tremaining: 3.15s\n",
      "210:\tlearn: 96882.4939405\ttotal: 841ms\tremaining: 3.15s\n",
      "211:\tlearn: 96748.1792789\ttotal: 845ms\tremaining: 3.14s\n",
      "212:\tlearn: 96659.2436112\ttotal: 848ms\tremaining: 3.13s\n",
      "213:\tlearn: 96530.5718517\ttotal: 852ms\tremaining: 3.13s\n",
      "214:\tlearn: 96450.8316744\ttotal: 855ms\tremaining: 3.12s\n",
      "215:\tlearn: 96318.5185777\ttotal: 858ms\tremaining: 3.12s\n",
      "216:\tlearn: 96207.8116847\ttotal: 862ms\tremaining: 3.11s\n",
      "217:\tlearn: 96088.9602622\ttotal: 865ms\tremaining: 3.1s\n",
      "218:\tlearn: 96028.9092057\ttotal: 869ms\tremaining: 3.1s\n",
      "219:\tlearn: 95900.4520800\ttotal: 873ms\tremaining: 3.1s\n",
      "220:\tlearn: 95825.4189429\ttotal: 879ms\tremaining: 3.1s\n",
      "221:\tlearn: 95760.4400755\ttotal: 883ms\tremaining: 3.1s\n",
      "222:\tlearn: 95661.7384597\ttotal: 887ms\tremaining: 3.09s\n",
      "223:\tlearn: 95564.9791850\ttotal: 890ms\tremaining: 3.08s\n",
      "224:\tlearn: 95445.6796974\ttotal: 896ms\tremaining: 3.09s\n",
      "225:\tlearn: 95366.0926148\ttotal: 899ms\tremaining: 3.08s\n",
      "226:\tlearn: 95241.0971725\ttotal: 903ms\tremaining: 3.07s\n",
      "227:\tlearn: 95122.7614477\ttotal: 906ms\tremaining: 3.07s\n",
      "228:\tlearn: 95036.8395004\ttotal: 909ms\tremaining: 3.06s\n",
      "229:\tlearn: 94959.1306653\ttotal: 912ms\tremaining: 3.05s\n",
      "230:\tlearn: 94887.0696314\ttotal: 916ms\tremaining: 3.05s\n",
      "231:\tlearn: 94824.0429412\ttotal: 919ms\tremaining: 3.04s\n",
      "232:\tlearn: 94757.0007234\ttotal: 922ms\tremaining: 3.04s\n",
      "233:\tlearn: 94664.0003982\ttotal: 927ms\tremaining: 3.03s\n",
      "234:\tlearn: 94555.4492677\ttotal: 936ms\tremaining: 3.05s\n",
      "235:\tlearn: 94483.5326939\ttotal: 942ms\tremaining: 3.05s\n",
      "236:\tlearn: 94412.2290288\ttotal: 945ms\tremaining: 3.04s\n",
      "237:\tlearn: 94311.6227347\ttotal: 948ms\tremaining: 3.04s\n",
      "238:\tlearn: 94261.5726784\ttotal: 951ms\tremaining: 3.03s\n",
      "239:\tlearn: 94211.8550739\ttotal: 955ms\tremaining: 3.02s\n",
      "240:\tlearn: 94130.9995953\ttotal: 958ms\tremaining: 3.02s\n",
      "241:\tlearn: 94021.8026435\ttotal: 961ms\tremaining: 3.01s\n",
      "242:\tlearn: 93891.6394583\ttotal: 965ms\tremaining: 3.01s\n",
      "243:\tlearn: 93777.6941434\ttotal: 969ms\tremaining: 3s\n",
      "244:\tlearn: 93680.5635698\ttotal: 973ms\tremaining: 3s\n",
      "245:\tlearn: 93619.3899978\ttotal: 977ms\tremaining: 2.99s\n",
      "246:\tlearn: 93557.4585811\ttotal: 980ms\tremaining: 2.99s\n",
      "247:\tlearn: 93500.2331525\ttotal: 984ms\tremaining: 2.98s\n",
      "248:\tlearn: 93440.0076868\ttotal: 987ms\tremaining: 2.98s\n",
      "249:\tlearn: 93394.3020914\ttotal: 990ms\tremaining: 2.97s\n",
      "250:\tlearn: 93292.9687408\ttotal: 994ms\tremaining: 2.96s\n",
      "251:\tlearn: 93228.3296352\ttotal: 997ms\tremaining: 2.96s\n",
      "252:\tlearn: 93159.8701356\ttotal: 1s\tremaining: 2.96s\n",
      "253:\tlearn: 93088.0589540\ttotal: 1s\tremaining: 2.95s\n",
      "254:\tlearn: 93011.5357352\ttotal: 1.01s\tremaining: 2.94s\n",
      "255:\tlearn: 92890.5044203\ttotal: 1.01s\tremaining: 2.94s\n",
      "256:\tlearn: 92831.2439111\ttotal: 1.02s\tremaining: 2.94s\n",
      "257:\tlearn: 92760.9158214\ttotal: 1.02s\tremaining: 2.94s\n",
      "258:\tlearn: 92662.0397317\ttotal: 1.02s\tremaining: 2.93s\n",
      "259:\tlearn: 92581.1116124\ttotal: 1.03s\tremaining: 2.93s\n",
      "260:\tlearn: 92477.3915822\ttotal: 1.03s\tremaining: 2.92s\n",
      "261:\tlearn: 92403.9243392\ttotal: 1.03s\tremaining: 2.92s\n",
      "262:\tlearn: 92341.1456491\ttotal: 1.04s\tremaining: 2.91s\n",
      "263:\tlearn: 92240.0048398\ttotal: 1.04s\tremaining: 2.91s\n",
      "264:\tlearn: 92168.6318891\ttotal: 1.05s\tremaining: 2.91s\n",
      "265:\tlearn: 92097.8878421\ttotal: 1.05s\tremaining: 2.91s\n",
      "266:\tlearn: 92009.1450448\ttotal: 1.06s\tremaining: 2.9s\n",
      "267:\tlearn: 91946.8335479\ttotal: 1.06s\tremaining: 2.9s\n",
      "268:\tlearn: 91883.0307847\ttotal: 1.06s\tremaining: 2.89s\n",
      "269:\tlearn: 91799.0113003\ttotal: 1.07s\tremaining: 2.88s\n",
      "270:\tlearn: 91745.3823836\ttotal: 1.07s\tremaining: 2.88s\n",
      "271:\tlearn: 91676.8230171\ttotal: 1.07s\tremaining: 2.88s\n",
      "272:\tlearn: 91598.2548926\ttotal: 1.08s\tremaining: 2.88s\n",
      "273:\tlearn: 91553.8302739\ttotal: 1.08s\tremaining: 2.88s\n",
      "274:\tlearn: 91495.5369529\ttotal: 1.09s\tremaining: 2.87s\n",
      "275:\tlearn: 91398.9623224\ttotal: 1.09s\tremaining: 2.87s\n",
      "276:\tlearn: 91312.2534775\ttotal: 1.09s\tremaining: 2.86s\n",
      "277:\tlearn: 91251.8303859\ttotal: 1.1s\tremaining: 2.85s\n",
      "278:\tlearn: 91177.5606912\ttotal: 1.1s\tremaining: 2.85s\n",
      "279:\tlearn: 91112.9231585\ttotal: 1.11s\tremaining: 2.84s\n",
      "280:\tlearn: 91041.3092897\ttotal: 1.11s\tremaining: 2.84s\n",
      "281:\tlearn: 90956.8810977\ttotal: 1.11s\tremaining: 2.84s\n",
      "282:\tlearn: 90913.0938296\ttotal: 1.12s\tremaining: 2.83s\n",
      "283:\tlearn: 90837.5537149\ttotal: 1.12s\tremaining: 2.83s\n",
      "284:\tlearn: 90781.5042769\ttotal: 1.12s\tremaining: 2.82s\n",
      "285:\tlearn: 90720.5458318\ttotal: 1.13s\tremaining: 2.81s\n",
      "286:\tlearn: 90648.7243706\ttotal: 1.13s\tremaining: 2.81s\n",
      "287:\tlearn: 90559.9395844\ttotal: 1.13s\tremaining: 2.81s\n",
      "288:\tlearn: 90496.9277157\ttotal: 1.14s\tremaining: 2.8s\n",
      "289:\tlearn: 90437.7488951\ttotal: 1.14s\tremaining: 2.79s\n",
      "290:\tlearn: 90382.0663012\ttotal: 1.14s\tremaining: 2.79s\n",
      "291:\tlearn: 90305.0176738\ttotal: 1.15s\tremaining: 2.78s\n",
      "292:\tlearn: 90275.6795641\ttotal: 1.15s\tremaining: 2.78s\n",
      "293:\tlearn: 90247.8382659\ttotal: 1.15s\tremaining: 2.77s\n",
      "294:\tlearn: 90167.6709954\ttotal: 1.16s\tremaining: 2.77s\n",
      "295:\tlearn: 90109.1856724\ttotal: 1.16s\tremaining: 2.76s\n",
      "296:\tlearn: 90053.9886630\ttotal: 1.16s\tremaining: 2.76s\n",
      "297:\tlearn: 90002.8442868\ttotal: 1.17s\tremaining: 2.75s\n",
      "298:\tlearn: 89931.0521383\ttotal: 1.17s\tremaining: 2.75s\n",
      "299:\tlearn: 89870.6249829\ttotal: 1.18s\tremaining: 2.74s\n",
      "300:\tlearn: 89808.8723626\ttotal: 1.18s\tremaining: 2.74s\n",
      "301:\tlearn: 89730.6022821\ttotal: 1.18s\tremaining: 2.73s\n",
      "302:\tlearn: 89672.7499858\ttotal: 1.19s\tremaining: 2.73s\n",
      "303:\tlearn: 89598.5776239\ttotal: 1.19s\tremaining: 2.72s\n",
      "304:\tlearn: 89535.7447457\ttotal: 1.19s\tremaining: 2.72s\n",
      "305:\tlearn: 89466.7443007\ttotal: 1.2s\tremaining: 2.71s\n",
      "306:\tlearn: 89403.6371057\ttotal: 1.2s\tremaining: 2.71s\n",
      "307:\tlearn: 89367.4151462\ttotal: 1.2s\tremaining: 2.7s\n",
      "308:\tlearn: 89290.5628505\ttotal: 1.21s\tremaining: 2.7s\n",
      "309:\tlearn: 89266.2766860\ttotal: 1.21s\tremaining: 2.7s\n",
      "310:\tlearn: 89195.0538009\ttotal: 1.22s\tremaining: 2.69s\n",
      "311:\tlearn: 89138.5821386\ttotal: 1.22s\tremaining: 2.69s\n",
      "312:\tlearn: 89093.3236092\ttotal: 1.22s\tremaining: 2.68s\n",
      "313:\tlearn: 89038.3790366\ttotal: 1.23s\tremaining: 2.68s\n",
      "314:\tlearn: 88973.3215043\ttotal: 1.23s\tremaining: 2.67s\n",
      "315:\tlearn: 88926.5405148\ttotal: 1.23s\tremaining: 2.67s\n",
      "316:\tlearn: 88883.0120139\ttotal: 1.23s\tremaining: 2.66s\n",
      "317:\tlearn: 88835.2404972\ttotal: 1.24s\tremaining: 2.66s\n",
      "318:\tlearn: 88773.1200866\ttotal: 1.24s\tremaining: 2.65s\n",
      "319:\tlearn: 88725.8039829\ttotal: 1.25s\tremaining: 2.65s\n",
      "320:\tlearn: 88663.4763061\ttotal: 1.25s\tremaining: 2.64s\n",
      "321:\tlearn: 88618.6281958\ttotal: 1.25s\tremaining: 2.64s\n",
      "322:\tlearn: 88595.0395767\ttotal: 1.25s\tremaining: 2.63s\n",
      "323:\tlearn: 88524.3594781\ttotal: 1.26s\tremaining: 2.63s\n",
      "324:\tlearn: 88480.0929733\ttotal: 1.26s\tremaining: 2.62s\n",
      "325:\tlearn: 88459.0824928\ttotal: 1.26s\tremaining: 2.62s\n",
      "326:\tlearn: 88396.1663880\ttotal: 1.27s\tremaining: 2.61s\n",
      "327:\tlearn: 88310.4745338\ttotal: 1.27s\tremaining: 2.6s\n",
      "328:\tlearn: 88249.7970444\ttotal: 1.27s\tremaining: 2.6s\n",
      "329:\tlearn: 88193.5863813\ttotal: 1.28s\tremaining: 2.6s\n",
      "330:\tlearn: 88122.5016538\ttotal: 1.28s\tremaining: 2.59s\n",
      "331:\tlearn: 88068.5172825\ttotal: 1.28s\tremaining: 2.59s\n",
      "332:\tlearn: 88017.8364980\ttotal: 1.29s\tremaining: 2.59s\n",
      "333:\tlearn: 87974.1539103\ttotal: 1.3s\tremaining: 2.59s\n",
      "334:\tlearn: 87864.9357303\ttotal: 1.31s\tremaining: 2.6s\n",
      "335:\tlearn: 87804.7909605\ttotal: 1.32s\tremaining: 2.6s\n",
      "336:\tlearn: 87750.5754215\ttotal: 1.33s\tremaining: 2.61s\n",
      "337:\tlearn: 87708.8845387\ttotal: 1.33s\tremaining: 2.62s\n",
      "338:\tlearn: 87639.4500732\ttotal: 1.34s\tremaining: 2.62s\n",
      "339:\tlearn: 87587.1020458\ttotal: 1.35s\tremaining: 2.63s\n",
      "340:\tlearn: 87544.5608557\ttotal: 1.36s\tremaining: 2.63s\n",
      "341:\tlearn: 87501.1857628\ttotal: 1.37s\tremaining: 2.64s\n",
      "342:\tlearn: 87456.6137850\ttotal: 1.38s\tremaining: 2.65s\n",
      "343:\tlearn: 87396.9868294\ttotal: 1.39s\tremaining: 2.65s\n",
      "344:\tlearn: 87360.2879322\ttotal: 1.4s\tremaining: 2.66s\n",
      "345:\tlearn: 87316.0062338\ttotal: 1.41s\tremaining: 2.66s\n",
      "346:\tlearn: 87269.7263416\ttotal: 1.41s\tremaining: 2.66s\n",
      "347:\tlearn: 87197.3721123\ttotal: 1.42s\tremaining: 2.66s\n",
      "348:\tlearn: 87144.9417527\ttotal: 1.43s\tremaining: 2.67s\n",
      "349:\tlearn: 87123.4482241\ttotal: 1.43s\tremaining: 2.66s\n",
      "350:\tlearn: 87055.9329939\ttotal: 1.44s\tremaining: 2.66s\n",
      "351:\tlearn: 86977.3414020\ttotal: 1.44s\tremaining: 2.65s\n",
      "352:\tlearn: 86906.7444073\ttotal: 1.45s\tremaining: 2.65s\n",
      "353:\tlearn: 86838.3639343\ttotal: 1.45s\tremaining: 2.64s\n",
      "354:\tlearn: 86799.1903949\ttotal: 1.45s\tremaining: 2.64s\n",
      "355:\tlearn: 86747.3484127\ttotal: 1.46s\tremaining: 2.63s\n",
      "356:\tlearn: 86690.1523525\ttotal: 1.46s\tremaining: 2.63s\n",
      "357:\tlearn: 86639.9362598\ttotal: 1.46s\tremaining: 2.62s\n",
      "358:\tlearn: 86578.6199280\ttotal: 1.47s\tremaining: 2.62s\n",
      "359:\tlearn: 86531.8877060\ttotal: 1.47s\tremaining: 2.61s\n",
      "360:\tlearn: 86466.0730679\ttotal: 1.47s\tremaining: 2.61s\n",
      "361:\tlearn: 86397.9747022\ttotal: 1.48s\tremaining: 2.6s\n",
      "362:\tlearn: 86337.6262075\ttotal: 1.48s\tremaining: 2.6s\n",
      "363:\tlearn: 86278.6984415\ttotal: 1.49s\tremaining: 2.6s\n",
      "364:\tlearn: 86225.7093174\ttotal: 1.5s\tremaining: 2.61s\n",
      "365:\tlearn: 86155.5750786\ttotal: 1.51s\tremaining: 2.62s\n",
      "366:\tlearn: 86101.1380254\ttotal: 1.52s\tremaining: 2.62s\n",
      "367:\tlearn: 86047.2939177\ttotal: 1.52s\tremaining: 2.62s\n",
      "368:\tlearn: 85975.2866106\ttotal: 1.53s\tremaining: 2.62s\n",
      "369:\tlearn: 85907.7331252\ttotal: 1.54s\tremaining: 2.62s\n",
      "370:\tlearn: 85836.1819260\ttotal: 1.55s\tremaining: 2.62s\n",
      "371:\tlearn: 85778.7905455\ttotal: 1.55s\tremaining: 2.62s\n",
      "372:\tlearn: 85729.9368942\ttotal: 1.56s\tremaining: 2.62s\n",
      "373:\tlearn: 85670.1891992\ttotal: 1.56s\tremaining: 2.62s\n",
      "374:\tlearn: 85634.1532432\ttotal: 1.57s\tremaining: 2.61s\n",
      "375:\tlearn: 85609.4499141\ttotal: 1.57s\tremaining: 2.61s\n",
      "376:\tlearn: 85565.0011271\ttotal: 1.57s\tremaining: 2.6s\n",
      "377:\tlearn: 85498.4640973\ttotal: 1.58s\tremaining: 2.6s\n",
      "378:\tlearn: 85453.5181349\ttotal: 1.58s\tremaining: 2.59s\n",
      "379:\tlearn: 85409.3582886\ttotal: 1.58s\tremaining: 2.58s\n",
      "380:\tlearn: 85369.3467080\ttotal: 1.59s\tremaining: 2.58s\n",
      "381:\tlearn: 85345.4785461\ttotal: 1.59s\tremaining: 2.58s\n",
      "382:\tlearn: 85294.3219167\ttotal: 1.6s\tremaining: 2.57s\n",
      "383:\tlearn: 85263.0781756\ttotal: 1.6s\tremaining: 2.57s\n",
      "384:\tlearn: 85173.6412461\ttotal: 1.6s\tremaining: 2.56s\n",
      "385:\tlearn: 85123.3723395\ttotal: 1.61s\tremaining: 2.56s\n",
      "386:\tlearn: 85079.0817795\ttotal: 1.61s\tremaining: 2.55s\n",
      "387:\tlearn: 85013.4238482\ttotal: 1.61s\tremaining: 2.54s\n",
      "388:\tlearn: 84972.9104736\ttotal: 1.62s\tremaining: 2.54s\n",
      "389:\tlearn: 84938.3368949\ttotal: 1.62s\tremaining: 2.53s\n",
      "390:\tlearn: 84904.7835578\ttotal: 1.62s\tremaining: 2.53s\n",
      "391:\tlearn: 84860.9387434\ttotal: 1.63s\tremaining: 2.52s\n",
      "392:\tlearn: 84795.5453505\ttotal: 1.63s\tremaining: 2.52s\n",
      "393:\tlearn: 84739.1357225\ttotal: 1.63s\tremaining: 2.51s\n",
      "394:\tlearn: 84711.6843006\ttotal: 1.64s\tremaining: 2.51s\n",
      "395:\tlearn: 84682.7523904\ttotal: 1.65s\tremaining: 2.51s\n",
      "396:\tlearn: 84627.2713905\ttotal: 1.66s\tremaining: 2.52s\n",
      "397:\tlearn: 84564.7435310\ttotal: 1.67s\tremaining: 2.52s\n",
      "398:\tlearn: 84493.1050926\ttotal: 1.68s\tremaining: 2.52s\n",
      "399:\tlearn: 84443.8865005\ttotal: 1.68s\tremaining: 2.52s\n",
      "400:\tlearn: 84384.3412733\ttotal: 1.68s\tremaining: 2.52s\n",
      "401:\tlearn: 84331.1983196\ttotal: 1.69s\tremaining: 2.51s\n",
      "402:\tlearn: 84268.2650332\ttotal: 1.69s\tremaining: 2.5s\n",
      "403:\tlearn: 84226.6105357\ttotal: 1.69s\tremaining: 2.5s\n",
      "404:\tlearn: 84160.3243989\ttotal: 1.7s\tremaining: 2.49s\n",
      "405:\tlearn: 84111.9138538\ttotal: 1.7s\tremaining: 2.49s\n",
      "406:\tlearn: 84086.4556344\ttotal: 1.7s\tremaining: 2.48s\n",
      "407:\tlearn: 84037.4051505\ttotal: 1.71s\tremaining: 2.48s\n",
      "408:\tlearn: 83995.5898855\ttotal: 1.71s\tremaining: 2.47s\n",
      "409:\tlearn: 83941.3602634\ttotal: 1.71s\tremaining: 2.47s\n",
      "410:\tlearn: 83908.2005454\ttotal: 1.72s\tremaining: 2.46s\n",
      "411:\tlearn: 83865.2292294\ttotal: 1.72s\tremaining: 2.46s\n",
      "412:\tlearn: 83816.6533205\ttotal: 1.72s\tremaining: 2.45s\n",
      "413:\tlearn: 83781.1476249\ttotal: 1.73s\tremaining: 2.45s\n",
      "414:\tlearn: 83745.0578260\ttotal: 1.73s\tremaining: 2.44s\n",
      "415:\tlearn: 83687.5822369\ttotal: 1.74s\tremaining: 2.44s\n",
      "416:\tlearn: 83595.9540167\ttotal: 1.74s\tremaining: 2.43s\n",
      "417:\tlearn: 83566.3235802\ttotal: 1.74s\tremaining: 2.42s\n",
      "418:\tlearn: 83520.4555751\ttotal: 1.75s\tremaining: 2.42s\n",
      "419:\tlearn: 83478.1746647\ttotal: 1.75s\tremaining: 2.42s\n",
      "420:\tlearn: 83430.0741174\ttotal: 1.75s\tremaining: 2.41s\n",
      "421:\tlearn: 83405.8505002\ttotal: 1.76s\tremaining: 2.41s\n",
      "422:\tlearn: 83356.7642900\ttotal: 1.76s\tremaining: 2.4s\n",
      "423:\tlearn: 83299.5074973\ttotal: 1.77s\tremaining: 2.4s\n",
      "424:\tlearn: 83240.2866880\ttotal: 1.77s\tremaining: 2.39s\n",
      "425:\tlearn: 83212.0183607\ttotal: 1.77s\tremaining: 2.39s\n",
      "426:\tlearn: 83187.6670431\ttotal: 1.77s\tremaining: 2.38s\n",
      "427:\tlearn: 83149.9579894\ttotal: 1.78s\tremaining: 2.38s\n",
      "428:\tlearn: 83107.2237098\ttotal: 1.78s\tremaining: 2.37s\n",
      "429:\tlearn: 83067.9777769\ttotal: 1.79s\tremaining: 2.37s\n",
      "430:\tlearn: 83030.8762503\ttotal: 1.79s\tremaining: 2.36s\n",
      "431:\tlearn: 82974.6212039\ttotal: 1.79s\tremaining: 2.36s\n",
      "432:\tlearn: 82935.6806100\ttotal: 1.8s\tremaining: 2.35s\n",
      "433:\tlearn: 82896.3176015\ttotal: 1.8s\tremaining: 2.35s\n",
      "434:\tlearn: 82848.5174912\ttotal: 1.8s\tremaining: 2.34s\n",
      "435:\tlearn: 82813.1666194\ttotal: 1.81s\tremaining: 2.34s\n",
      "436:\tlearn: 82775.4642427\ttotal: 1.81s\tremaining: 2.33s\n",
      "437:\tlearn: 82730.6759877\ttotal: 1.81s\tremaining: 2.33s\n",
      "438:\tlearn: 82689.0125238\ttotal: 1.82s\tremaining: 2.32s\n",
      "439:\tlearn: 82615.8133512\ttotal: 1.82s\tremaining: 2.32s\n",
      "440:\tlearn: 82561.4923336\ttotal: 1.82s\tremaining: 2.31s\n",
      "441:\tlearn: 82527.7573832\ttotal: 1.83s\tremaining: 2.31s\n",
      "442:\tlearn: 82476.2021224\ttotal: 1.83s\tremaining: 2.31s\n",
      "443:\tlearn: 82439.4763819\ttotal: 1.84s\tremaining: 2.3s\n",
      "444:\tlearn: 82381.8504292\ttotal: 1.84s\tremaining: 2.29s\n",
      "445:\tlearn: 82350.4821220\ttotal: 1.84s\tremaining: 2.29s\n",
      "446:\tlearn: 82306.1846527\ttotal: 1.85s\tremaining: 2.29s\n",
      "447:\tlearn: 82287.1210724\ttotal: 1.85s\tremaining: 2.28s\n",
      "448:\tlearn: 82234.7357200\ttotal: 1.85s\tremaining: 2.28s\n",
      "449:\tlearn: 82211.3679820\ttotal: 1.86s\tremaining: 2.27s\n",
      "450:\tlearn: 82167.4096488\ttotal: 1.86s\tremaining: 2.27s\n",
      "451:\tlearn: 82149.7838468\ttotal: 1.86s\tremaining: 2.26s\n",
      "452:\tlearn: 82099.2698695\ttotal: 1.87s\tremaining: 2.26s\n",
      "453:\tlearn: 82047.4633167\ttotal: 1.87s\tremaining: 2.25s\n",
      "454:\tlearn: 81996.1773547\ttotal: 1.88s\tremaining: 2.25s\n",
      "455:\tlearn: 81961.2239951\ttotal: 1.88s\tremaining: 2.24s\n",
      "456:\tlearn: 81926.5097212\ttotal: 1.88s\tremaining: 2.24s\n",
      "457:\tlearn: 81858.6263459\ttotal: 1.89s\tremaining: 2.23s\n",
      "458:\tlearn: 81833.8463002\ttotal: 1.89s\tremaining: 2.23s\n",
      "459:\tlearn: 81786.7732529\ttotal: 1.9s\tremaining: 2.23s\n",
      "460:\tlearn: 81750.7136096\ttotal: 1.9s\tremaining: 2.23s\n",
      "461:\tlearn: 81697.0782184\ttotal: 1.91s\tremaining: 2.22s\n",
      "462:\tlearn: 81631.1282201\ttotal: 1.91s\tremaining: 2.22s\n",
      "463:\tlearn: 81588.9929669\ttotal: 1.92s\tremaining: 2.21s\n",
      "464:\tlearn: 81557.4783668\ttotal: 1.92s\tremaining: 2.21s\n",
      "465:\tlearn: 81521.9215790\ttotal: 1.92s\tremaining: 2.2s\n",
      "466:\tlearn: 81478.2238967\ttotal: 1.93s\tremaining: 2.2s\n",
      "467:\tlearn: 81442.7618270\ttotal: 1.93s\tremaining: 2.19s\n",
      "468:\tlearn: 81409.1452894\ttotal: 1.93s\tremaining: 2.19s\n",
      "469:\tlearn: 81374.2458898\ttotal: 1.94s\tremaining: 2.18s\n",
      "470:\tlearn: 81337.9137084\ttotal: 1.94s\tremaining: 2.18s\n",
      "471:\tlearn: 81310.9562184\ttotal: 1.94s\tremaining: 2.17s\n",
      "472:\tlearn: 81267.9006439\ttotal: 1.95s\tremaining: 2.17s\n",
      "473:\tlearn: 81224.5231518\ttotal: 1.95s\tremaining: 2.17s\n",
      "474:\tlearn: 81189.9449835\ttotal: 1.96s\tremaining: 2.16s\n",
      "475:\tlearn: 81142.5038026\ttotal: 1.96s\tremaining: 2.16s\n",
      "476:\tlearn: 81102.9898484\ttotal: 1.96s\tremaining: 2.15s\n",
      "477:\tlearn: 81083.2745237\ttotal: 1.97s\tremaining: 2.15s\n",
      "478:\tlearn: 81053.1387134\ttotal: 1.97s\tremaining: 2.14s\n",
      "479:\tlearn: 81023.2844875\ttotal: 1.97s\tremaining: 2.14s\n",
      "480:\tlearn: 80986.6015725\ttotal: 1.98s\tremaining: 2.13s\n",
      "481:\tlearn: 80954.3273989\ttotal: 1.98s\tremaining: 2.13s\n",
      "482:\tlearn: 80904.7279178\ttotal: 1.98s\tremaining: 2.12s\n",
      "483:\tlearn: 80867.9932267\ttotal: 1.99s\tremaining: 2.12s\n",
      "484:\tlearn: 80842.6188652\ttotal: 1.99s\tremaining: 2.11s\n",
      "485:\tlearn: 80770.2992972\ttotal: 1.99s\tremaining: 2.11s\n",
      "486:\tlearn: 80730.6598158\ttotal: 2s\tremaining: 2.1s\n",
      "487:\tlearn: 80689.9727139\ttotal: 2s\tremaining: 2.1s\n",
      "488:\tlearn: 80652.5195176\ttotal: 2s\tremaining: 2.1s\n",
      "489:\tlearn: 80616.6204146\ttotal: 2.01s\tremaining: 2.09s\n",
      "490:\tlearn: 80581.7738262\ttotal: 2.01s\tremaining: 2.08s\n",
      "491:\tlearn: 80534.7866942\ttotal: 2.02s\tremaining: 2.08s\n",
      "492:\tlearn: 80499.3587658\ttotal: 2.02s\tremaining: 2.08s\n",
      "493:\tlearn: 80449.0125363\ttotal: 2.03s\tremaining: 2.08s\n",
      "494:\tlearn: 80424.9932878\ttotal: 2.04s\tremaining: 2.08s\n",
      "495:\tlearn: 80389.1360392\ttotal: 2.05s\tremaining: 2.08s\n",
      "496:\tlearn: 80363.6341355\ttotal: 2.06s\tremaining: 2.08s\n",
      "497:\tlearn: 80299.8169901\ttotal: 2.06s\tremaining: 2.08s\n",
      "498:\tlearn: 80278.4191377\ttotal: 2.08s\tremaining: 2.08s\n",
      "499:\tlearn: 80245.4952645\ttotal: 2.09s\tremaining: 2.09s\n",
      "500:\tlearn: 80199.8939282\ttotal: 2.09s\tremaining: 2.09s\n",
      "501:\tlearn: 80150.4845496\ttotal: 2.1s\tremaining: 2.09s\n",
      "502:\tlearn: 80114.8712111\ttotal: 2.11s\tremaining: 2.09s\n",
      "503:\tlearn: 80093.4765582\ttotal: 2.12s\tremaining: 2.08s\n",
      "504:\tlearn: 80053.3605585\ttotal: 2.12s\tremaining: 2.08s\n",
      "505:\tlearn: 80017.5830595\ttotal: 2.12s\tremaining: 2.07s\n",
      "506:\tlearn: 79971.5460252\ttotal: 2.13s\tremaining: 2.07s\n",
      "507:\tlearn: 79941.1419123\ttotal: 2.13s\tremaining: 2.06s\n",
      "508:\tlearn: 79906.0816993\ttotal: 2.13s\tremaining: 2.06s\n",
      "509:\tlearn: 79868.4079134\ttotal: 2.14s\tremaining: 2.05s\n",
      "510:\tlearn: 79834.1473700\ttotal: 2.14s\tremaining: 2.05s\n",
      "511:\tlearn: 79787.0915559\ttotal: 2.15s\tremaining: 2.04s\n",
      "512:\tlearn: 79738.1563652\ttotal: 2.15s\tremaining: 2.04s\n",
      "513:\tlearn: 79722.0559212\ttotal: 2.15s\tremaining: 2.04s\n",
      "514:\tlearn: 79692.3820680\ttotal: 2.16s\tremaining: 2.03s\n",
      "515:\tlearn: 79661.2425925\ttotal: 2.16s\tremaining: 2.02s\n",
      "516:\tlearn: 79620.3945056\ttotal: 2.16s\tremaining: 2.02s\n",
      "517:\tlearn: 79580.3509634\ttotal: 2.17s\tremaining: 2.02s\n",
      "518:\tlearn: 79553.2189523\ttotal: 2.17s\tremaining: 2.01s\n",
      "519:\tlearn: 79520.6033682\ttotal: 2.17s\tremaining: 2s\n",
      "520:\tlearn: 79453.3252214\ttotal: 2.18s\tremaining: 2s\n",
      "521:\tlearn: 79430.2394644\ttotal: 2.18s\tremaining: 2s\n",
      "522:\tlearn: 79405.5226721\ttotal: 2.19s\tremaining: 1.99s\n",
      "523:\tlearn: 79360.2632343\ttotal: 2.19s\tremaining: 1.99s\n",
      "524:\tlearn: 79319.7782268\ttotal: 2.19s\tremaining: 1.98s\n",
      "525:\tlearn: 79283.6716608\ttotal: 2.19s\tremaining: 1.98s\n",
      "526:\tlearn: 79245.7113432\ttotal: 2.2s\tremaining: 1.97s\n",
      "527:\tlearn: 79224.0773459\ttotal: 2.2s\tremaining: 1.97s\n",
      "528:\tlearn: 79186.0058132\ttotal: 2.21s\tremaining: 1.96s\n",
      "529:\tlearn: 79157.9685768\ttotal: 2.21s\tremaining: 1.96s\n",
      "530:\tlearn: 79088.4231119\ttotal: 2.21s\tremaining: 1.95s\n",
      "531:\tlearn: 79045.1902124\ttotal: 2.22s\tremaining: 1.95s\n",
      "532:\tlearn: 79013.3116289\ttotal: 2.22s\tremaining: 1.95s\n",
      "533:\tlearn: 78979.1447372\ttotal: 2.22s\tremaining: 1.94s\n",
      "534:\tlearn: 78940.8923818\ttotal: 2.23s\tremaining: 1.94s\n",
      "535:\tlearn: 78927.1668915\ttotal: 2.23s\tremaining: 1.93s\n",
      "536:\tlearn: 78880.8047636\ttotal: 2.23s\tremaining: 1.93s\n",
      "537:\tlearn: 78836.7467347\ttotal: 2.24s\tremaining: 1.92s\n",
      "538:\tlearn: 78798.6651409\ttotal: 2.24s\tremaining: 1.92s\n",
      "539:\tlearn: 78750.2851456\ttotal: 2.24s\tremaining: 1.91s\n",
      "540:\tlearn: 78715.4555217\ttotal: 2.25s\tremaining: 1.91s\n",
      "541:\tlearn: 78694.1291713\ttotal: 2.25s\tremaining: 1.9s\n",
      "542:\tlearn: 78656.5621190\ttotal: 2.25s\tremaining: 1.9s\n",
      "543:\tlearn: 78622.4353698\ttotal: 2.26s\tremaining: 1.89s\n",
      "544:\tlearn: 78568.6158508\ttotal: 2.26s\tremaining: 1.89s\n",
      "545:\tlearn: 78541.6050058\ttotal: 2.26s\tremaining: 1.88s\n",
      "546:\tlearn: 78501.0034769\ttotal: 2.27s\tremaining: 1.88s\n",
      "547:\tlearn: 78473.4991677\ttotal: 2.27s\tremaining: 1.87s\n",
      "548:\tlearn: 78426.8166364\ttotal: 2.27s\tremaining: 1.87s\n",
      "549:\tlearn: 78383.8573733\ttotal: 2.28s\tremaining: 1.86s\n",
      "550:\tlearn: 78362.4253050\ttotal: 2.28s\tremaining: 1.86s\n",
      "551:\tlearn: 78328.0303846\ttotal: 2.28s\tremaining: 1.85s\n",
      "552:\tlearn: 78303.9298315\ttotal: 2.29s\tremaining: 1.85s\n",
      "553:\tlearn: 78265.9700590\ttotal: 2.29s\tremaining: 1.84s\n",
      "554:\tlearn: 78240.5810912\ttotal: 2.29s\tremaining: 1.84s\n",
      "555:\tlearn: 78202.9666918\ttotal: 2.3s\tremaining: 1.83s\n",
      "556:\tlearn: 78169.2843865\ttotal: 2.3s\tremaining: 1.83s\n",
      "557:\tlearn: 78151.3125829\ttotal: 2.3s\tremaining: 1.82s\n",
      "558:\tlearn: 78119.7969201\ttotal: 2.31s\tremaining: 1.82s\n",
      "559:\tlearn: 78085.9343410\ttotal: 2.31s\tremaining: 1.82s\n",
      "560:\tlearn: 78068.1958707\ttotal: 2.31s\tremaining: 1.81s\n",
      "561:\tlearn: 78043.4828182\ttotal: 2.32s\tremaining: 1.81s\n",
      "562:\tlearn: 78008.5391725\ttotal: 2.32s\tremaining: 1.8s\n",
      "563:\tlearn: 77978.0416071\ttotal: 2.33s\tremaining: 1.8s\n",
      "564:\tlearn: 77935.5415038\ttotal: 2.33s\tremaining: 1.79s\n",
      "565:\tlearn: 77897.1530809\ttotal: 2.33s\tremaining: 1.79s\n",
      "566:\tlearn: 77879.7892915\ttotal: 2.34s\tremaining: 1.78s\n",
      "567:\tlearn: 77844.3099761\ttotal: 2.34s\tremaining: 1.78s\n",
      "568:\tlearn: 77822.2454620\ttotal: 2.35s\tremaining: 1.78s\n",
      "569:\tlearn: 77778.5768508\ttotal: 2.35s\tremaining: 1.77s\n",
      "570:\tlearn: 77764.0446410\ttotal: 2.35s\tremaining: 1.77s\n",
      "571:\tlearn: 77741.6175902\ttotal: 2.36s\tremaining: 1.76s\n",
      "572:\tlearn: 77700.8815645\ttotal: 2.36s\tremaining: 1.76s\n",
      "573:\tlearn: 77687.0351844\ttotal: 2.36s\tremaining: 1.75s\n",
      "574:\tlearn: 77672.1870381\ttotal: 2.37s\tremaining: 1.75s\n",
      "575:\tlearn: 77648.6443441\ttotal: 2.37s\tremaining: 1.74s\n",
      "576:\tlearn: 77626.9903055\ttotal: 2.38s\tremaining: 1.74s\n",
      "577:\tlearn: 77571.1508919\ttotal: 2.38s\tremaining: 1.74s\n",
      "578:\tlearn: 77544.1802020\ttotal: 2.38s\tremaining: 1.73s\n",
      "579:\tlearn: 77514.7207414\ttotal: 2.39s\tremaining: 1.73s\n",
      "580:\tlearn: 77484.5461885\ttotal: 2.39s\tremaining: 1.72s\n",
      "581:\tlearn: 77459.2697887\ttotal: 2.39s\tremaining: 1.72s\n",
      "582:\tlearn: 77397.0832584\ttotal: 2.4s\tremaining: 1.72s\n",
      "583:\tlearn: 77364.0970419\ttotal: 2.4s\tremaining: 1.71s\n",
      "584:\tlearn: 77348.8325450\ttotal: 2.4s\tremaining: 1.71s\n",
      "585:\tlearn: 77317.0860940\ttotal: 2.41s\tremaining: 1.7s\n",
      "586:\tlearn: 77297.8069953\ttotal: 2.41s\tremaining: 1.7s\n",
      "587:\tlearn: 77265.7902435\ttotal: 2.42s\tremaining: 1.69s\n",
      "588:\tlearn: 77232.0002020\ttotal: 2.42s\tremaining: 1.69s\n",
      "589:\tlearn: 77200.4338904\ttotal: 2.42s\tremaining: 1.68s\n",
      "590:\tlearn: 77177.7126613\ttotal: 2.42s\tremaining: 1.68s\n",
      "591:\tlearn: 77131.8859492\ttotal: 2.43s\tremaining: 1.67s\n",
      "592:\tlearn: 77105.9168841\ttotal: 2.43s\tremaining: 1.67s\n",
      "593:\tlearn: 77078.3610366\ttotal: 2.44s\tremaining: 1.67s\n",
      "594:\tlearn: 77047.1423927\ttotal: 2.44s\tremaining: 1.66s\n",
      "595:\tlearn: 77026.1907779\ttotal: 2.44s\tremaining: 1.66s\n",
      "596:\tlearn: 77008.9425778\ttotal: 2.45s\tremaining: 1.65s\n",
      "597:\tlearn: 76979.9835023\ttotal: 2.45s\tremaining: 1.65s\n",
      "598:\tlearn: 76941.6643402\ttotal: 2.45s\tremaining: 1.64s\n",
      "599:\tlearn: 76917.0362861\ttotal: 2.46s\tremaining: 1.64s\n",
      "600:\tlearn: 76899.5639655\ttotal: 2.46s\tremaining: 1.63s\n",
      "601:\tlearn: 76856.6370703\ttotal: 2.46s\tremaining: 1.63s\n",
      "602:\tlearn: 76834.5769720\ttotal: 2.47s\tremaining: 1.62s\n",
      "603:\tlearn: 76812.8639961\ttotal: 2.47s\tremaining: 1.62s\n",
      "604:\tlearn: 76783.2232762\ttotal: 2.47s\tremaining: 1.61s\n",
      "605:\tlearn: 76753.8274709\ttotal: 2.48s\tremaining: 1.61s\n",
      "606:\tlearn: 76730.1590398\ttotal: 2.48s\tremaining: 1.6s\n",
      "607:\tlearn: 76686.4784342\ttotal: 2.48s\tremaining: 1.6s\n",
      "608:\tlearn: 76646.4980792\ttotal: 2.49s\tremaining: 1.6s\n",
      "609:\tlearn: 76628.8717648\ttotal: 2.49s\tremaining: 1.59s\n",
      "610:\tlearn: 76599.3186202\ttotal: 2.49s\tremaining: 1.59s\n",
      "611:\tlearn: 76567.6257246\ttotal: 2.5s\tremaining: 1.58s\n",
      "612:\tlearn: 76554.7797138\ttotal: 2.5s\tremaining: 1.58s\n",
      "613:\tlearn: 76526.7535672\ttotal: 2.5s\tremaining: 1.57s\n",
      "614:\tlearn: 76488.9857739\ttotal: 2.51s\tremaining: 1.57s\n",
      "615:\tlearn: 76441.2321296\ttotal: 2.51s\tremaining: 1.56s\n",
      "616:\tlearn: 76409.8333404\ttotal: 2.51s\tremaining: 1.56s\n",
      "617:\tlearn: 76372.9012561\ttotal: 2.52s\tremaining: 1.55s\n",
      "618:\tlearn: 76338.8528579\ttotal: 2.52s\tremaining: 1.55s\n",
      "619:\tlearn: 76302.5091674\ttotal: 2.53s\tremaining: 1.55s\n",
      "620:\tlearn: 76282.8600243\ttotal: 2.53s\tremaining: 1.54s\n",
      "621:\tlearn: 76248.7749721\ttotal: 2.53s\tremaining: 1.54s\n",
      "622:\tlearn: 76228.6605976\ttotal: 2.54s\tremaining: 1.53s\n",
      "623:\tlearn: 76198.0169093\ttotal: 2.54s\tremaining: 1.53s\n",
      "624:\tlearn: 76162.9746173\ttotal: 2.54s\tremaining: 1.53s\n",
      "625:\tlearn: 76123.2438491\ttotal: 2.55s\tremaining: 1.52s\n",
      "626:\tlearn: 76090.4346514\ttotal: 2.55s\tremaining: 1.52s\n",
      "627:\tlearn: 76062.9207529\ttotal: 2.56s\tremaining: 1.51s\n",
      "628:\tlearn: 76045.6765719\ttotal: 2.56s\tremaining: 1.51s\n",
      "629:\tlearn: 76032.5809592\ttotal: 2.56s\tremaining: 1.5s\n",
      "630:\tlearn: 75992.7700516\ttotal: 2.56s\tremaining: 1.5s\n",
      "631:\tlearn: 75975.3428162\ttotal: 2.57s\tremaining: 1.5s\n",
      "632:\tlearn: 75949.1292221\ttotal: 2.57s\tremaining: 1.49s\n",
      "633:\tlearn: 75917.5221155\ttotal: 2.58s\tremaining: 1.49s\n",
      "634:\tlearn: 75879.1724472\ttotal: 2.58s\tremaining: 1.48s\n",
      "635:\tlearn: 75846.0425516\ttotal: 2.58s\tremaining: 1.48s\n",
      "636:\tlearn: 75813.1481023\ttotal: 2.59s\tremaining: 1.47s\n",
      "637:\tlearn: 75795.5499844\ttotal: 2.59s\tremaining: 1.47s\n",
      "638:\tlearn: 75746.2420524\ttotal: 2.59s\tremaining: 1.47s\n",
      "639:\tlearn: 75710.8243354\ttotal: 2.6s\tremaining: 1.46s\n",
      "640:\tlearn: 75680.5978858\ttotal: 2.6s\tremaining: 1.46s\n",
      "641:\tlearn: 75673.8158079\ttotal: 2.6s\tremaining: 1.45s\n",
      "642:\tlearn: 75659.1274915\ttotal: 2.61s\tremaining: 1.45s\n",
      "643:\tlearn: 75640.7375372\ttotal: 2.61s\tremaining: 1.44s\n",
      "644:\tlearn: 75617.6594095\ttotal: 2.61s\tremaining: 1.44s\n",
      "645:\tlearn: 75599.2017433\ttotal: 2.62s\tremaining: 1.43s\n",
      "646:\tlearn: 75575.5869944\ttotal: 2.62s\tremaining: 1.43s\n",
      "647:\tlearn: 75547.0655914\ttotal: 2.62s\tremaining: 1.43s\n",
      "648:\tlearn: 75524.7678928\ttotal: 2.63s\tremaining: 1.42s\n",
      "649:\tlearn: 75498.5130934\ttotal: 2.63s\tremaining: 1.42s\n",
      "650:\tlearn: 75479.1559754\ttotal: 2.63s\tremaining: 1.41s\n",
      "651:\tlearn: 75450.3412452\ttotal: 2.64s\tremaining: 1.41s\n",
      "652:\tlearn: 75431.7106144\ttotal: 2.64s\tremaining: 1.4s\n",
      "653:\tlearn: 75396.6785910\ttotal: 2.64s\tremaining: 1.4s\n",
      "654:\tlearn: 75364.2133457\ttotal: 2.65s\tremaining: 1.39s\n",
      "655:\tlearn: 75336.9244948\ttotal: 2.65s\tremaining: 1.39s\n",
      "656:\tlearn: 75305.8090620\ttotal: 2.65s\tremaining: 1.39s\n",
      "657:\tlearn: 75288.0131771\ttotal: 2.66s\tremaining: 1.38s\n",
      "658:\tlearn: 75264.8689880\ttotal: 2.66s\tremaining: 1.38s\n",
      "659:\tlearn: 75241.0321656\ttotal: 2.66s\tremaining: 1.37s\n",
      "660:\tlearn: 75204.1445569\ttotal: 2.67s\tremaining: 1.37s\n",
      "661:\tlearn: 75177.4332388\ttotal: 2.67s\tremaining: 1.36s\n",
      "662:\tlearn: 75144.7039458\ttotal: 2.67s\tremaining: 1.36s\n",
      "663:\tlearn: 75115.2224640\ttotal: 2.68s\tremaining: 1.35s\n",
      "664:\tlearn: 75087.0893707\ttotal: 2.68s\tremaining: 1.35s\n",
      "665:\tlearn: 75038.5985052\ttotal: 2.69s\tremaining: 1.35s\n",
      "666:\tlearn: 75018.3266099\ttotal: 2.69s\tremaining: 1.34s\n",
      "667:\tlearn: 74981.1104910\ttotal: 2.69s\tremaining: 1.34s\n",
      "668:\tlearn: 74957.7187341\ttotal: 2.69s\tremaining: 1.33s\n",
      "669:\tlearn: 74935.6537463\ttotal: 2.7s\tremaining: 1.33s\n",
      "670:\tlearn: 74912.1451698\ttotal: 2.7s\tremaining: 1.32s\n",
      "671:\tlearn: 74886.5397076\ttotal: 2.71s\tremaining: 1.32s\n",
      "672:\tlearn: 74860.8892139\ttotal: 2.71s\tremaining: 1.32s\n",
      "673:\tlearn: 74843.8644382\ttotal: 2.71s\tremaining: 1.31s\n",
      "674:\tlearn: 74814.2573041\ttotal: 2.72s\tremaining: 1.31s\n",
      "675:\tlearn: 74800.8631421\ttotal: 2.72s\tremaining: 1.3s\n",
      "676:\tlearn: 74776.9071676\ttotal: 2.72s\tremaining: 1.3s\n",
      "677:\tlearn: 74738.1636698\ttotal: 2.73s\tremaining: 1.29s\n",
      "678:\tlearn: 74710.0499446\ttotal: 2.73s\tremaining: 1.29s\n",
      "679:\tlearn: 74679.6105071\ttotal: 2.73s\tremaining: 1.29s\n",
      "680:\tlearn: 74632.6476217\ttotal: 2.74s\tremaining: 1.28s\n",
      "681:\tlearn: 74613.3699955\ttotal: 2.74s\tremaining: 1.28s\n",
      "682:\tlearn: 74589.7375819\ttotal: 2.74s\tremaining: 1.27s\n",
      "683:\tlearn: 74562.6473215\ttotal: 2.75s\tremaining: 1.27s\n",
      "684:\tlearn: 74539.8814650\ttotal: 2.75s\tremaining: 1.26s\n",
      "685:\tlearn: 74513.1399748\ttotal: 2.75s\tremaining: 1.26s\n",
      "686:\tlearn: 74474.9205514\ttotal: 2.76s\tremaining: 1.26s\n",
      "687:\tlearn: 74449.8983091\ttotal: 2.76s\tremaining: 1.25s\n",
      "688:\tlearn: 74426.8010213\ttotal: 2.77s\tremaining: 1.25s\n",
      "689:\tlearn: 74408.9885224\ttotal: 2.77s\tremaining: 1.24s\n",
      "690:\tlearn: 74374.2735776\ttotal: 2.77s\tremaining: 1.24s\n",
      "691:\tlearn: 74349.6839327\ttotal: 2.77s\tremaining: 1.24s\n",
      "692:\tlearn: 74329.1355002\ttotal: 2.78s\tremaining: 1.23s\n",
      "693:\tlearn: 74298.8768708\ttotal: 2.78s\tremaining: 1.23s\n",
      "694:\tlearn: 74281.2950714\ttotal: 2.78s\tremaining: 1.22s\n",
      "695:\tlearn: 74240.0849873\ttotal: 2.79s\tremaining: 1.22s\n",
      "696:\tlearn: 74209.4925772\ttotal: 2.79s\tremaining: 1.21s\n",
      "697:\tlearn: 74184.7918866\ttotal: 2.8s\tremaining: 1.21s\n",
      "698:\tlearn: 74170.1866666\ttotal: 2.8s\tremaining: 1.21s\n",
      "699:\tlearn: 74144.3550936\ttotal: 2.81s\tremaining: 1.2s\n",
      "700:\tlearn: 74128.5269974\ttotal: 2.81s\tremaining: 1.2s\n",
      "701:\tlearn: 74105.4106430\ttotal: 2.81s\tremaining: 1.19s\n",
      "702:\tlearn: 74091.2907875\ttotal: 2.81s\tremaining: 1.19s\n",
      "703:\tlearn: 74068.7421787\ttotal: 2.82s\tremaining: 1.19s\n",
      "704:\tlearn: 74044.6451897\ttotal: 2.82s\tremaining: 1.18s\n",
      "705:\tlearn: 74026.1043512\ttotal: 2.83s\tremaining: 1.18s\n",
      "706:\tlearn: 74004.5290073\ttotal: 2.83s\tremaining: 1.17s\n",
      "707:\tlearn: 73975.4261795\ttotal: 2.83s\tremaining: 1.17s\n",
      "708:\tlearn: 73956.5099510\ttotal: 2.83s\tremaining: 1.16s\n",
      "709:\tlearn: 73926.6184006\ttotal: 2.84s\tremaining: 1.16s\n",
      "710:\tlearn: 73895.0274750\ttotal: 2.84s\tremaining: 1.16s\n",
      "711:\tlearn: 73864.9370660\ttotal: 2.85s\tremaining: 1.15s\n",
      "712:\tlearn: 73840.7251836\ttotal: 2.85s\tremaining: 1.15s\n",
      "713:\tlearn: 73822.0221032\ttotal: 2.85s\tremaining: 1.14s\n",
      "714:\tlearn: 73806.8544808\ttotal: 2.85s\tremaining: 1.14s\n",
      "715:\tlearn: 73787.8135412\ttotal: 2.86s\tremaining: 1.13s\n",
      "716:\tlearn: 73754.7576923\ttotal: 2.86s\tremaining: 1.13s\n",
      "717:\tlearn: 73732.3425853\ttotal: 2.87s\tremaining: 1.13s\n",
      "718:\tlearn: 73704.9173874\ttotal: 2.87s\tremaining: 1.12s\n",
      "719:\tlearn: 73684.0624537\ttotal: 2.88s\tremaining: 1.12s\n",
      "720:\tlearn: 73658.8215400\ttotal: 2.88s\tremaining: 1.11s\n",
      "721:\tlearn: 73632.2592192\ttotal: 2.89s\tremaining: 1.11s\n",
      "722:\tlearn: 73605.3562483\ttotal: 2.89s\tremaining: 1.11s\n",
      "723:\tlearn: 73577.8468119\ttotal: 2.89s\tremaining: 1.1s\n",
      "724:\tlearn: 73555.9927509\ttotal: 2.9s\tremaining: 1.1s\n",
      "725:\tlearn: 73524.3968995\ttotal: 2.9s\tremaining: 1.09s\n",
      "726:\tlearn: 73490.9335907\ttotal: 2.9s\tremaining: 1.09s\n",
      "727:\tlearn: 73459.8420414\ttotal: 2.91s\tremaining: 1.09s\n",
      "728:\tlearn: 73423.0162843\ttotal: 2.91s\tremaining: 1.08s\n",
      "729:\tlearn: 73389.2860805\ttotal: 2.92s\tremaining: 1.08s\n",
      "730:\tlearn: 73369.9730994\ttotal: 2.92s\tremaining: 1.07s\n",
      "731:\tlearn: 73340.3165099\ttotal: 2.92s\tremaining: 1.07s\n",
      "732:\tlearn: 73319.9921533\ttotal: 2.93s\tremaining: 1.07s\n",
      "733:\tlearn: 73283.6622332\ttotal: 2.93s\tremaining: 1.06s\n",
      "734:\tlearn: 73265.1014838\ttotal: 2.94s\tremaining: 1.06s\n",
      "735:\tlearn: 73231.2300158\ttotal: 2.94s\tremaining: 1.05s\n",
      "736:\tlearn: 73199.8049602\ttotal: 2.94s\tremaining: 1.05s\n",
      "737:\tlearn: 73179.9855561\ttotal: 2.95s\tremaining: 1.05s\n",
      "738:\tlearn: 73134.3660853\ttotal: 2.95s\tremaining: 1.04s\n",
      "739:\tlearn: 73123.4240728\ttotal: 2.95s\tremaining: 1.04s\n",
      "740:\tlearn: 73099.4808738\ttotal: 2.96s\tremaining: 1.03s\n",
      "741:\tlearn: 73080.4486986\ttotal: 2.96s\tremaining: 1.03s\n",
      "742:\tlearn: 73061.1264049\ttotal: 2.96s\tremaining: 1.02s\n",
      "743:\tlearn: 73038.6318667\ttotal: 2.97s\tremaining: 1.02s\n",
      "744:\tlearn: 73008.8622916\ttotal: 2.97s\tremaining: 1.02s\n",
      "745:\tlearn: 72996.3114076\ttotal: 2.97s\tremaining: 1.01s\n",
      "746:\tlearn: 72961.8287930\ttotal: 2.98s\tremaining: 1.01s\n",
      "747:\tlearn: 72940.3804084\ttotal: 2.98s\tremaining: 1s\n",
      "748:\tlearn: 72912.8341374\ttotal: 2.99s\tremaining: 1s\n",
      "749:\tlearn: 72888.3223203\ttotal: 2.99s\tremaining: 997ms\n",
      "750:\tlearn: 72862.6664244\ttotal: 2.99s\tremaining: 993ms\n",
      "751:\tlearn: 72838.1963241\ttotal: 3s\tremaining: 988ms\n",
      "752:\tlearn: 72828.3990761\ttotal: 3s\tremaining: 984ms\n",
      "753:\tlearn: 72794.3244884\ttotal: 3s\tremaining: 980ms\n",
      "754:\tlearn: 72772.5028353\ttotal: 3.01s\tremaining: 976ms\n",
      "755:\tlearn: 72754.4437207\ttotal: 3.01s\tremaining: 972ms\n",
      "756:\tlearn: 72726.6274256\ttotal: 3.01s\tremaining: 968ms\n",
      "757:\tlearn: 72697.1952174\ttotal: 3.02s\tremaining: 963ms\n",
      "758:\tlearn: 72669.0348530\ttotal: 3.02s\tremaining: 959ms\n",
      "759:\tlearn: 72649.0096768\ttotal: 3.02s\tremaining: 955ms\n",
      "760:\tlearn: 72630.8053771\ttotal: 3.03s\tremaining: 951ms\n",
      "761:\tlearn: 72614.7921385\ttotal: 3.03s\tremaining: 948ms\n",
      "762:\tlearn: 72580.3113133\ttotal: 3.04s\tremaining: 944ms\n",
      "763:\tlearn: 72559.1339738\ttotal: 3.04s\tremaining: 939ms\n",
      "764:\tlearn: 72528.3608583\ttotal: 3.04s\tremaining: 935ms\n",
      "765:\tlearn: 72510.7889814\ttotal: 3.05s\tremaining: 931ms\n",
      "766:\tlearn: 72489.6100539\ttotal: 3.05s\tremaining: 927ms\n",
      "767:\tlearn: 72476.2086492\ttotal: 3.05s\tremaining: 923ms\n",
      "768:\tlearn: 72448.8415233\ttotal: 3.06s\tremaining: 919ms\n",
      "769:\tlearn: 72424.8557120\ttotal: 3.06s\tremaining: 914ms\n",
      "770:\tlearn: 72405.8348395\ttotal: 3.06s\tremaining: 910ms\n",
      "771:\tlearn: 72374.5833534\ttotal: 3.07s\tremaining: 906ms\n",
      "772:\tlearn: 72358.9006326\ttotal: 3.07s\tremaining: 902ms\n",
      "773:\tlearn: 72336.9392983\ttotal: 3.08s\tremaining: 898ms\n",
      "774:\tlearn: 72312.1394415\ttotal: 3.08s\tremaining: 894ms\n",
      "775:\tlearn: 72284.9579548\ttotal: 3.08s\tremaining: 890ms\n",
      "776:\tlearn: 72253.5100039\ttotal: 3.08s\tremaining: 886ms\n",
      "777:\tlearn: 72239.2724270\ttotal: 3.09s\tremaining: 881ms\n",
      "778:\tlearn: 72212.0158650\ttotal: 3.09s\tremaining: 877ms\n",
      "779:\tlearn: 72190.3165862\ttotal: 3.1s\tremaining: 873ms\n",
      "780:\tlearn: 72171.6781451\ttotal: 3.1s\tremaining: 870ms\n",
      "781:\tlearn: 72151.6361261\ttotal: 3.11s\tremaining: 866ms\n",
      "782:\tlearn: 72125.7676062\ttotal: 3.12s\tremaining: 864ms\n",
      "783:\tlearn: 72100.6487848\ttotal: 3.12s\tremaining: 861ms\n",
      "784:\tlearn: 72085.7860277\ttotal: 3.13s\tremaining: 858ms\n",
      "785:\tlearn: 72065.0082170\ttotal: 3.14s\tremaining: 855ms\n",
      "786:\tlearn: 72038.2695963\ttotal: 3.15s\tremaining: 853ms\n",
      "787:\tlearn: 72018.8097834\ttotal: 3.16s\tremaining: 850ms\n",
      "788:\tlearn: 72004.8290001\ttotal: 3.16s\tremaining: 846ms\n",
      "789:\tlearn: 71974.3420262\ttotal: 3.17s\tremaining: 842ms\n",
      "790:\tlearn: 71951.4426207\ttotal: 3.17s\tremaining: 839ms\n",
      "791:\tlearn: 71924.0995390\ttotal: 3.18s\tremaining: 835ms\n",
      "792:\tlearn: 71909.5082498\ttotal: 3.19s\tremaining: 832ms\n",
      "793:\tlearn: 71898.0472861\ttotal: 3.19s\tremaining: 827ms\n",
      "794:\tlearn: 71876.5310505\ttotal: 3.19s\tremaining: 823ms\n",
      "795:\tlearn: 71850.8173194\ttotal: 3.2s\tremaining: 819ms\n",
      "796:\tlearn: 71829.2823847\ttotal: 3.2s\tremaining: 815ms\n",
      "797:\tlearn: 71786.4672200\ttotal: 3.2s\tremaining: 811ms\n",
      "798:\tlearn: 71768.3927788\ttotal: 3.21s\tremaining: 807ms\n",
      "799:\tlearn: 71746.1242548\ttotal: 3.21s\tremaining: 802ms\n",
      "800:\tlearn: 71723.3699375\ttotal: 3.21s\tremaining: 798ms\n",
      "801:\tlearn: 71697.5394686\ttotal: 3.22s\tremaining: 794ms\n",
      "802:\tlearn: 71671.4794154\ttotal: 3.22s\tremaining: 790ms\n",
      "803:\tlearn: 71625.4559324\ttotal: 3.22s\tremaining: 786ms\n",
      "804:\tlearn: 71606.0636182\ttotal: 3.23s\tremaining: 782ms\n",
      "805:\tlearn: 71581.6475371\ttotal: 3.23s\tremaining: 777ms\n",
      "806:\tlearn: 71552.5894994\ttotal: 3.23s\tremaining: 773ms\n",
      "807:\tlearn: 71537.7061328\ttotal: 3.24s\tremaining: 769ms\n",
      "808:\tlearn: 71511.8929669\ttotal: 3.24s\tremaining: 765ms\n",
      "809:\tlearn: 71500.0919981\ttotal: 3.24s\tremaining: 761ms\n",
      "810:\tlearn: 71484.8268338\ttotal: 3.25s\tremaining: 757ms\n",
      "811:\tlearn: 71452.7519735\ttotal: 3.25s\tremaining: 752ms\n",
      "812:\tlearn: 71438.2884585\ttotal: 3.25s\tremaining: 748ms\n",
      "813:\tlearn: 71424.6297219\ttotal: 3.26s\tremaining: 744ms\n",
      "814:\tlearn: 71381.1278476\ttotal: 3.26s\tremaining: 740ms\n",
      "815:\tlearn: 71358.4654647\ttotal: 3.26s\tremaining: 736ms\n",
      "816:\tlearn: 71334.8016707\ttotal: 3.27s\tremaining: 732ms\n",
      "817:\tlearn: 71314.5819822\ttotal: 3.27s\tremaining: 728ms\n",
      "818:\tlearn: 71292.7316231\ttotal: 3.27s\tremaining: 723ms\n",
      "819:\tlearn: 71266.3915545\ttotal: 3.28s\tremaining: 720ms\n",
      "820:\tlearn: 71245.1092884\ttotal: 3.28s\tremaining: 715ms\n",
      "821:\tlearn: 71217.5631931\ttotal: 3.28s\tremaining: 711ms\n",
      "822:\tlearn: 71202.0559715\ttotal: 3.29s\tremaining: 707ms\n",
      "823:\tlearn: 71186.3380578\ttotal: 3.29s\tremaining: 703ms\n",
      "824:\tlearn: 71165.0537822\ttotal: 3.29s\tremaining: 699ms\n",
      "825:\tlearn: 71131.3490680\ttotal: 3.3s\tremaining: 695ms\n",
      "826:\tlearn: 71109.2449825\ttotal: 3.3s\tremaining: 691ms\n",
      "827:\tlearn: 71088.3628569\ttotal: 3.31s\tremaining: 687ms\n",
      "828:\tlearn: 71070.1070270\ttotal: 3.31s\tremaining: 683ms\n",
      "829:\tlearn: 71046.2465238\ttotal: 3.31s\tremaining: 679ms\n",
      "830:\tlearn: 71026.8059251\ttotal: 3.32s\tremaining: 675ms\n",
      "831:\tlearn: 70993.5995870\ttotal: 3.32s\tremaining: 671ms\n",
      "832:\tlearn: 70966.6948964\ttotal: 3.33s\tremaining: 668ms\n",
      "833:\tlearn: 70946.2432680\ttotal: 3.34s\tremaining: 665ms\n",
      "834:\tlearn: 70928.8733831\ttotal: 3.35s\tremaining: 662ms\n",
      "835:\tlearn: 70906.2455566\ttotal: 3.35s\tremaining: 658ms\n",
      "836:\tlearn: 70880.6119531\ttotal: 3.35s\tremaining: 653ms\n",
      "837:\tlearn: 70873.6369211\ttotal: 3.36s\tremaining: 649ms\n",
      "838:\tlearn: 70858.7280434\ttotal: 3.36s\tremaining: 645ms\n",
      "839:\tlearn: 70835.4044167\ttotal: 3.37s\tremaining: 641ms\n",
      "840:\tlearn: 70809.3907388\ttotal: 3.37s\tremaining: 637ms\n",
      "841:\tlearn: 70787.2644821\ttotal: 3.38s\tremaining: 633ms\n",
      "842:\tlearn: 70756.4475933\ttotal: 3.38s\tremaining: 629ms\n",
      "843:\tlearn: 70729.7731684\ttotal: 3.38s\tremaining: 625ms\n",
      "844:\tlearn: 70700.6728227\ttotal: 3.38s\tremaining: 621ms\n",
      "845:\tlearn: 70678.9797023\ttotal: 3.39s\tremaining: 617ms\n",
      "846:\tlearn: 70661.5281150\ttotal: 3.39s\tremaining: 613ms\n",
      "847:\tlearn: 70635.6671783\ttotal: 3.4s\tremaining: 609ms\n",
      "848:\tlearn: 70619.7828480\ttotal: 3.4s\tremaining: 604ms\n",
      "849:\tlearn: 70591.6696438\ttotal: 3.4s\tremaining: 600ms\n",
      "850:\tlearn: 70575.2395498\ttotal: 3.4s\tremaining: 596ms\n",
      "851:\tlearn: 70562.3287084\ttotal: 3.41s\tremaining: 592ms\n",
      "852:\tlearn: 70536.6391674\ttotal: 3.41s\tremaining: 588ms\n",
      "853:\tlearn: 70520.2451719\ttotal: 3.42s\tremaining: 584ms\n",
      "854:\tlearn: 70500.4797013\ttotal: 3.42s\tremaining: 580ms\n",
      "855:\tlearn: 70473.2485750\ttotal: 3.42s\tremaining: 576ms\n",
      "856:\tlearn: 70455.1354287\ttotal: 3.43s\tremaining: 572ms\n",
      "857:\tlearn: 70428.2150940\ttotal: 3.43s\tremaining: 568ms\n",
      "858:\tlearn: 70417.4673420\ttotal: 3.43s\tremaining: 564ms\n",
      "859:\tlearn: 70399.0414415\ttotal: 3.44s\tremaining: 560ms\n",
      "860:\tlearn: 70372.5854663\ttotal: 3.44s\tremaining: 556ms\n",
      "861:\tlearn: 70352.3294119\ttotal: 3.45s\tremaining: 552ms\n",
      "862:\tlearn: 70334.3815367\ttotal: 3.45s\tremaining: 548ms\n",
      "863:\tlearn: 70317.6668451\ttotal: 3.46s\tremaining: 544ms\n",
      "864:\tlearn: 70298.6122017\ttotal: 3.46s\tremaining: 540ms\n",
      "865:\tlearn: 70272.1243078\ttotal: 3.46s\tremaining: 536ms\n",
      "866:\tlearn: 70250.3434433\ttotal: 3.47s\tremaining: 532ms\n",
      "867:\tlearn: 70227.8496689\ttotal: 3.47s\tremaining: 528ms\n",
      "868:\tlearn: 70202.3973037\ttotal: 3.47s\tremaining: 524ms\n",
      "869:\tlearn: 70165.8556440\ttotal: 3.48s\tremaining: 519ms\n",
      "870:\tlearn: 70142.0027394\ttotal: 3.48s\tremaining: 516ms\n",
      "871:\tlearn: 70117.3259158\ttotal: 3.48s\tremaining: 512ms\n",
      "872:\tlearn: 70109.0308664\ttotal: 3.49s\tremaining: 507ms\n",
      "873:\tlearn: 70098.8666299\ttotal: 3.49s\tremaining: 504ms\n",
      "874:\tlearn: 70089.0870327\ttotal: 3.5s\tremaining: 501ms\n",
      "875:\tlearn: 70062.4065645\ttotal: 3.52s\tremaining: 498ms\n",
      "876:\tlearn: 70030.2695881\ttotal: 3.53s\tremaining: 496ms\n",
      "877:\tlearn: 70018.3049801\ttotal: 3.54s\tremaining: 492ms\n",
      "878:\tlearn: 69993.7682164\ttotal: 3.54s\tremaining: 488ms\n",
      "879:\tlearn: 69970.6004773\ttotal: 3.54s\tremaining: 484ms\n",
      "880:\tlearn: 69950.8554922\ttotal: 3.55s\tremaining: 479ms\n",
      "881:\tlearn: 69924.1819615\ttotal: 3.56s\tremaining: 476ms\n",
      "882:\tlearn: 69891.0928185\ttotal: 3.56s\tremaining: 472ms\n",
      "883:\tlearn: 69874.4336349\ttotal: 3.56s\tremaining: 467ms\n",
      "884:\tlearn: 69857.2423559\ttotal: 3.56s\tremaining: 463ms\n",
      "885:\tlearn: 69841.9530900\ttotal: 3.57s\tremaining: 459ms\n",
      "886:\tlearn: 69828.2695467\ttotal: 3.57s\tremaining: 455ms\n",
      "887:\tlearn: 69814.7599559\ttotal: 3.58s\tremaining: 451ms\n",
      "888:\tlearn: 69797.4255569\ttotal: 3.58s\tremaining: 447ms\n",
      "889:\tlearn: 69777.1273664\ttotal: 3.58s\tremaining: 443ms\n",
      "890:\tlearn: 69746.8545764\ttotal: 3.58s\tremaining: 439ms\n",
      "891:\tlearn: 69723.3993203\ttotal: 3.59s\tremaining: 435ms\n",
      "892:\tlearn: 69715.6694335\ttotal: 3.59s\tremaining: 430ms\n",
      "893:\tlearn: 69694.7436488\ttotal: 3.6s\tremaining: 426ms\n",
      "894:\tlearn: 69665.5034736\ttotal: 3.6s\tremaining: 422ms\n",
      "895:\tlearn: 69648.1794253\ttotal: 3.6s\tremaining: 418ms\n",
      "896:\tlearn: 69629.6333641\ttotal: 3.61s\tremaining: 414ms\n",
      "897:\tlearn: 69595.8879054\ttotal: 3.61s\tremaining: 410ms\n",
      "898:\tlearn: 69556.9558523\ttotal: 3.61s\tremaining: 406ms\n",
      "899:\tlearn: 69530.7434340\ttotal: 3.62s\tremaining: 402ms\n",
      "900:\tlearn: 69521.8634979\ttotal: 3.62s\tremaining: 398ms\n",
      "901:\tlearn: 69500.8206734\ttotal: 3.62s\tremaining: 394ms\n",
      "902:\tlearn: 69485.9385635\ttotal: 3.63s\tremaining: 390ms\n",
      "903:\tlearn: 69461.3283891\ttotal: 3.63s\tremaining: 386ms\n",
      "904:\tlearn: 69442.4484085\ttotal: 3.63s\tremaining: 381ms\n",
      "905:\tlearn: 69420.4225160\ttotal: 3.64s\tremaining: 377ms\n",
      "906:\tlearn: 69411.7227085\ttotal: 3.64s\tremaining: 373ms\n",
      "907:\tlearn: 69396.2848494\ttotal: 3.64s\tremaining: 369ms\n",
      "908:\tlearn: 69373.0152305\ttotal: 3.65s\tremaining: 365ms\n",
      "909:\tlearn: 69362.9595594\ttotal: 3.65s\tremaining: 361ms\n",
      "910:\tlearn: 69338.7967938\ttotal: 3.65s\tremaining: 357ms\n",
      "911:\tlearn: 69306.3046017\ttotal: 3.66s\tremaining: 353ms\n",
      "912:\tlearn: 69283.8688213\ttotal: 3.66s\tremaining: 349ms\n",
      "913:\tlearn: 69254.3147704\ttotal: 3.66s\tremaining: 345ms\n",
      "914:\tlearn: 69227.2349587\ttotal: 3.67s\tremaining: 341ms\n",
      "915:\tlearn: 69207.0211033\ttotal: 3.67s\tremaining: 337ms\n",
      "916:\tlearn: 69188.2720461\ttotal: 3.67s\tremaining: 333ms\n",
      "917:\tlearn: 69170.7168622\ttotal: 3.68s\tremaining: 329ms\n",
      "918:\tlearn: 69144.3759916\ttotal: 3.68s\tremaining: 325ms\n",
      "919:\tlearn: 69112.6573806\ttotal: 3.69s\tremaining: 321ms\n",
      "920:\tlearn: 69096.6895668\ttotal: 3.69s\tremaining: 316ms\n",
      "921:\tlearn: 69078.4871179\ttotal: 3.69s\tremaining: 312ms\n",
      "922:\tlearn: 69063.8897200\ttotal: 3.7s\tremaining: 308ms\n",
      "923:\tlearn: 69045.5250519\ttotal: 3.7s\tremaining: 304ms\n",
      "924:\tlearn: 69035.6414586\ttotal: 3.7s\tremaining: 300ms\n",
      "925:\tlearn: 69021.5631368\ttotal: 3.71s\tremaining: 296ms\n",
      "926:\tlearn: 69002.2628919\ttotal: 3.71s\tremaining: 292ms\n",
      "927:\tlearn: 68974.5266174\ttotal: 3.71s\tremaining: 288ms\n",
      "928:\tlearn: 68950.6672068\ttotal: 3.72s\tremaining: 284ms\n",
      "929:\tlearn: 68920.7871600\ttotal: 3.72s\tremaining: 280ms\n",
      "930:\tlearn: 68903.4493224\ttotal: 3.73s\tremaining: 276ms\n",
      "931:\tlearn: 68881.6605064\ttotal: 3.73s\tremaining: 272ms\n",
      "932:\tlearn: 68859.2320602\ttotal: 3.73s\tremaining: 268ms\n",
      "933:\tlearn: 68838.6239583\ttotal: 3.73s\tremaining: 264ms\n",
      "934:\tlearn: 68820.1847371\ttotal: 3.74s\tremaining: 260ms\n",
      "935:\tlearn: 68809.3708826\ttotal: 3.74s\tremaining: 256ms\n",
      "936:\tlearn: 68788.1623912\ttotal: 3.75s\tremaining: 252ms\n",
      "937:\tlearn: 68772.3230212\ttotal: 3.75s\tremaining: 248ms\n",
      "938:\tlearn: 68752.3266658\ttotal: 3.75s\tremaining: 244ms\n",
      "939:\tlearn: 68738.5854378\ttotal: 3.76s\tremaining: 240ms\n",
      "940:\tlearn: 68711.9057783\ttotal: 3.77s\tremaining: 236ms\n",
      "941:\tlearn: 68684.1352208\ttotal: 3.77s\tremaining: 232ms\n",
      "942:\tlearn: 68658.7487426\ttotal: 3.78s\tremaining: 228ms\n",
      "943:\tlearn: 68651.2911144\ttotal: 3.78s\tremaining: 224ms\n",
      "944:\tlearn: 68626.8957433\ttotal: 3.78s\tremaining: 220ms\n",
      "945:\tlearn: 68616.1004302\ttotal: 3.79s\tremaining: 216ms\n",
      "946:\tlearn: 68603.9193211\ttotal: 3.79s\tremaining: 212ms\n",
      "947:\tlearn: 68591.5944902\ttotal: 3.79s\tremaining: 208ms\n",
      "948:\tlearn: 68571.9721090\ttotal: 3.79s\tremaining: 204ms\n",
      "949:\tlearn: 68557.4924285\ttotal: 3.8s\tremaining: 200ms\n",
      "950:\tlearn: 68530.5686668\ttotal: 3.8s\tremaining: 196ms\n",
      "951:\tlearn: 68514.4964817\ttotal: 3.81s\tremaining: 192ms\n",
      "952:\tlearn: 68494.9059782\ttotal: 3.81s\tremaining: 188ms\n",
      "953:\tlearn: 68482.1526343\ttotal: 3.81s\tremaining: 184ms\n",
      "954:\tlearn: 68460.5344390\ttotal: 3.82s\tremaining: 180ms\n",
      "955:\tlearn: 68451.7198896\ttotal: 3.82s\tremaining: 176ms\n",
      "956:\tlearn: 68425.7146498\ttotal: 3.82s\tremaining: 172ms\n",
      "957:\tlearn: 68411.0665086\ttotal: 3.83s\tremaining: 168ms\n",
      "958:\tlearn: 68378.7334974\ttotal: 3.83s\tremaining: 164ms\n",
      "959:\tlearn: 68351.6880641\ttotal: 3.83s\tremaining: 160ms\n",
      "960:\tlearn: 68336.1952148\ttotal: 3.84s\tremaining: 156ms\n",
      "961:\tlearn: 68318.5140864\ttotal: 3.84s\tremaining: 152ms\n",
      "962:\tlearn: 68300.9013915\ttotal: 3.85s\tremaining: 148ms\n",
      "963:\tlearn: 68293.4475514\ttotal: 3.85s\tremaining: 144ms\n",
      "964:\tlearn: 68273.1479371\ttotal: 3.86s\tremaining: 140ms\n",
      "965:\tlearn: 68243.7803774\ttotal: 3.86s\tremaining: 136ms\n",
      "966:\tlearn: 68224.5912387\ttotal: 3.86s\tremaining: 132ms\n",
      "967:\tlearn: 68197.0302379\ttotal: 3.87s\tremaining: 128ms\n",
      "968:\tlearn: 68177.2839293\ttotal: 3.87s\tremaining: 124ms\n",
      "969:\tlearn: 68163.4311030\ttotal: 3.88s\tremaining: 120ms\n",
      "970:\tlearn: 68142.9772250\ttotal: 3.88s\tremaining: 116ms\n",
      "971:\tlearn: 68115.2353039\ttotal: 3.88s\tremaining: 112ms\n",
      "972:\tlearn: 68097.2253885\ttotal: 3.88s\tremaining: 108ms\n",
      "973:\tlearn: 68072.3792095\ttotal: 3.89s\tremaining: 104ms\n",
      "974:\tlearn: 68058.1887703\ttotal: 3.89s\tremaining: 99.8ms\n",
      "975:\tlearn: 68041.5250073\ttotal: 3.9s\tremaining: 95.8ms\n",
      "976:\tlearn: 68020.2958481\ttotal: 3.9s\tremaining: 91.8ms\n",
      "977:\tlearn: 68009.3533940\ttotal: 3.9s\tremaining: 87.8ms\n",
      "978:\tlearn: 67987.0072094\ttotal: 3.91s\tremaining: 83.8ms\n",
      "979:\tlearn: 67974.5888036\ttotal: 3.91s\tremaining: 79.8ms\n",
      "980:\tlearn: 67949.3585422\ttotal: 3.91s\tremaining: 75.8ms\n",
      "981:\tlearn: 67933.6596056\ttotal: 3.92s\tremaining: 71.8ms\n",
      "982:\tlearn: 67917.3757250\ttotal: 3.92s\tremaining: 67.8ms\n",
      "983:\tlearn: 67900.0949367\ttotal: 3.92s\tremaining: 63.8ms\n",
      "984:\tlearn: 67868.9984442\ttotal: 3.93s\tremaining: 59.8ms\n",
      "985:\tlearn: 67852.9993035\ttotal: 3.93s\tremaining: 55.8ms\n",
      "986:\tlearn: 67829.3449087\ttotal: 3.94s\tremaining: 51.8ms\n",
      "987:\tlearn: 67823.3889692\ttotal: 3.94s\tremaining: 47.8ms\n",
      "988:\tlearn: 67796.0126343\ttotal: 3.94s\tremaining: 43.9ms\n",
      "989:\tlearn: 67769.5527992\ttotal: 3.95s\tremaining: 39.9ms\n",
      "990:\tlearn: 67745.2732456\ttotal: 3.95s\tremaining: 35.9ms\n",
      "991:\tlearn: 67739.2371848\ttotal: 3.95s\tremaining: 31.9ms\n",
      "992:\tlearn: 67715.7528052\ttotal: 3.96s\tremaining: 27.9ms\n",
      "993:\tlearn: 67705.6127485\ttotal: 3.96s\tremaining: 23.9ms\n",
      "994:\tlearn: 67689.5137427\ttotal: 3.96s\tremaining: 19.9ms\n",
      "995:\tlearn: 67683.5938980\ttotal: 3.97s\tremaining: 15.9ms\n",
      "996:\tlearn: 67658.2283406\ttotal: 3.97s\tremaining: 12ms\n",
      "997:\tlearn: 67640.1751494\ttotal: 3.98s\tremaining: 7.97ms\n",
      "998:\tlearn: 67614.7802327\ttotal: 3.98s\tremaining: 3.98ms\n",
      "999:\tlearn: 67596.2366951\ttotal: 3.98s\tremaining: 0us\n"
     ]
    },
    {
     "data": {
      "text/plain": [
       "0.9046473600451286"
      ]
     },
     "execution_count": 8,
     "metadata": {},
     "output_type": "execute_result"
    }
   ],
   "source": [
    "from catboost import CatBoostRegressor\n",
    "\n",
    "\n",
    "cat = CatBoostRegressor()\n",
    "# has issues with Polars input going to use a pandas_transformer\n",
    "def to_pandas(df):\n",
    "    return df.to_pandas()\n",
    "pandas_transformer = FunctionTransformer(to_pandas)\n",
    "\n",
    "y = raw.select('price')\n",
    "\n",
    "X_train, X_test, y_train, y_test = train_test_split(raw, y, test_size=0.2, random_state=42)\n",
    "cat_pipe = Pipeline(steps=[('tweak', tweak_transformer),\n",
    "                      ('zip_avg_price', ZipAvgPriceAdder()),\n",
    "                      ('preprocessor', preprocessor),\n",
    "                      ('to_pandas', pandas_transformer),\n",
    "                      ('cat', cat), \n",
    "                      ])\n",
    "\n",
    "cat_pipe.fit(X_train, y_train.to_numpy()[:,0])\n",
    "cat_pipe.score(X_test, y_test.to_numpy()[:,0])"
   ]
  },
  {
   "cell_type": "code",
   "execution_count": null,
   "metadata": {},
   "outputs": [],
   "source": []
  },
  {
   "cell_type": "code",
   "execution_count": null,
   "metadata": {},
   "outputs": [],
   "source": []
  },
  {
   "cell_type": "code",
   "execution_count": null,
   "metadata": {},
   "outputs": [],
   "source": []
  },
  {
   "cell_type": "markdown",
   "metadata": {},
   "source": [
    "\n",
    "## Challenge\n",
    "\n",
    "Create a pipeline for a Random Forest model and train it on the data. (see `ensemble.RandomForestRegressor` in scikit-learn). What is the score?"
   ]
  },
  {
   "cell_type": "code",
   "execution_count": null,
   "metadata": {},
   "outputs": [],
   "source": []
  },
  {
   "cell_type": "markdown",
   "metadata": {},
   "source": [
    "\n",
    "\n",
    "## Solution"
   ]
  },
  {
   "cell_type": "code",
   "execution_count": 26,
   "metadata": {},
   "outputs": [
    {
     "data": {
      "text/plain": [
       "0.8730702090576012"
      ]
     },
     "execution_count": 26,
     "metadata": {},
     "output_type": "execute_result"
    }
   ],
   "source": [
    "from sklearn.tree import DecisionTreeRegressor\n",
    "from sklearn.ensemble import RandomForestRegressor\n",
    "\n",
    "rf = RandomForestRegressor()\n",
    "y = raw.select('price')\n",
    "X_train, X_test, y_train, y_test = train_test_split(raw, y, test_size=0.2, random_state=42)\n",
    "rf_pipe = Pipeline(steps=[('tweak', tweak_transformer),\n",
    "                      ('zip_avg_price', ZipAvgPriceAdder()),\n",
    "                      ('preprocessor', preprocessor),\n",
    "                      ('rf', rf),\n",
    "                      ])\n",
    "\n",
    "rf_pipe.fit(X_train, y_train)\n",
    "rf_pipe.score(X_test, y_test)"
   ]
  },
  {
   "cell_type": "code",
   "execution_count": null,
   "metadata": {},
   "outputs": [],
   "source": []
  },
  {
   "cell_type": "code",
   "execution_count": null,
   "metadata": {},
   "outputs": [],
   "source": []
  },
  {
   "cell_type": "code",
   "execution_count": null,
   "metadata": {},
   "outputs": [],
   "source": []
  },
  {
   "cell_type": "code",
   "execution_count": null,
   "metadata": {},
   "outputs": [],
   "source": []
  },
  {
   "cell_type": "code",
   "execution_count": null,
   "metadata": {},
   "outputs": [],
   "source": []
  },
  {
   "cell_type": "markdown",
   "metadata": {
    "vscode": {
     "languageId": "plaintext"
    }
   },
   "source": [
    "# Evaluation\n"
   ]
  },
  {
   "cell_type": "markdown",
   "metadata": {},
   "source": [
    "\n",
    "## R2\n",
    "\n",
    "\n",
    "The Coefficient of Determination, R2, is a measure of how well the model fits the data. It is a value between 0 and 1. It tells us how much of the variance in the target variable is predictable from the features.\n",
    "\n",
    "A value of 0 means that the model explains none of the variability. A value of 1 means that the model explains all the variability.\n",
    "\n",
    "Note that it doesn't indicate whether a model is overfitting or underfitting the data."
   ]
  },
  {
   "cell_type": "code",
   "execution_count": 10,
   "metadata": {
    "scrolled": true
   },
   "outputs": [
    {
     "data": {
      "text/plain": [
       "0.9046473600451286"
      ]
     },
     "execution_count": 10,
     "metadata": {},
     "output_type": "execute_result"
    }
   ],
   "source": [
    "cat_pipe.score(X_test, y_test.to_numpy()[:,0])"
   ]
  },
  {
   "cell_type": "code",
   "execution_count": null,
   "metadata": {},
   "outputs": [],
   "source": []
  },
  {
   "cell_type": "code",
   "execution_count": null,
   "metadata": {},
   "outputs": [],
   "source": []
  },
  {
   "cell_type": "code",
   "execution_count": null,
   "metadata": {},
   "outputs": [],
   "source": []
  },
  {
   "cell_type": "code",
   "execution_count": null,
   "metadata": {},
   "outputs": [],
   "source": []
  },
  {
   "cell_type": "markdown",
   "metadata": {},
   "source": [
    "\n",
    "## Mean Squared/Absolute Error\n"
   ]
  },
  {
   "cell_type": "code",
   "execution_count": 11,
   "metadata": {},
   "outputs": [
    {
     "data": {
      "text/plain": [
       "14415098613.389244"
      ]
     },
     "execution_count": 11,
     "metadata": {},
     "output_type": "execute_result"
    }
   ],
   "source": [
    "from sklearn.metrics import mean_squared_error\n",
    "\n",
    "mean_squared_error(y_test, cat_pipe.predict(X_test))"
   ]
  },
  {
   "cell_type": "code",
   "execution_count": 12,
   "metadata": {},
   "outputs": [
    {
     "data": {
      "text/plain": [
       "120062.89440701171"
      ]
     },
     "execution_count": 12,
     "metadata": {},
     "output_type": "execute_result"
    }
   ],
   "source": [
    "# rmse\n",
    "mean_squared_error(y_test, cat_pipe.predict(X_test), squared=False)"
   ]
  },
  {
   "cell_type": "code",
   "execution_count": 13,
   "metadata": {
    "scrolled": true
   },
   "outputs": [
    {
     "data": {
      "text/plain": [
       "64449.15608948771"
      ]
     },
     "execution_count": 13,
     "metadata": {},
     "output_type": "execute_result"
    }
   ],
   "source": [
    "# absolute error\n",
    "from sklearn.metrics import mean_absolute_error\n",
    "\n",
    "mean_absolute_error(y_test, cat_pipe.predict(X_test))"
   ]
  },
  {
   "cell_type": "code",
   "execution_count": 17,
   "metadata": {},
   "outputs": [
    {
     "data": {
      "text/plain": [
       "98918.93077723803"
      ]
     },
     "execution_count": 17,
     "metadata": {},
     "output_type": "execute_result"
    }
   ],
   "source": [
    "# compare to lr model\n",
    "from sklearn.metrics import mean_absolute_error\n",
    "\n",
    "mean_absolute_error(y_test, lr_pipe.predict(X_test))"
   ]
  },
  {
   "cell_type": "code",
   "execution_count": null,
   "metadata": {},
   "outputs": [],
   "source": []
  },
  {
   "cell_type": "code",
   "execution_count": null,
   "metadata": {},
   "outputs": [],
   "source": []
  },
  {
   "cell_type": "code",
   "execution_count": null,
   "metadata": {},
   "outputs": [],
   "source": []
  },
  {
   "cell_type": "code",
   "execution_count": null,
   "metadata": {},
   "outputs": [],
   "source": []
  },
  {
   "cell_type": "code",
   "execution_count": null,
   "metadata": {},
   "outputs": [],
   "source": []
  },
  {
   "cell_type": "code",
   "execution_count": null,
   "metadata": {},
   "outputs": [],
   "source": []
  },
  {
   "cell_type": "markdown",
   "metadata": {},
   "source": [
    "\n",
    "## Residuals Plot\n"
   ]
  },
  {
   "cell_type": "code",
   "execution_count": 18,
   "metadata": {},
   "outputs": [
    {
     "data": {
      "text/plain": [
       "Text(0.5, 1.0, 'Residual plot')"
      ]
     },
     "execution_count": 18,
     "metadata": {},
     "output_type": "execute_result"
    },
    {
     "data": {
      "image/png": "[encoded data removed]",
      "text/plain": [
       "<Figure size 640x480 with 1 Axes>"
      ]
     },
     "metadata": {},
     "output_type": "display_data"
    }
   ],
   "source": [
    "# make a residual plot\n",
    "import matplotlib.pyplot as plt\n",
    "\n",
    "ax = plt.scatter(y_test, \n",
    "    y_test.to_series().to_numpy() - cat_pipe.predict(X_test), alpha=0.1)\n",
    "# make labels not be scientific notation\n",
    "plt.ticklabel_format(style='plain', axis='y')\n",
    "plt.ticklabel_format(style='plain', axis='x')\n",
    "# set y limits to -500,000 to 500,000\n",
    "plt.ylim(-500_000, 500_000)\n",
    "plt.xlabel('True price')\n",
    "plt.ylabel('Residual')\n",
    "plt.title('Residual plot')"
   ]
  },
  {
   "cell_type": "code",
   "execution_count": 21,
   "metadata": {},
   "outputs": [
    {
     "data": {
      "application/javascript": "(function(root) {\n  function now() {\n    return new Date();\n  }\n\n  var force = true;\n  var py_version = '3.4.0'.replace('rc', '-rc.').replace('.dev', '-dev.');\n  var reloading = false;\n  var Bokeh = root.Bokeh;\n\n  if (typeof (root._bokeh_timeout) === \"undefined\" || force) {\n    root._bokeh_timeout = Date.now() + 5000;\n    root._bokeh_failed_load = false;\n  }\n\n  function run_callbacks() {\n    try {\n      root._bokeh_onload_callbacks.forEach(function(callback) {\n        if (callback != null)\n          callback();\n      });\n    } finally {\n      delete root._bokeh_onload_callbacks;\n    }\n    console.debug(\"Bokeh: all callbacks have finished\");\n  }\n\n  function load_libs(css_urls, js_urls, js_modules, js_exports, callback) {\n    if (css_urls == null) css_urls = [];\n    if (js_urls == null) js_urls = [];\n    if (js_modules == null) js_modules = [];\n    if (js_exports == null) js_exports = {};\n\n    root._bokeh_onload_callbacks.push(callback);\n\n    if (root._bokeh_is_loading > 0) {\n      console.debug(\"Bokeh: BokehJS is being loaded, scheduling callback at\", now());\n      return null;\n    }\n    if (js_urls.length === 0 && js_modules.length === 0 && Object.keys(js_exports).length === 0) {\n      run_callbacks();\n      return null;\n    }\n    if (!reloading) {\n      console.debug(\"Bokeh: BokehJS not loaded, scheduling load and callback at\", now());\n    }\n\n    function on_load() {\n      root._bokeh_is_loading--;\n      if (root._bokeh_is_loading === 0) {\n        console.debug(\"Bokeh: all BokehJS libraries/stylesheets loaded\");\n        run_callbacks()\n      }\n    }\n    window._bokeh_on_load = on_load\n\n    function on_error() {\n      console.error(\"failed to load \" + url);\n    }\n\n    var skip = [];\n    if (window.requirejs) {\n      window.requirejs.config({'packages': {}, 'paths': {}, 'shim': {}});\n      root._bokeh_is_loading = css_urls.length + 0;\n    } else {\n      root._bokeh_is_loading = css_urls.length + js_urls.length + js_modules.length + Object.keys(js_exports).length;\n    }\n\n    var existing_stylesheets = []\n    var links = document.getElementsByTagName('link')\n    for (var i = 0; i < links.length; i++) {\n      var link = links[i]\n      if (link.href != null) {\n\texisting_stylesheets.push(link.href)\n      }\n    }\n    for (var i = 0; i < css_urls.length; i++) {\n      var url = css_urls[i];\n      if (existing_stylesheets.indexOf(url) !== -1) {\n\ton_load()\n\tcontinue;\n      }\n      const element = document.createElement(\"link\");\n      element.onload = on_load;\n      element.onerror = on_error;\n      element.rel = \"stylesheet\";\n      element.type = \"text/css\";\n      element.href = url;\n      console.debug(\"Bokeh: injecting link tag for BokehJS stylesheet: \", url);\n      document.body.appendChild(element);\n    }    var existing_scripts = []\n    var scripts = document.getElementsByTagName('script')\n    for (var i = 0; i < scripts.length; i++) {\n      var script = scripts[i]\n      if (script.src != null) {\n\texisting_scripts.push(script.src)\n      }\n    }\n    for (var i = 0; i < js_urls.length; i++) {\n      var url = js_urls[i];\n      if (skip.indexOf(url) !== -1 || existing_scripts.indexOf(url) !== -1) {\n\tif (!window.requirejs) {\n\t  on_load();\n\t}\n\tcontinue;\n      }\n      var element = document.createElement('script');\n      element.onload = on_load;\n      element.onerror = on_error;\n      element.async = false;\n      element.src = url;\n      console.debug(\"Bokeh: injecting script tag for BokehJS library: \", url);\n      document.head.appendChild(element);\n    }\n    for (var i = 0; i < js_modules.length; i++) {\n      var url = js_modules[i];\n      if (skip.indexOf(url) !== -1 || existing_scripts.indexOf(url) !== -1) {\n\tif (!window.requirejs) {\n\t  on_load();\n\t}\n\tcontinue;\n      }\n      var element = document.createElement('script');\n      element.onload = on_load;\n      element.onerror = on_error;\n      element.async = false;\n      element.src = url;\n      element.type = \"module\";\n      console.debug(\"Bokeh: injecting script tag for BokehJS library: \", url);\n      document.head.appendChild(element);\n    }\n    for (const name in js_exports) {\n      var url = js_exports[name];\n      if (skip.indexOf(url) >= 0 || root[name] != null) {\n\tif (!window.requirejs) {\n\t  on_load();\n\t}\n\tcontinue;\n      }\n      var element = document.createElement('script');\n      element.onerror = on_error;\n      element.async = false;\n      element.type = \"module\";\n      console.debug(\"Bokeh: injecting script tag for BokehJS library: \", url);\n      element.textContent = `\n      import ${name} from \"${url}\"\n      window.${name} = ${name}\n      window._bokeh_on_load()\n      `\n      document.head.appendChild(element);\n    }\n    if (!js_urls.length && !js_modules.length) {\n      on_load()\n    }\n  };\n\n  function inject_raw_css(css) {\n    const element = document.createElement(\"style\");\n    element.appendChild(document.createTextNode(css));\n    document.body.appendChild(element);\n  }\n\n  var js_urls = [\"https://cdn.bokeh.org/bokeh/release/bokeh-3.4.0.min.js\", \"https://cdn.bokeh.org/bokeh/release/bokeh-gl-3.4.0.min.js\", \"https://cdn.bokeh.org/bokeh/release/bokeh-widgets-3.4.0.min.js\", \"https://cdn.bokeh.org/bokeh/release/bokeh-tables-3.4.0.min.js\", \"https://cdn.holoviz.org/panel/1.4.0/dist/panel.min.js\"];\n  var js_modules = [];\n  var js_exports = {};\n  var css_urls = [];\n  var inline_js = [    function(Bokeh) {\n      Bokeh.set_log_level(\"info\");\n    },\nfunction(Bokeh) {} // ensure no trailing comma for IE\n  ];\n\n  function run_inline_js() {\n    if ((root.Bokeh !== undefined) || (force === true)) {\n      for (var i = 0; i < inline_js.length; i++) {\n\ttry {\n          inline_js[i].call(root, root.Bokeh);\n\t} catch(e) {\n\t  if (!reloading) {\n\t    throw e;\n\t  }\n\t}\n      }\n      // Cache old bokeh versions\n      if (Bokeh != undefined && !reloading) {\n\tvar NewBokeh = root.Bokeh;\n\tif (Bokeh.versions === undefined) {\n\t  Bokeh.versions = new Map();\n\t}\n\tif (NewBokeh.version !== Bokeh.version) {\n\t  Bokeh.versions.set(NewBokeh.version, NewBokeh)\n\t}\n\troot.Bokeh = Bokeh;\n      }} else if (Date.now() < root._bokeh_timeout) {\n      setTimeout(run_inline_js, 100);\n    } else if (!root._bokeh_failed_load) {\n      console.log(\"Bokeh: BokehJS failed to load within specified timeout.\");\n      root._bokeh_failed_load = true;\n    }\n    root._bokeh_is_initializing = false\n  }\n\n  function load_or_wait() {\n    // Implement a backoff loop that tries to ensure we do not load multiple\n    // versions of Bokeh and its dependencies at the same time.\n    // In recent versions we use the root._bokeh_is_initializing flag\n    // to determine whether there is an ongoing attempt to initialize\n    // bokeh, however for backward compatibility we also try to ensure\n    // that we do not start loading a newer (Panel>=1.0 and Bokeh>3) version\n    // before older versions are fully initialized.\n    if (root._bokeh_is_initializing && Date.now() > root._bokeh_timeout) {\n      root._bokeh_is_initializing = false;\n      root._bokeh_onload_callbacks = undefined;\n      console.log(\"Bokeh: BokehJS was loaded multiple times but one version failed to initialize.\");\n      load_or_wait();\n    } else if (root._bokeh_is_initializing || (typeof root._bokeh_is_initializing === \"undefined\" && root._bokeh_onload_callbacks !== undefined)) {\n      setTimeout(load_or_wait, 100);\n    } else {\n      root._bokeh_is_initializing = true\n      root._bokeh_onload_callbacks = []\n      var bokeh_loaded = Bokeh != null && (Bokeh.version === py_version || (Bokeh.versions !== undefined && Bokeh.versions.has(py_version)));\n      if (!reloading && !bokeh_loaded) {\n\troot.Bokeh = undefined;\n      }\n      load_libs(css_urls, js_urls, js_modules, js_exports, function() {\n\tconsole.debug(\"Bokeh: BokehJS plotting callback run at\", now());\n\trun_inline_js();\n      });\n    }\n  }\n  // Give older versions of the autoload script a head-start to ensure\n  // they initialize before we start loading newer version.\n  setTimeout(load_or_wait, 100)\n}(window));",
      "application/vnd.holoviews_load.v0+json": ""
     },
     "metadata": {},
     "output_type": "display_data"
    },
    {
     "data": {
      "application/javascript": "\nif ((window.PyViz === undefined) || (window.PyViz instanceof HTMLElement)) {\n  window.PyViz = {comms: {}, comm_status:{}, kernels:{}, receivers: {}, plot_index: []}\n}\n\n\n    function JupyterCommManager() {\n    }\n\n    JupyterCommManager.prototype.register_target = function(plot_id, comm_id, msg_handler) {\n      if (window.comm_manager || ((window.Jupyter !== undefined) && (Jupyter.notebook.kernel != null))) {\n        var comm_manager = window.comm_manager || Jupyter.notebook.kernel.comm_manager;\n        comm_manager.register_target(comm_id, function(comm) {\n          comm.on_msg(msg_handler);\n        });\n      } else if ((plot_id in window.PyViz.kernels) && (window.PyViz.kernels[plot_id])) {\n        window.PyViz.kernels[plot_id].registerCommTarget(comm_id, function(comm) {\n          comm.onMsg = msg_handler;\n        });\n      } else if (typeof google != 'undefined' && google.colab.kernel != null) {\n        google.colab.kernel.comms.registerTarget(comm_id, (comm) => {\n          var messages = comm.messages[Symbol.asyncIterator]();\n          function processIteratorResult(result) {\n            var message = result.value;\n            console.log(message)\n            var content = {data: message.data, comm_id};\n            var buffers = []\n            for (var buffer of message.buffers || []) {\n              buffers.push(new DataView(buffer))\n            }\n            var metadata = message.metadata || {};\n            var msg = {content, buffers, metadata}\n            msg_handler(msg);\n            return messages.next().then(processIteratorResult);\n          }\n          return messages.next().then(processIteratorResult);\n        })\n      }\n    }\n\n    JupyterCommManager.prototype.get_client_comm = function(plot_id, comm_id, msg_handler) {\n      if (comm_id in window.PyViz.comms) {\n        return window.PyViz.comms[comm_id];\n      } else if (window.comm_manager || ((window.Jupyter !== undefined) && (Jupyter.notebook.kernel != null))) {\n        var comm_manager = window.comm_manager || Jupyter.notebook.kernel.comm_manager;\n        var comm = comm_manager.new_comm(comm_id, {}, {}, {}, comm_id);\n        if (msg_handler) {\n          comm.on_msg(msg_handler);\n        }\n      } else if ((plot_id in window.PyViz.kernels) && (window.PyViz.kernels[plot_id])) {\n        var comm = window.PyViz.kernels[plot_id].connectToComm(comm_id);\n        comm.open();\n        if (msg_handler) {\n          comm.onMsg = msg_handler;\n        }\n      } else if (typeof google != 'undefined' && google.colab.kernel != null) {\n        var comm_promise = google.colab.kernel.comms.open(comm_id)\n        comm_promise.then((comm) => {\n          window.PyViz.comms[comm_id] = comm;\n          if (msg_handler) {\n            var messages = comm.messages[Symbol.asyncIterator]();\n            function processIteratorResult(result) {\n              var message = result.value;\n              var content = {data: message.data};\n              var metadata = message.metadata || {comm_id};\n              var msg = {content, metadata}\n              msg_handler(msg);\n              return messages.next().then(processIteratorResult);\n            }\n            return messages.next().then(processIteratorResult);\n          }\n        }) \n        var sendClosure = (data, metadata, buffers, disposeOnDone) => {\n          return comm_promise.then((comm) => {\n            comm.send(data, metadata, buffers, disposeOnDone);\n          });\n        };\n        var comm = {\n          send: sendClosure\n        };\n      }\n      window.PyViz.comms[comm_id] = comm;\n      return comm;\n    }\n    window.PyViz.comm_manager = new JupyterCommManager();\n    \n\n\nvar JS_MIME_TYPE = 'application/javascript';\nvar HTML_MIME_TYPE = 'text/html';\nvar EXEC_MIME_TYPE = 'application/vnd.holoviews_exec.v0+json';\nvar CLASS_NAME = 'output';\n\n/**\n * Render data to the DOM node\n */\nfunction render(props, node) {\n  var div = document.createElement(\"div\");\n  var script = document.createElement(\"script\");\n  node.appendChild(div);\n  node.appendChild(script);\n}\n\n/**\n * Handle when a new output is added\n */\nfunction handle_add_output(event, handle) {\n  var output_area = handle.output_area;\n  var output = handle.output;\n  if ((output.data == undefined) || (!output.data.hasOwnProperty(EXEC_MIME_TYPE))) {\n    return\n  }\n  var id = output.metadata[EXEC_MIME_TYPE][\"id\"];\n  var toinsert = output_area.element.find(\".\" + CLASS_NAME.split(' ')[0]);\n  if (id !== undefined) {\n    var nchildren = toinsert.length;\n    var html_node = toinsert[nchildren-1].children[0];\n    html_node.innerHTML = output.data[HTML_MIME_TYPE];\n    var scripts = [];\n    var nodelist = html_node.querySelectorAll(\"script\");\n    for (var i in nodelist) {\n      if (nodelist.hasOwnProperty(i)) {\n        scripts.push(nodelist[i])\n      }\n    }\n\n    scripts.forEach( function (oldScript) {\n      var newScript = document.createElement(\"script\");\n      var attrs = [];\n      var nodemap = oldScript.attributes;\n      for (var j in nodemap) {\n        if (nodemap.hasOwnProperty(j)) {\n          attrs.push(nodemap[j])\n        }\n      }\n      attrs.forEach(function(attr) { newScript.setAttribute(attr.name, attr.value) });\n      newScript.appendChild(document.createTextNode(oldScript.innerHTML));\n      oldScript.parentNode.replaceChild(newScript, oldScript);\n    });\n    if (JS_MIME_TYPE in output.data) {\n      toinsert[nchildren-1].children[1].textContent = output.data[JS_MIME_TYPE];\n    }\n    output_area._hv_plot_id = id;\n    if ((window.Bokeh !== undefined) && (id in Bokeh.index)) {\n      window.PyViz.plot_index[id] = Bokeh.index[id];\n    } else {\n      window.PyViz.plot_index[id] = null;\n    }\n  } else if (output.metadata[EXEC_MIME_TYPE][\"server_id\"] !== undefined) {\n    var bk_div = document.createElement(\"div\");\n    bk_div.innerHTML = output.data[HTML_MIME_TYPE];\n    var script_attrs = bk_div.children[0].attributes;\n    for (var i = 0; i < script_attrs.length; i++) {\n      toinsert[toinsert.length - 1].childNodes[1].setAttribute(script_attrs[i].name, script_attrs[i].value);\n    }\n    // store reference to server id on output_area\n    output_area._bokeh_server_id = output.metadata[EXEC_MIME_TYPE][\"server_id\"];\n  }\n}\n\n/**\n * Handle when an output is cleared or removed\n */\nfunction handle_clear_output(event, handle) {\n  var id = handle.cell.output_area._hv_plot_id;\n  var server_id = handle.cell.output_area._bokeh_server_id;\n  if (((id === undefined) || !(id in PyViz.plot_index)) && (server_id !== undefined)) { return; }\n  var comm = window.PyViz.comm_manager.get_client_comm(\"hv-extension-comm\", \"hv-extension-comm\", function () {});\n  if (server_id !== null) {\n    comm.send({event_type: 'server_delete', 'id': server_id});\n    return;\n  } else if (comm !== null) {\n    comm.send({event_type: 'delete', 'id': id});\n  }\n  delete PyViz.plot_index[id];\n  if ((window.Bokeh !== undefined) & (id in window.Bokeh.index)) {\n    var doc = window.Bokeh.index[id].model.document\n    doc.clear();\n    const i = window.Bokeh.documents.indexOf(doc);\n    if (i > -1) {\n      window.Bokeh.documents.splice(i, 1);\n    }\n  }\n}\n\n/**\n * Handle kernel restart event\n */\nfunction handle_kernel_cleanup(event, handle) {\n  delete PyViz.comms[\"hv-extension-comm\"];\n  window.PyViz.plot_index = {}\n}\n\n/**\n * Handle update_display_data messages\n */\nfunction handle_update_output(event, handle) {\n  handle_clear_output(event, {cell: {output_area: handle.output_area}})\n  handle_add_output(event, handle)\n}\n\nfunction register_renderer(events, OutputArea) {\n  function append_mime(data, metadata, element) {\n    // create a DOM node to render to\n    var toinsert = this.create_output_subarea(\n    metadata,\n    CLASS_NAME,\n    EXEC_MIME_TYPE\n    );\n    this.keyboard_manager.register_events(toinsert);\n    // Render to node\n    var props = {data: data, metadata: metadata[EXEC_MIME_TYPE]};\n    render(props, toinsert[0]);\n    element.append(toinsert);\n    return toinsert\n  }\n\n  events.on('output_added.OutputArea', handle_add_output);\n  events.on('output_updated.OutputArea', handle_update_output);\n  events.on('clear_output.CodeCell', handle_clear_output);\n  events.on('delete.Cell', handle_clear_output);\n  events.on('kernel_ready.Kernel', handle_kernel_cleanup);\n\n  OutputArea.prototype.register_mime_type(EXEC_MIME_TYPE, append_mime, {\n    safe: true,\n    index: 0\n  });\n}\n\nif (window.Jupyter !== undefined) {\n  try {\n    var events = require('base/js/events');\n    var OutputArea = require('notebook/js/outputarea').OutputArea;\n    if (OutputArea.prototype.mime_types().indexOf(EXEC_MIME_TYPE) == -1) {\n      register_renderer(events, OutputArea);\n    }\n  } catch(err) {\n  }\n}\n",
      "application/vnd.holoviews_load.v0+json": ""
     },
     "metadata": {},
     "output_type": "display_data"
    },
    {
     "data": {
      "text/html": [
       "<style>*[data-root-id],\n",
       "*[data-root-id] > * {\n",
       "  box-sizing: border-box;\n",
       "  font-family: var(--jp-ui-font-family);\n",
       "  font-size: var(--jp-ui-font-size1);\n",
       "  color: var(--vscode-editor-foreground, var(--jp-ui-font-color1));\n",
       "}\n",
       "\n",
       "/* Override VSCode background color */\n",
       ".cell-output-ipywidget-background:has(\n",
       "    > .cell-output-ipywidget-background > .lm-Widget > *[data-root-id]\n",
       "  ),\n",
       ".cell-output-ipywidget-background:has(> .lm-Widget > *[data-root-id]) {\n",
       "  background-color: transparent !important;\n",
       "}\n",
       "</style>"
      ]
     },
     "metadata": {},
     "output_type": "display_data"
    },
    {
     "data": {
      "application/vnd.holoviews_exec.v0+json": "",
      "text/html": [
       "<div id='p1002'>\n",
       "  <div id=\"dcef95fa-daf8-4a37-be51-a5df9f3a3c3d\" data-root-id=\"p1002\" style=\"display: contents;\"></div>\n",
       "</div>\n",
       "<script type=\"application/javascript\">(function(root) {\n",
       "  var docs_json = {\"7ebd412e-bbf8-4187-83d4-71ae905da14f\":{\"version\":\"3.4.0\",\"title\":\"Bokeh Application\",\"roots\":[{\"type\":\"object\",\"name\":\"panel.models.browser.BrowserInfo\",\"id\":\"p1002\"},{\"type\":\"object\",\"name\":\"panel.models.comm_manager.CommManager\",\"id\":\"p1003\",\"attributes\":{\"plot_id\":\"p1002\",\"comm_id\":\"ed638f7adcc840ff845797242e6ccd3b\",\"client_comm_id\":\"ea97b45dd09844f992e7b4f9b80e8986\"}}],\"defs\":[{\"type\":\"model\",\"name\":\"ReactiveHTML1\"},{\"type\":\"model\",\"name\":\"FlexBox1\",\"properties\":[{\"name\":\"align_content\",\"kind\":\"Any\",\"default\":\"flex-start\"},{\"name\":\"align_items\",\"kind\":\"Any\",\"default\":\"flex-start\"},{\"name\":\"flex_direction\",\"kind\":\"Any\",\"default\":\"row\"},{\"name\":\"flex_wrap\",\"kind\":\"Any\",\"default\":\"wrap\"},{\"name\":\"justify_content\",\"kind\":\"Any\",\"default\":\"flex-start\"},{\"name\":\"gap\",\"kind\":\"Any\",\"default\":\"\"}]},{\"type\":\"model\",\"name\":\"FloatPanel1\",\"properties\":[{\"name\":\"config\",\"kind\":\"Any\",\"default\":{\"type\":\"map\"}},{\"name\":\"contained\",\"kind\":\"Any\",\"default\":true},{\"name\":\"position\",\"kind\":\"Any\",\"default\":\"right-top\"},{\"name\":\"offsetx\",\"kind\":\"Any\",\"default\":null},{\"name\":\"offsety\",\"kind\":\"Any\",\"default\":null},{\"name\":\"theme\",\"kind\":\"Any\",\"default\":\"primary\"},{\"name\":\"status\",\"kind\":\"Any\",\"default\":\"normalized\"}]},{\"type\":\"model\",\"name\":\"GridStack1\",\"properties\":[{\"name\":\"mode\",\"kind\":\"Any\",\"default\":\"warn\"},{\"name\":\"ncols\",\"kind\":\"Any\",\"default\":null},{\"name\":\"nrows\",\"kind\":\"Any\",\"default\":null},{\"name\":\"allow_resize\",\"kind\":\"Any\",\"default\":true},{\"name\":\"allow_drag\",\"kind\":\"Any\",\"default\":true},{\"name\":\"state\",\"kind\":\"Any\",\"default\":[]}]},{\"type\":\"model\",\"name\":\"drag1\",\"properties\":[{\"name\":\"slider_width\",\"kind\":\"Any\",\"default\":5},{\"name\":\"slider_color\",\"kind\":\"Any\",\"default\":\"black\"},{\"name\":\"value\",\"kind\":\"Any\",\"default\":50}]},{\"type\":\"model\",\"name\":\"click1\",\"properties\":[{\"name\":\"terminal_output\",\"kind\":\"Any\",\"default\":\"\"},{\"name\":\"debug_name\",\"kind\":\"Any\",\"default\":\"\"},{\"name\":\"clears\",\"kind\":\"Any\",\"default\":0}]},{\"type\":\"model\",\"name\":\"FastWrapper1\",\"properties\":[{\"name\":\"object\",\"kind\":\"Any\",\"default\":null},{\"name\":\"style\",\"kind\":\"Any\",\"default\":null}]},{\"type\":\"model\",\"name\":\"NotificationAreaBase1\",\"properties\":[{\"name\":\"js_events\",\"kind\":\"Any\",\"default\":{\"type\":\"map\"}},{\"name\":\"position\",\"kind\":\"Any\",\"default\":\"bottom-right\"},{\"name\":\"_clear\",\"kind\":\"Any\",\"default\":0}]},{\"type\":\"model\",\"name\":\"NotificationArea1\",\"properties\":[{\"name\":\"js_events\",\"kind\":\"Any\",\"default\":{\"type\":\"map\"}},{\"name\":\"notifications\",\"kind\":\"Any\",\"default\":[]},{\"name\":\"position\",\"kind\":\"Any\",\"default\":\"bottom-right\"},{\"name\":\"_clear\",\"kind\":\"Any\",\"default\":0},{\"name\":\"types\",\"kind\":\"Any\",\"default\":[{\"type\":\"map\",\"entries\":[[\"type\",\"warning\"],[\"background\",\"#ffc107\"],[\"icon\",{\"type\":\"map\",\"entries\":[[\"className\",\"fas fa-exclamation-triangle\"],[\"tagName\",\"i\"],[\"color\",\"white\"]]}]]},{\"type\":\"map\",\"entries\":[[\"type\",\"info\"],[\"background\",\"#007bff\"],[\"icon\",{\"type\":\"map\",\"entries\":[[\"className\",\"fas fa-info-circle\"],[\"tagName\",\"i\"],[\"color\",\"white\"]]}]]}]}]},{\"type\":\"model\",\"name\":\"Notification\",\"properties\":[{\"name\":\"background\",\"kind\":\"Any\",\"default\":null},{\"name\":\"duration\",\"kind\":\"Any\",\"default\":3000},{\"name\":\"icon\",\"kind\":\"Any\",\"default\":null},{\"name\":\"message\",\"kind\":\"Any\",\"default\":\"\"},{\"name\":\"notification_type\",\"kind\":\"Any\",\"default\":null},{\"name\":\"_destroyed\",\"kind\":\"Any\",\"default\":false}]},{\"type\":\"model\",\"name\":\"TemplateActions1\",\"properties\":[{\"name\":\"open_modal\",\"kind\":\"Any\",\"default\":0},{\"name\":\"close_modal\",\"kind\":\"Any\",\"default\":0}]},{\"type\":\"model\",\"name\":\"BootstrapTemplateActions1\",\"properties\":[{\"name\":\"open_modal\",\"kind\":\"Any\",\"default\":0},{\"name\":\"close_modal\",\"kind\":\"Any\",\"default\":0}]},{\"type\":\"model\",\"name\":\"TemplateEditor1\",\"properties\":[{\"name\":\"layout\",\"kind\":\"Any\",\"default\":[]}]},{\"type\":\"model\",\"name\":\"MaterialTemplateActions1\",\"properties\":[{\"name\":\"open_modal\",\"kind\":\"Any\",\"default\":0},{\"name\":\"close_modal\",\"kind\":\"Any\",\"default\":0}]},{\"type\":\"model\",\"name\":\"copy_to_clipboard1\",\"properties\":[{\"name\":\"fill\",\"kind\":\"Any\",\"default\":\"none\"},{\"name\":\"value\",\"kind\":\"Any\",\"default\":null}]}]}};\n",
       "  var render_items = [{\"docid\":\"7ebd412e-bbf8-4187-83d4-71ae905da14f\",\"roots\":{\"p1002\":\"dcef95fa-daf8-4a37-be51-a5df9f3a3c3d\"},\"root_ids\":[\"p1002\"]}];\n",
       "  var docs = Object.values(docs_json)\n",
       "  if (!docs) {\n",
       "    return\n",
       "  }\n",
       "  const py_version = docs[0].version.replace('rc', '-rc.').replace('.dev', '-dev.')\n",
       "  function embed_document(root) {\n",
       "    var Bokeh = get_bokeh(root)\n",
       "    Bokeh.embed.embed_items_notebook(docs_json, render_items);\n",
       "    for (const render_item of render_items) {\n",
       "      for (const root_id of render_item.root_ids) {\n",
       "\tconst id_el = document.getElementById(root_id)\n",
       "\tif (id_el.children.length && (id_el.children[0].className === 'bk-root')) {\n",
       "\t  const root_el = id_el.children[0]\n",
       "\t  root_el.id = root_el.id + '-rendered'\n",
       "\t}\n",
       "      }\n",
       "    }\n",
       "  }\n",
       "  function get_bokeh(root) {\n",
       "    if (root.Bokeh === undefined) {\n",
       "      return null\n",
       "    } else if (root.Bokeh.version !== py_version) {\n",
       "      if (root.Bokeh.versions === undefined || !root.Bokeh.versions.has(py_version)) {\n",
       "\treturn null\n",
       "      }\n",
       "      return root.Bokeh.versions.get(py_version);\n",
       "    } else if (root.Bokeh.version === py_version) {\n",
       "      return root.Bokeh\n",
       "    }\n",
       "    return null\n",
       "  }\n",
       "  function is_loaded(root) {\n",
       "    var Bokeh = get_bokeh(root)\n",
       "    return (Bokeh != null && Bokeh.Panel !== undefined)\n",
       "  }\n",
       "  if (is_loaded(root)) {\n",
       "    embed_document(root);\n",
       "  } else {\n",
       "    var attempts = 0;\n",
       "    var timer = setInterval(function(root) {\n",
       "      if (is_loaded(root)) {\n",
       "        clearInterval(timer);\n",
       "        embed_document(root);\n",
       "      } else if (document.readyState == \"complete\") {\n",
       "        attempts++;\n",
       "        if (attempts > 200) {\n",
       "          clearInterval(timer);\n",
       "\t  var Bokeh = get_bokeh(root)\n",
       "\t  if (Bokeh == null || Bokeh.Panel == null) {\n",
       "            console.warn(\"Panel: ERROR: Unable to run Panel code because Bokeh or Panel library is missing\");\n",
       "\t  } else {\n",
       "\t    console.warn(\"Panel: WARNING: Attempting to render but not all required libraries could be resolved.\")\n",
       "\t    embed_document(root)\n",
       "\t  }\n",
       "        }\n",
       "      }\n",
       "    }, 25, root)\n",
       "  }\n",
       "})(window);</script>"
      ]
     },
     "metadata": {
      "application/vnd.holoviews_exec.v0+json": {
       "id": "p1002"
      }
     },
     "output_type": "display_data"
    },
    {
     "data": {},
     "metadata": {},
     "output_type": "display_data"
    },
    {
     "data": {
      "application/vnd.holoviews_exec.v0+json": "",
      "text/html": [
       "<div id='p1004'>\n",
       "  <div id=\"bea470bc-4d37-4443-a127-22664da6a0e0\" data-root-id=\"p1004\" style=\"display: contents;\"></div>\n",
       "</div>\n",
       "<script type=\"application/javascript\">(function(root) {\n",
       "  var docs_json = {\"640e9e98-b235-46d7-8c82-07b31c1e7e9d\":{\"version\":\"3.4.0\",\"title\":\"Bokeh Application\",\"roots\":[{\"type\":\"object\",\"name\":\"Row\",\"id\":\"p1004\",\"attributes\":{\"name\":\"Row00939\",\"tags\":[\"embedded\"],\"stylesheets\":[\"\\n:host(.pn-loading):before, .pn-loading:before {\\n  background-color: #c3c3c3;\\n  mask-size: auto calc(min(50%, 400px));\\n  -webkit-mask-size: auto calc(min(50%, 400px));\\n}\",{\"type\":\"object\",\"name\":\"ImportedStyleSheet\",\"id\":\"p1007\",\"attributes\":{\"url\":\"https://cdn.holoviz.org/panel/1.4.0/dist/css/loading.css\"}},{\"type\":\"object\",\"name\":\"ImportedStyleSheet\",\"id\":\"p1064\",\"attributes\":{\"url\":\"https://cdn.holoviz.org/panel/1.4.0/dist/css/listpanel.css\"}},{\"type\":\"object\",\"name\":\"ImportedStyleSheet\",\"id\":\"p1005\",\"attributes\":{\"url\":\"https://cdn.holoviz.org/panel/1.4.0/dist/bundled/theme/default.css\"}},{\"type\":\"object\",\"name\":\"ImportedStyleSheet\",\"id\":\"p1006\",\"attributes\":{\"url\":\"https://cdn.holoviz.org/panel/1.4.0/dist/bundled/theme/native.css\"}}],\"min_width\":700,\"margin\":0,\"sizing_mode\":\"stretch_width\",\"align\":\"start\",\"children\":[{\"type\":\"object\",\"name\":\"Spacer\",\"id\":\"p1008\",\"attributes\":{\"name\":\"HSpacer00946\",\"stylesheets\":[\"\\n:host(.pn-loading):before, .pn-loading:before {\\n  background-color: #c3c3c3;\\n  mask-size: auto calc(min(50%, 400px));\\n  -webkit-mask-size: auto calc(min(50%, 400px));\\n}\",{\"id\":\"p1007\"},{\"id\":\"p1005\"},{\"id\":\"p1006\"}],\"margin\":0,\"sizing_mode\":\"stretch_width\",\"align\":\"start\"}},{\"type\":\"object\",\"name\":\"Figure\",\"id\":\"p1016\",\"attributes\":{\"width\":700,\"height\":300,\"margin\":[5,10],\"sizing_mode\":\"fixed\",\"align\":\"start\",\"x_range\":{\"type\":\"object\",\"name\":\"Range1d\",\"id\":\"p1009\",\"attributes\":{\"tags\":[[[\"price\",\"price\",null]],[]],\"start\":-152678.57142857142,\"end\":5805178.571428572,\"reset_start\":-152678.57142857142,\"reset_end\":5805178.571428572}},\"y_range\":{\"type\":\"object\",\"name\":\"Range1d\",\"id\":\"p1010\",\"attributes\":{\"tags\":[[[\"residual\",\"residual\",null]],{\"type\":\"map\",\"entries\":[[\"invert_yaxis\",false],[\"autorange\",false]]}],\"start\":-2913213.1611259663,\"end\":2174405.0206640046,\"reset_start\":-2913213.1611259663,\"reset_end\":2174405.0206640046}},\"x_scale\":{\"type\":\"object\",\"name\":\"LinearScale\",\"id\":\"p1026\"},\"y_scale\":{\"type\":\"object\",\"name\":\"LinearScale\",\"id\":\"p1027\"},\"title\":{\"type\":\"object\",\"name\":\"Title\",\"id\":\"p1019\",\"attributes\":{\"text_color\":\"black\",\"text_font_size\":\"12pt\"}},\"renderers\":[{\"type\":\"object\",\"name\":\"GlyphRenderer\",\"id\":\"p1056\",\"attributes\":{\"data_source\":{\"type\":\"object\",\"name\":\"ColumnDataSource\",\"id\":\"p1047\",\"attributes\":{\"selected\":{\"type\":\"object\",\"name\":\"Selection\",\"id\":\"p1048\",\"attributes\":{\"indices\":[],\"line_indices\":[]}},\"selection_policy\":{\"type\":\"object\",\"name\":\"UnionRenderers\",\"id\":\"p1049\"},\"data\":{\"type\":\"map\",\"entries\":[[\"price\",{\"type\":\"ndarray\",\"array\":{\"type\":\"bytes\",\"data\":\"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\"},\"shape\":[4323],\"dtype\":\"float64\",\"order\":\"little\"}],[\"residual\",{\"type\":\"ndarray\",\"array\":{\"type\":\"bytes\",\"data\":\"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\"},\"shape\":[4323],\"dtype\":\"float64\",\"order\":\"little\"}]]}}},\"view\":{\"type\":\"object\",\"name\":\"CDSView\",\"id\":\"p1057\",\"attributes\":{\"filter\":{\"type\":\"object\",\"name\":\"AllIndices\",\"id\":\"p1058\"}}},\"glyph\":{\"type\":\"object\",\"name\":\"Scatter\",\"id\":\"p1053\",\"attributes\":{\"tags\":[\"apply_ranges\"],\"x\":{\"type\":\"field\",\"field\":\"price\"},\"y\":{\"type\":\"field\",\"field\":\"residual\"},\"size\":{\"type\":\"value\",\"value\":5.477225575051661},\"line_color\":{\"type\":\"value\",\"value\":\"#30a2da\"},\"line_alpha\":{\"type\":\"value\",\"value\":0.1},\"fill_color\":{\"type\":\"value\",\"value\":\"#30a2da\"},\"fill_alpha\":{\"type\":\"value\",\"value\":0.1},\"hatch_color\":{\"type\":\"value\",\"value\":\"#30a2da\"},\"hatch_alpha\":{\"type\":\"value\",\"value\":0.1}}},\"selection_glyph\":{\"type\":\"object\",\"name\":\"Scatter\",\"id\":\"p1059\",\"attributes\":{\"tags\":[\"apply_ranges\"],\"x\":{\"type\":\"field\",\"field\":\"price\"},\"y\":{\"type\":\"field\",\"field\":\"residual\"},\"size\":{\"type\":\"value\",\"value\":5.477225575051661},\"angle\":{\"type\":\"value\",\"value\":0.0},\"line_color\":{\"type\":\"value\",\"value\":\"#30a2da\"},\"line_alpha\":{\"type\":\"value\",\"value\":0.1},\"line_width\":{\"type\":\"value\",\"value\":1},\"line_join\":{\"type\":\"value\",\"value\":\"bevel\"},\"line_cap\":{\"type\":\"value\",\"value\":\"butt\"},\"line_dash\":{\"type\":\"value\",\"value\":[]},\"line_dash_offset\":{\"type\":\"value\",\"value\":0},\"fill_color\":{\"type\":\"value\",\"value\":\"#30a2da\"},\"fill_alpha\":{\"type\":\"value\",\"value\":0.1},\"hatch_color\":{\"type\":\"value\",\"value\":\"#30a2da\"},\"hatch_alpha\":{\"type\":\"value\",\"value\":0.1},\"hatch_scale\":{\"type\":\"value\",\"value\":12.0},\"hatch_pattern\":{\"type\":\"value\",\"value\":null},\"hatch_weight\":{\"type\":\"value\",\"value\":1.0},\"marker\":{\"type\":\"value\",\"value\":\"circle\"}}},\"nonselection_glyph\":{\"type\":\"object\",\"name\":\"Scatter\",\"id\":\"p1054\",\"attributes\":{\"tags\":[\"apply_ranges\"],\"x\":{\"type\":\"field\",\"field\":\"price\"},\"y\":{\"type\":\"field\",\"field\":\"residual\"},\"size\":{\"type\":\"value\",\"value\":5.477225575051661},\"line_color\":{\"type\":\"value\",\"value\":\"#30a2da\"},\"line_alpha\":{\"type\":\"value\",\"value\":0.1},\"fill_color\":{\"type\":\"value\",\"value\":\"#30a2da\"},\"fill_alpha\":{\"type\":\"value\",\"value\":0.1},\"hatch_color\":{\"type\":\"value\",\"value\":\"#30a2da\"},\"hatch_alpha\":{\"type\":\"value\",\"value\":0.1}}},\"muted_glyph\":{\"type\":\"object\",\"name\":\"Scatter\",\"id\":\"p1055\",\"attributes\":{\"tags\":[\"apply_ranges\"],\"x\":{\"type\":\"field\",\"field\":\"price\"},\"y\":{\"type\":\"field\",\"field\":\"residual\"},\"size\":{\"type\":\"value\",\"value\":5.477225575051661},\"line_color\":{\"type\":\"value\",\"value\":\"#30a2da\"},\"line_alpha\":{\"type\":\"value\",\"value\":0.2},\"fill_color\":{\"type\":\"value\",\"value\":\"#30a2da\"},\"fill_alpha\":{\"type\":\"value\",\"value\":0.2},\"hatch_color\":{\"type\":\"value\",\"value\":\"#30a2da\"},\"hatch_alpha\":{\"type\":\"value\",\"value\":0.2}}}}}],\"toolbar\":{\"type\":\"object\",\"name\":\"Toolbar\",\"id\":\"p1025\",\"attributes\":{\"tools\":[{\"type\":\"object\",\"name\":\"WheelZoomTool\",\"id\":\"p1014\",\"attributes\":{\"tags\":[\"hv_created\"],\"renderers\":\"auto\",\"zoom_together\":\"none\"}},{\"type\":\"object\",\"name\":\"HoverTool\",\"id\":\"p1015\",\"attributes\":{\"tags\":[\"hv_created\"],\"renderers\":[{\"id\":\"p1056\"}],\"tooltips\":[[\"price\",\"@{price}\"],[\"residual\",\"@{residual}\"]]}},{\"type\":\"object\",\"name\":\"SaveTool\",\"id\":\"p1038\"},{\"type\":\"object\",\"name\":\"PanTool\",\"id\":\"p1039\"},{\"type\":\"object\",\"name\":\"BoxZoomTool\",\"id\":\"p1040\",\"attributes\":{\"overlay\":{\"type\":\"object\",\"name\":\"BoxAnnotation\",\"id\":\"p1041\",\"attributes\":{\"syncable\":false,\"level\":\"overlay\",\"visible\":false,\"left\":{\"type\":\"number\",\"value\":\"nan\"},\"right\":{\"type\":\"number\",\"value\":\"nan\"},\"top\":{\"type\":\"number\",\"value\":\"nan\"},\"bottom\":{\"type\":\"number\",\"value\":\"nan\"},\"left_units\":\"canvas\",\"right_units\":\"canvas\",\"top_units\":\"canvas\",\"bottom_units\":\"canvas\",\"line_color\":\"black\",\"line_alpha\":1.0,\"line_width\":2,\"line_dash\":[4,4],\"fill_color\":\"lightgrey\",\"fill_alpha\":0.5}}}},{\"type\":\"object\",\"name\":\"ResetTool\",\"id\":\"p1046\"}],\"active_drag\":{\"id\":\"p1039\"},\"active_scroll\":{\"id\":\"p1014\"}}},\"left\":[{\"type\":\"object\",\"name\":\"LinearAxis\",\"id\":\"p1033\",\"attributes\":{\"ticker\":{\"type\":\"object\",\"name\":\"BasicTicker\",\"id\":\"p1034\",\"attributes\":{\"mantissas\":[1,2,5]}},\"formatter\":{\"type\":\"object\",\"name\":\"PrintfTickFormatter\",\"id\":\"p1060\",\"attributes\":{\"format\":\"$%.0f\"}},\"axis_label\":\"residual\",\"major_label_policy\":{\"type\":\"object\",\"name\":\"AllLabels\",\"id\":\"p1036\"}}}],\"below\":[{\"type\":\"object\",\"name\":\"LinearAxis\",\"id\":\"p1028\",\"attributes\":{\"ticker\":{\"type\":\"object\",\"name\":\"BasicTicker\",\"id\":\"p1029\",\"attributes\":{\"mantissas\":[1,2,5]}},\"formatter\":{\"type\":\"object\",\"name\":\"BasicTickFormatter\",\"id\":\"p1030\"},\"axis_label\":\"price\",\"major_label_policy\":{\"type\":\"object\",\"name\":\"AllLabels\",\"id\":\"p1031\"}}}],\"center\":[{\"type\":\"object\",\"name\":\"Grid\",\"id\":\"p1032\",\"attributes\":{\"axis\":{\"id\":\"p1028\"},\"grid_line_color\":null}},{\"type\":\"object\",\"name\":\"Grid\",\"id\":\"p1037\",\"attributes\":{\"dimension\":1,\"axis\":{\"id\":\"p1033\"},\"grid_line_color\":null}}],\"min_border_top\":10,\"min_border_bottom\":10,\"min_border_left\":10,\"min_border_right\":10,\"output_backend\":\"webgl\"}},{\"type\":\"object\",\"name\":\"Spacer\",\"id\":\"p1062\",\"attributes\":{\"name\":\"HSpacer00947\",\"stylesheets\":[\"\\n:host(.pn-loading):before, .pn-loading:before {\\n  background-color: #c3c3c3;\\n  mask-size: auto calc(min(50%, 400px));\\n  -webkit-mask-size: auto calc(min(50%, 400px));\\n}\",{\"id\":\"p1007\"},{\"id\":\"p1005\"},{\"id\":\"p1006\"}],\"margin\":0,\"sizing_mode\":\"stretch_width\",\"align\":\"start\"}}]}}],\"defs\":[{\"type\":\"model\",\"name\":\"ReactiveHTML1\"},{\"type\":\"model\",\"name\":\"FlexBox1\",\"properties\":[{\"name\":\"align_content\",\"kind\":\"Any\",\"default\":\"flex-start\"},{\"name\":\"align_items\",\"kind\":\"Any\",\"default\":\"flex-start\"},{\"name\":\"flex_direction\",\"kind\":\"Any\",\"default\":\"row\"},{\"name\":\"flex_wrap\",\"kind\":\"Any\",\"default\":\"wrap\"},{\"name\":\"justify_content\",\"kind\":\"Any\",\"default\":\"flex-start\"},{\"name\":\"gap\",\"kind\":\"Any\",\"default\":\"\"}]},{\"type\":\"model\",\"name\":\"FloatPanel1\",\"properties\":[{\"name\":\"config\",\"kind\":\"Any\",\"default\":{\"type\":\"map\"}},{\"name\":\"contained\",\"kind\":\"Any\",\"default\":true},{\"name\":\"position\",\"kind\":\"Any\",\"default\":\"right-top\"},{\"name\":\"offsetx\",\"kind\":\"Any\",\"default\":null},{\"name\":\"offsety\",\"kind\":\"Any\",\"default\":null},{\"name\":\"theme\",\"kind\":\"Any\",\"default\":\"primary\"},{\"name\":\"status\",\"kind\":\"Any\",\"default\":\"normalized\"}]},{\"type\":\"model\",\"name\":\"GridStack1\",\"properties\":[{\"name\":\"mode\",\"kind\":\"Any\",\"default\":\"warn\"},{\"name\":\"ncols\",\"kind\":\"Any\",\"default\":null},{\"name\":\"nrows\",\"kind\":\"Any\",\"default\":null},{\"name\":\"allow_resize\",\"kind\":\"Any\",\"default\":true},{\"name\":\"allow_drag\",\"kind\":\"Any\",\"default\":true},{\"name\":\"state\",\"kind\":\"Any\",\"default\":[]}]},{\"type\":\"model\",\"name\":\"drag1\",\"properties\":[{\"name\":\"slider_width\",\"kind\":\"Any\",\"default\":5},{\"name\":\"slider_color\",\"kind\":\"Any\",\"default\":\"black\"},{\"name\":\"value\",\"kind\":\"Any\",\"default\":50}]},{\"type\":\"model\",\"name\":\"click1\",\"properties\":[{\"name\":\"terminal_output\",\"kind\":\"Any\",\"default\":\"\"},{\"name\":\"debug_name\",\"kind\":\"Any\",\"default\":\"\"},{\"name\":\"clears\",\"kind\":\"Any\",\"default\":0}]},{\"type\":\"model\",\"name\":\"FastWrapper1\",\"properties\":[{\"name\":\"object\",\"kind\":\"Any\",\"default\":null},{\"name\":\"style\",\"kind\":\"Any\",\"default\":null}]},{\"type\":\"model\",\"name\":\"NotificationAreaBase1\",\"properties\":[{\"name\":\"js_events\",\"kind\":\"Any\",\"default\":{\"type\":\"map\"}},{\"name\":\"position\",\"kind\":\"Any\",\"default\":\"bottom-right\"},{\"name\":\"_clear\",\"kind\":\"Any\",\"default\":0}]},{\"type\":\"model\",\"name\":\"NotificationArea1\",\"properties\":[{\"name\":\"js_events\",\"kind\":\"Any\",\"default\":{\"type\":\"map\"}},{\"name\":\"notifications\",\"kind\":\"Any\",\"default\":[]},{\"name\":\"position\",\"kind\":\"Any\",\"default\":\"bottom-right\"},{\"name\":\"_clear\",\"kind\":\"Any\",\"default\":0},{\"name\":\"types\",\"kind\":\"Any\",\"default\":[{\"type\":\"map\",\"entries\":[[\"type\",\"warning\"],[\"background\",\"#ffc107\"],[\"icon\",{\"type\":\"map\",\"entries\":[[\"className\",\"fas fa-exclamation-triangle\"],[\"tagName\",\"i\"],[\"color\",\"white\"]]}]]},{\"type\":\"map\",\"entries\":[[\"type\",\"info\"],[\"background\",\"#007bff\"],[\"icon\",{\"type\":\"map\",\"entries\":[[\"className\",\"fas fa-info-circle\"],[\"tagName\",\"i\"],[\"color\",\"white\"]]}]]}]}]},{\"type\":\"model\",\"name\":\"Notification\",\"properties\":[{\"name\":\"background\",\"kind\":\"Any\",\"default\":null},{\"name\":\"duration\",\"kind\":\"Any\",\"default\":3000},{\"name\":\"icon\",\"kind\":\"Any\",\"default\":null},{\"name\":\"message\",\"kind\":\"Any\",\"default\":\"\"},{\"name\":\"notification_type\",\"kind\":\"Any\",\"default\":null},{\"name\":\"_destroyed\",\"kind\":\"Any\",\"default\":false}]},{\"type\":\"model\",\"name\":\"TemplateActions1\",\"properties\":[{\"name\":\"open_modal\",\"kind\":\"Any\",\"default\":0},{\"name\":\"close_modal\",\"kind\":\"Any\",\"default\":0}]},{\"type\":\"model\",\"name\":\"BootstrapTemplateActions1\",\"properties\":[{\"name\":\"open_modal\",\"kind\":\"Any\",\"default\":0},{\"name\":\"close_modal\",\"kind\":\"Any\",\"default\":0}]},{\"type\":\"model\",\"name\":\"TemplateEditor1\",\"properties\":[{\"name\":\"layout\",\"kind\":\"Any\",\"default\":[]}]},{\"type\":\"model\",\"name\":\"MaterialTemplateActions1\",\"properties\":[{\"name\":\"open_modal\",\"kind\":\"Any\",\"default\":0},{\"name\":\"close_modal\",\"kind\":\"Any\",\"default\":0}]},{\"type\":\"model\",\"name\":\"copy_to_clipboard1\",\"properties\":[{\"name\":\"fill\",\"kind\":\"Any\",\"default\":\"none\"},{\"name\":\"value\",\"kind\":\"Any\",\"default\":null}]}]}};\n",
       "  var render_items = [{\"docid\":\"640e9e98-b235-46d7-8c82-07b31c1e7e9d\",\"roots\":{\"p1004\":\"bea470bc-4d37-4443-a127-22664da6a0e0\"},\"root_ids\":[\"p1004\"]}];\n",
       "  var docs = Object.values(docs_json)\n",
       "  if (!docs) {\n",
       "    return\n",
       "  }\n",
       "  const py_version = docs[0].version.replace('rc', '-rc.').replace('.dev', '-dev.')\n",
       "  function embed_document(root) {\n",
       "    var Bokeh = get_bokeh(root)\n",
       "    Bokeh.embed.embed_items_notebook(docs_json, render_items);\n",
       "    for (const render_item of render_items) {\n",
       "      for (const root_id of render_item.root_ids) {\n",
       "\tconst id_el = document.getElementById(root_id)\n",
       "\tif (id_el.children.length && (id_el.children[0].className === 'bk-root')) {\n",
       "\t  const root_el = id_el.children[0]\n",
       "\t  root_el.id = root_el.id + '-rendered'\n",
       "\t}\n",
       "      }\n",
       "    }\n",
       "  }\n",
       "  function get_bokeh(root) {\n",
       "    if (root.Bokeh === undefined) {\n",
       "      return null\n",
       "    } else if (root.Bokeh.version !== py_version) {\n",
       "      if (root.Bokeh.versions === undefined || !root.Bokeh.versions.has(py_version)) {\n",
       "\treturn null\n",
       "      }\n",
       "      return root.Bokeh.versions.get(py_version);\n",
       "    } else if (root.Bokeh.version === py_version) {\n",
       "      return root.Bokeh\n",
       "    }\n",
       "    return null\n",
       "  }\n",
       "  function is_loaded(root) {\n",
       "    var Bokeh = get_bokeh(root)\n",
       "    return (Bokeh != null && Bokeh.Panel !== undefined)\n",
       "  }\n",
       "  if (is_loaded(root)) {\n",
       "    embed_document(root);\n",
       "  } else {\n",
       "    var attempts = 0;\n",
       "    var timer = setInterval(function(root) {\n",
       "      if (is_loaded(root)) {\n",
       "        clearInterval(timer);\n",
       "        embed_document(root);\n",
       "      } else if (document.readyState == \"complete\") {\n",
       "        attempts++;\n",
       "        if (attempts > 200) {\n",
       "          clearInterval(timer);\n",
       "\t  var Bokeh = get_bokeh(root)\n",
       "\t  if (Bokeh == null || Bokeh.Panel == null) {\n",
       "            console.warn(\"Panel: ERROR: Unable to run Panel code because Bokeh or Panel library is missing\");\n",
       "\t  } else {\n",
       "\t    console.warn(\"Panel: WARNING: Attempting to render but not all required libraries could be resolved.\")\n",
       "\t    embed_document(root)\n",
       "\t  }\n",
       "        }\n",
       "      }\n",
       "    }, 25, root)\n",
       "  }\n",
       "})(window);</script>"
      ],
      "text/plain": [
       ":Scatter   [price]   (residual)"
      ]
     },
     "execution_count": 21,
     "metadata": {
      "application/vnd.holoviews_exec.v0+json": {
       "id": "p1004"
      }
     },
     "output_type": "execute_result"
    }
   ],
   "source": [
    "# plot with Polars\n",
    "(y_test\n",
    " .with_columns(residual=y_test.to_series().to_numpy() - cat_pipe.predict(X_test))\n",
    " .plot.scatter('price', 'residual', alpha=0.1, yformatter='$%.0f')\n",
    " )"
   ]
  },
  {
   "cell_type": "code",
   "execution_count": 24,
   "metadata": {},
   "outputs": [
    {
     "data": {
      "text/plain": [
       "Text(0.5, 1.0, 'Residual plot')"
      ]
     },
     "execution_count": 24,
     "metadata": {},
     "output_type": "execute_result"
    },
    {
     "data": {
      "image/png": "[encoded data removed]",
      "text/plain": [
       "<Figure size 640x480 with 1 Axes>"
      ]
     },
     "metadata": {},
     "output_type": "display_data"
    }
   ],
   "source": [
    "# make a residual plot for decision tree\n",
    "\n",
    "ax = plt.scatter(y_test, \n",
    "    y_test.to_series().to_numpy() - dt_pipe.predict(X_test), alpha=0.1)\n",
    "# make labels not be scientific notation\n",
    "plt.ticklabel_format(style='plain', axis='y')\n",
    "plt.ticklabel_format(style='plain', axis='x')\n",
    "plt.ylim(-500_000, 500_000)\n",
    "plt.xlabel('True price')\n",
    "plt.ylabel('Residual')\n",
    "plt.title('Residual plot')"
   ]
  },
  {
   "cell_type": "code",
   "execution_count": 25,
   "metadata": {},
   "outputs": [
    {
     "data": {
      "text/plain": [
       "Text(0.5, 1.0, 'Residual plot')"
      ]
     },
     "execution_count": 25,
     "metadata": {},
     "output_type": "execute_result"
    },
    {
     "data": {
      "image/png": "[encoded data removed]",
      "text/plain": [
       "<Figure size 640x480 with 1 Axes>"
      ]
     },
     "metadata": {},
     "output_type": "display_data"
    }
   ],
   "source": [
    "# contrast this with the training data\n",
    "\n",
    "ax = plt.scatter(y_train, \n",
    "     y_train.to_series().to_numpy() - cat_pipe.predict(X_train), alpha=0.1)\n",
    "# make labels not be scientific notation\n",
    "plt.ticklabel_format(style='plain', axis='y')\n",
    "plt.ticklabel_format(style='plain', axis='x')\n",
    "plt.ylim(-500_000, 500_000)\n",
    "plt.xlabel('True price')\n",
    "plt.ylabel('Residual')\n",
    "plt.title('Residual plot')"
   ]
  },
  {
   "cell_type": "code",
   "execution_count": null,
   "metadata": {},
   "outputs": [],
   "source": []
  },
  {
   "cell_type": "markdown",
   "metadata": {},
   "source": [
    "## Challenge\n",
    "\n",
    "What is the mean squared error of the Random Forest model? What is the R2 score? What do these values tell us about the model?"
   ]
  },
  {
   "cell_type": "code",
   "execution_count": null,
   "metadata": {},
   "outputs": [],
   "source": []
  },
  {
   "cell_type": "markdown",
   "metadata": {},
   "source": [
    "\n",
    "\n",
    "## Solution"
   ]
  },
  {
   "cell_type": "code",
   "execution_count": null,
   "metadata": {},
   "outputs": [
    {
     "data": {
      "text/plain": [
       "14415098613.389244"
      ]
     },
     "metadata": {},
     "output_type": "display_data"
    }
   ],
   "source": [
    "from sklearn.metrics import mean_squared_error\n",
    "\n",
    "mean_squared_error(y_test, cat_pipe.predict(X_test))"
   ]
  },
  {
   "cell_type": "code",
   "execution_count": 27,
   "metadata": {},
   "outputs": [
    {
     "data": {
      "text/plain": [
       "19188828482.12197"
      ]
     },
     "execution_count": 27,
     "metadata": {},
     "output_type": "execute_result"
    }
   ],
   "source": [
    "from sklearn.metrics import mean_squared_error\n",
    "\n",
    "mean_squared_error(y_test, rf_pipe.predict(X_test))"
   ]
  },
  {
   "cell_type": "code",
   "execution_count": 29,
   "metadata": {},
   "outputs": [
    {
     "data": {
      "text/plain": [
       "0.9046473600451286"
      ]
     },
     "execution_count": 29,
     "metadata": {},
     "output_type": "execute_result"
    }
   ],
   "source": [
    "from sklearn.metrics import r2_score\n",
    "r2_score(y_test, cat_pipe.predict(X_test))"
   ]
  },
  {
   "cell_type": "code",
   "execution_count": 30,
   "metadata": {},
   "outputs": [
    {
     "data": {
      "text/plain": [
       "0.8730702090576012"
      ]
     },
     "execution_count": 30,
     "metadata": {},
     "output_type": "execute_result"
    }
   ],
   "source": [
    "from sklearn.metrics import r2_score\n",
    "r2_score(y_test, rf_pipe.predict(X_test))"
   ]
  },
  {
   "cell_type": "code",
   "execution_count": null,
   "metadata": {},
   "outputs": [],
   "source": []
  },
  {
   "cell_type": "code",
   "execution_count": null,
   "metadata": {},
   "outputs": [],
   "source": []
  },
  {
   "cell_type": "code",
   "execution_count": null,
   "metadata": {},
   "outputs": [],
   "source": []
  },
  {
   "cell_type": "code",
   "execution_count": null,
   "metadata": {},
   "outputs": [],
   "source": []
  },
  {
   "cell_type": "markdown",
   "metadata": {},
   "source": [
    "# Model Tuning\n"
   ]
  },
  {
   "cell_type": "markdown",
   "metadata": {},
   "source": [
    "\n",
    "## Hyperparameters\n",
    "\n",
    "Hyperparameters are the levers we can pull to adjust the behavior of a model. They are set before the model is trained and remain constant during training."
   ]
  },
  {
   "cell_type": "markdown",
   "metadata": {},
   "source": [
    "\n",
    "## Tuning Linear Regression\n"
   ]
  },
  {
   "cell_type": "code",
   "execution_count": null,
   "metadata": {},
   "outputs": [],
   "source": [
    "lr_pipe"
   ]
  },
  {
   "cell_type": "code",
   "execution_count": null,
   "metadata": {},
   "outputs": [],
   "source": [
    "lr_pipe.named_steps['lr']"
   ]
  },
  {
   "cell_type": "code",
   "execution_count": null,
   "metadata": {
    "scrolled": true
   },
   "outputs": [],
   "source": [
    "help(lr_pipe.named_steps['lr'])"
   ]
  },
  {
   "cell_type": "code",
   "execution_count": null,
   "metadata": {
    "scrolled": true
   },
   "outputs": [],
   "source": [
    "from sklearn.linear_model import Ridge\n",
    "Ridge?"
   ]
  },
  {
   "cell_type": "code",
   "execution_count": null,
   "metadata": {},
   "outputs": [],
   "source": [
    "rr =  Ridge()\n",
    "y = raw.select('price')\n",
    "X_train, X_test, y_train, y_test = train_test_split(raw, y, test_size=0.2, random_state=42)\n",
    "rr_pipe = Pipeline(steps=[('tweak', tweak_transformer),\n",
    "                      ('zip_avg_price', ZipAvgPriceAdder()),\n",
    "                      ('preprocessor', preprocessor),\n",
    "                        ('rr', rr),\n",
    "                      ])\n",
    "\n",
    "rr_pipe.fit(X_train, y_train)\n",
    "rr_pipe.score(X_test, y_test)"
   ]
  },
  {
   "cell_type": "code",
   "execution_count": null,
   "metadata": {},
   "outputs": [],
   "source": []
  },
  {
   "cell_type": "code",
   "execution_count": null,
   "metadata": {
    "scrolled": true
   },
   "outputs": [],
   "source": [
    "lr_pipe.score(X_test, y_test)"
   ]
  },
  {
   "cell_type": "code",
   "execution_count": null,
   "metadata": {
    "collapsed": true,
    "jupyter": {
     "outputs_hidden": true
    }
   },
   "outputs": [],
   "source": [
    "from sklearn.model_selection import validation_curve\n",
    "\n",
    "param_range = [0, .01, .05, .1, .5, 1, 2]\n",
    "scores = []\n",
    "for val in param_range:\n",
    "    rr_pipe.set_params(rr__alpha=val)\n",
    "    rr_pipe.fit(X_train, y_train)\n",
    "    scores.append(rr_pipe.score(X_test, y_test))"
   ]
  },
  {
   "cell_type": "code",
   "execution_count": null,
   "metadata": {},
   "outputs": [],
   "source": [
    "# Our be score is at 0 (which is normal Linear Regression)\n",
    "alpha = pl.DataFrame({'val': param_range,\n",
    "              'scores': scores})\n",
    "alpha.plot(x='val', y='scores')"
   ]
  },
  {
   "cell_type": "code",
   "execution_count": null,
   "metadata": {},
   "outputs": [],
   "source": []
  },
  {
   "cell_type": "code",
   "execution_count": null,
   "metadata": {},
   "outputs": [],
   "source": []
  },
  {
   "cell_type": "code",
   "execution_count": null,
   "metadata": {},
   "outputs": [],
   "source": []
  },
  {
   "cell_type": "code",
   "execution_count": null,
   "metadata": {},
   "outputs": [],
   "source": []
  },
  {
   "cell_type": "markdown",
   "metadata": {},
   "source": [
    "\n",
    "## Tuning Decision Trees\n"
   ]
  },
  {
   "cell_type": "code",
   "execution_count": null,
   "metadata": {
    "scrolled": true
   },
   "outputs": [],
   "source": [
    "dt_pipe.named_steps['dt']"
   ]
  },
  {
   "cell_type": "code",
   "execution_count": null,
   "metadata": {
    "scrolled": true
   },
   "outputs": [],
   "source": [
    "help(dt_pipe.named_steps['dt'])"
   ]
  },
  {
   "cell_type": "code",
   "execution_count": null,
   "metadata": {
    "scrolled": true
   },
   "outputs": [],
   "source": [
    "# plot a validation curve tracking mse as the max_depth of the decision tree increases\n",
    "from sklearn.model_selection import validation_curve\n",
    "\n",
    "param_range = range(1, 20)\n",
    "train_scores, test_scores = validation_curve(\n",
    "    dt_pipe, X_train, y_train, param_name=\"dt__max_depth\", param_range=param_range,\n",
    "    scoring=\"neg_mean_squared_error\", n_jobs=1)"
   ]
  },
  {
   "cell_type": "code",
   "execution_count": null,
   "metadata": {},
   "outputs": [],
   "source": [
    "# make a validation curve from train_scores and test_scores\n",
    "import matplotlib.pyplot as plt\n",
    "import numpy as np\n",
    "\n",
    "train_scores_mean = np.mean(train_scores, axis=1)\n",
    "train_scores_std = np.std(train_scores, axis=1)\n",
    "test_scores_mean = np.mean(test_scores, axis=1)\n",
    "test_scores_std = np.std(test_scores, axis=1)\n",
    "\n",
    "plt.title(\"Validation Curve with Decision Tree\")\n",
    "plt.xlabel(\"max_depth\")\n",
    "plt.ylabel(\"Score\")\n",
    "#plt.ylim(-1, 0)\n",
    "lw = 2\n",
    "plt.plot(param_range, train_scores_mean, label=\"Training score\",\n",
    "             color=\"darkorange\", lw=lw)\n",
    "plt.fill_between(param_range, train_scores_mean - train_scores_std,\n",
    "                 train_scores_mean + train_scores_std, alpha=0.2,\n",
    "                 color=\"darkorange\", lw=lw)\n",
    "plt.plot(param_range, test_scores_mean, label=\"Cross-validation score\",\n",
    "                color=\"navy\", lw=lw)\n",
    "\n",
    "plt.fill_between(param_range, test_scores_mean - test_scores_std,   \n",
    "                    test_scores_mean + test_scores_std, alpha=0.2,\n",
    "                    color=\"navy\", lw=lw)\n",
    "plt.legend(loc=\"best\")\n",
    "\n",
    "\n"
   ]
  },
  {
   "cell_type": "code",
   "execution_count": null,
   "metadata": {},
   "outputs": [],
   "source": [
    "# train dt_pipe with max_depth=8\n",
    "dt8_pipe = Pipeline(steps=[('tweak', tweak_transformer),\n",
    "                        ('zip_avg_price', ZipAvgPriceAdder()),\n",
    "                        ('to_pandas', pandas_transformer),\n",
    "                        ('preprocessor', preprocessor),\n",
    "                        ('dt', DecisionTreeRegressor(max_depth=8)),\n",
    "                        ])\n",
    "\n",
    "dt8_pipe.fit(X_train, y_train)\n",
    "dt8_pipe.score(X_test, y_test)"
   ]
  },
  {
   "cell_type": "code",
   "execution_count": null,
   "metadata": {},
   "outputs": [],
   "source": [
    "mean_squared_error(y_test, dt8_pipe.predict(X_test), squared=False) "
   ]
  },
  {
   "cell_type": "code",
   "execution_count": null,
   "metadata": {},
   "outputs": [],
   "source": [
    "dt_pipe.score(X_test, y_test)"
   ]
  },
  {
   "cell_type": "code",
   "execution_count": null,
   "metadata": {},
   "outputs": [],
   "source": [
    "mean_squared_error(y_test, dt_pipe.predict(X_test), squared=False) "
   ]
  },
  {
   "cell_type": "code",
   "execution_count": null,
   "metadata": {},
   "outputs": [],
   "source": []
  },
  {
   "cell_type": "code",
   "execution_count": null,
   "metadata": {},
   "outputs": [],
   "source": []
  },
  {
   "cell_type": "code",
   "execution_count": null,
   "metadata": {},
   "outputs": [],
   "source": []
  },
  {
   "cell_type": "code",
   "execution_count": null,
   "metadata": {},
   "outputs": [],
   "source": []
  },
  {
   "cell_type": "code",
   "execution_count": null,
   "metadata": {},
   "outputs": [],
   "source": []
  },
  {
   "cell_type": "markdown",
   "metadata": {},
   "source": [
    "\n",
    "## Tuning CatBoost\n",
    "\n",
    "* Boosting - `iterations` (`num_trees`, `n_estimators`), `learning_rate` (`eta`), `early_stopping_rounds`\n",
    "\n",
    "* Tree based - `depth` (`max_depth`), `grow_policy`, `min_child_samples` (`min_data_in_leaf`), `max_leaves` (`num_leaves`)\n",
    "\n",
    "* Sampling - `subsample`, `sampling_frequency`, `rsm` (`colsample_bylevel`), `random_strength`, `bagging_temperature`\n",
    "\n",
    "* Regularization - `l2_leaf_reg` (`reg_lambda`), `model_shrink_rate`\n",
    "\n",
    "* Constraints - `monotone_constraints`, `feature_weights`"
   ]
  },
  {
   "cell_type": "code",
   "execution_count": null,
   "metadata": {
    "scrolled": true
   },
   "outputs": [],
   "source": [
    "catboost.CatBoostRegressor?"
   ]
  },
  {
   "cell_type": "code",
   "execution_count": null,
   "metadata": {},
   "outputs": [],
   "source": [
    "cr2 = catboost.CatBoostRegressor(iterations=3000, learning_rate=0.1,\n",
    "                                 early_stopping_rounds=10)\n",
    "X_train, X_test, y_train, y_test = train_test_split(raw.drop('price'), y, \n",
    "                                                    test_size=0.2, random_state=42)\n",
    "\n",
    "cr2.fit(X_train.to_pandas(), y_train.to_numpy(), cat_features=['zipcode'], verbose=100,\n",
    "        early_stopping_rounds=10, eval_set=(X_test.to_pandas(), y_test.to_numpy()))"
   ]
  },
  {
   "cell_type": "code",
   "execution_count": null,
   "metadata": {
    "scrolled": true
   },
   "outputs": [],
   "source": [
    "# plot a validation curve tracking mse as the max_depth of the decision tree increases\n",
    "from sklearn.model_selection import validation_curve\n",
    "\n",
    "param_range = range(1, 10)\n",
    "train_scores, test_scores = validation_curve(\n",
    "    cr2, X_train.to_pandas(), y_train.to_numpy(), param_name=\"max_depth\", \n",
    "    param_range=param_range,\n",
    "    scoring=\"neg_mean_squared_error\", n_jobs=1,\n",
    "    fit_params=dict(early_stopping_rounds=10, \n",
    "                    eval_set=(X_test.to_pandas(), y_test.to_numpy())))"
   ]
  },
  {
   "cell_type": "code",
   "execution_count": null,
   "metadata": {},
   "outputs": [],
   "source": [
    "# make a validation curve from train_scores and test_scores\n",
    "import matplotlib.pyplot as plt\n",
    "import numpy as np\n",
    "\n",
    "train_scores_mean = np.mean(train_scores, axis=1)\n",
    "train_scores_std = np.std(train_scores, axis=1)\n",
    "test_scores_mean = np.mean(test_scores, axis=1)\n",
    "test_scores_std = np.std(test_scores, axis=1)\n",
    "\n",
    "plt.title(\"Validation Curve with CatBoost\")\n",
    "plt.xlabel(\"max_depth\")\n",
    "plt.ylabel(\"Score\")\n",
    "#plt.ylim(-1, 0)\n",
    "lw = 2\n",
    "plt.plot(param_range, train_scores_mean, label=\"Training score\",\n",
    "             color=\"darkorange\", lw=lw)\n",
    "plt.fill_between(param_range, train_scores_mean - train_scores_std,\n",
    "                 train_scores_mean + train_scores_std, alpha=0.2,\n",
    "                 color=\"darkorange\", lw=lw)\n",
    "plt.plot(param_range, test_scores_mean, label=\"Cross-validation score\",\n",
    "                color=\"navy\", lw=lw)\n",
    "\n",
    "plt.fill_between(param_range, test_scores_mean - test_scores_std,   \n",
    "                    test_scores_mean + test_scores_std, alpha=0.2,\n",
    "                    color=\"navy\", lw=lw)\n",
    "plt.legend(loc=\"best\")\n",
    "\n",
    "\n"
   ]
  },
  {
   "cell_type": "code",
   "execution_count": null,
   "metadata": {},
   "outputs": [],
   "source": [
    "# set max_depth to 4\n",
    "cr2_4 = catboost.CatBoostRegressor(iterations=3000, learning_rate=0.1,\n",
    "                                max_depth=4)\n",
    "\n",
    "X_train, X_test, y_train, y_test = train_test_split(raw.drop('price'), y, \n",
    "                                                    test_size=0.2, random_state=42)\n",
    "\n",
    "cr2_4.fit(X_train.to_pandas(), y_train.to_numpy(), cat_features=['zipcode'], verbose=100,\n",
    "        early_stopping_rounds=10, eval_set=(X_test.to_pandas(), y_test.to_numpy()))\n",
    "cr2_4.score(X_test.to_pandas(), y_test.to_numpy())"
   ]
  },
  {
   "cell_type": "code",
   "execution_count": null,
   "metadata": {
    "jupyter": {
     "source_hidden": true
    }
   },
   "outputs": [],
   "source": []
  },
  {
   "cell_type": "code",
   "execution_count": null,
   "metadata": {},
   "outputs": [],
   "source": []
  },
  {
   "cell_type": "code",
   "execution_count": null,
   "metadata": {},
   "outputs": [],
   "source": []
  },
  {
   "cell_type": "code",
   "execution_count": null,
   "metadata": {},
   "outputs": [],
   "source": []
  },
  {
   "cell_type": "code",
   "execution_count": null,
   "metadata": {},
   "outputs": [],
   "source": []
  },
  {
   "cell_type": "code",
   "execution_count": null,
   "metadata": {},
   "outputs": [],
   "source": []
  },
  {
   "cell_type": "code",
   "execution_count": null,
   "metadata": {},
   "outputs": [],
   "source": []
  },
  {
   "cell_type": "markdown",
   "metadata": {},
   "source": [
    "\n",
    "## Grid Search\n"
   ]
  },
  {
   "cell_type": "code",
   "execution_count": null,
   "metadata": {
    "scrolled": true
   },
   "outputs": [],
   "source": [
    "from sklearn.tree import DecisionTreeRegressor\n",
    "\n",
    "\n",
    "dt = DecisionTreeRegressor()\n",
    "y = raw.select('price')\n",
    "X_train, X_test, y_train, y_test = train_test_split(raw, y, test_size=0.2, random_state=42)\n",
    "dt_pipe = Pipeline(steps=[('tweak', tweak_transformer),\n",
    "                      ('zip_avg_price', ZipAvgPriceAdder()),\n",
    "                      ('preprocessor', preprocessor),\n",
    "                      ('dt', dt),\n",
    "                      ])\n",
    "\n",
    "dt_pipe.fit(X_train, y_train)\n",
    "dt_pipe.score(X_test, y_test)"
   ]
  },
  {
   "cell_type": "code",
   "execution_count": null,
   "metadata": {
    "collapsed": true,
    "jupyter": {
     "outputs_hidden": true
    },
    "scrolled": true
   },
   "outputs": [],
   "source": [
    "dt_pipe"
   ]
  },
  {
   "cell_type": "code",
   "execution_count": null,
   "metadata": {
    "scrolled": true
   },
   "outputs": [],
   "source": [
    "# use grid search on decision tree\n",
    "from sklearn.model_selection import GridSearchCV\n",
    "\n",
    "param_grid = {\n",
    "    'dt__max_depth': [3, 6, 9],\n",
    "    'dt__min_samples_split': [10, 20, 100],\n",
    "    'dt__min_samples_leaf': [10, 20, 100],\n",
    "}\n",
    "\n",
    "grid_search = GridSearchCV(dt_pipe, param_grid, cv=5)#, scoring='neg_mean_squared_error')\n",
    "grid_search.fit(X_train, y_train)"
   ]
  },
  {
   "cell_type": "code",
   "execution_count": null,
   "metadata": {},
   "outputs": [],
   "source": [
    "grid_search.best_params_"
   ]
  },
  {
   "cell_type": "code",
   "execution_count": null,
   "metadata": {
    "scrolled": true
   },
   "outputs": [],
   "source": [
    "# make a tree from the params\n",
    "dt = DecisionTreeRegressor()#max_depth=9, min_samples_leaf=20, min_samples_split=10)\n",
    "dt_pipe = Pipeline(steps=[('tweak', tweak_transformer),\n",
    "                      ('zip_avg_price', ZipAvgPriceAdder()),\n",
    "                      ('to_pandas', pandas_transformer),\n",
    "                      ('preprocessor', preprocessor),\n",
    "                        ('dt', dt),\n",
    "                      ])\n",
    "dt_pipe.set_params(**grid_search.best_params_)\n",
    "dt_pipe.fit(X_train, y_train)\n",
    "dt_pipe.score(X_test, y_test)"
   ]
  },
  {
   "cell_type": "code",
   "execution_count": null,
   "metadata": {
    "scrolled": true
   },
   "outputs": [],
   "source": [
    "# compare to default\n",
    "dt = DecisionTreeRegressor(random_state=42)\n",
    "dt_pipe = Pipeline(steps=[('tweak', tweak_transformer),\n",
    "                      ('zip_avg_price', ZipAvgPriceAdder()),\n",
    "                      ('to_pandas', pandas_transformer),\n",
    "                      ('preprocessor', preprocessor),\n",
    "                        ('dt', dt),\n",
    "                      ])\n",
    "\n",
    "dt_pipe.fit(X_train, y_train)\n",
    "dt_pipe.score(X_test, y_test)"
   ]
  },
  {
   "cell_type": "code",
   "execution_count": null,
   "metadata": {},
   "outputs": [],
   "source": []
  },
  {
   "cell_type": "code",
   "execution_count": null,
   "metadata": {},
   "outputs": [],
   "source": []
  },
  {
   "cell_type": "code",
   "execution_count": null,
   "metadata": {},
   "outputs": [],
   "source": []
  },
  {
   "cell_type": "code",
   "execution_count": null,
   "metadata": {},
   "outputs": [],
   "source": []
  },
  {
   "cell_type": "markdown",
   "metadata": {},
   "source": [
    "\n",
    "## Challenge\n",
    "\n",
    "Do a grid search to find the best depth for the random forest model. What is the best depth? What is the score of the model with the best depth?"
   ]
  },
  {
   "cell_type": "markdown",
   "metadata": {},
   "source": [
    "\n",
    "## Solution"
   ]
  },
  {
   "cell_type": "code",
   "execution_count": null,
   "metadata": {},
   "outputs": [],
   "source": []
  },
  {
   "cell_type": "code",
   "execution_count": null,
   "metadata": {},
   "outputs": [],
   "source": []
  },
  {
   "cell_type": "code",
   "execution_count": null,
   "metadata": {},
   "outputs": [],
   "source": []
  },
  {
   "cell_type": "code",
   "execution_count": null,
   "metadata": {},
   "outputs": [],
   "source": []
  },
  {
   "cell_type": "markdown",
   "metadata": {},
   "source": [
    "# Model Deployment\n"
   ]
  },
  {
   "cell_type": "markdown",
   "metadata": {},
   "source": [
    "\n",
    "## End to end notebook\n"
   ]
  },
  {
   "cell_type": "code",
   "execution_count": null,
   "metadata": {},
   "outputs": [],
   "source": [
    "import polars as pl\n",
    "from sklearn.pipeline import Pipeline\n",
    "from sklearn.compose import ColumnTransformer\n",
    "from sklearn.linear_model import LinearRegression\n",
    "from sklearn.preprocessing import StandardScaler, OneHotEncoder\n",
    "from sklearn.impute import SimpleImputer\n",
    "from sklearn.model_selection import train_test_split\n",
    "from sklearn.preprocessing import FunctionTransformer\n",
    "from sklearn.base import BaseEstimator, TransformerMixin\n",
    "# use pandas output for sklearn\n",
    "from sklearn import set_config\n",
    "set_config(transform_output='polars')\n",
    "\n",
    "def tweak_housing(df):\n",
    "    return (df\n",
    "            .with_columns(zipcode=pl.col('zipcode').cast(pl.String).cast(pl.Categorical),\n",
    "                          date=pl.date(pl.col('date_year'), pl.col('date_month'), pl.col('date_day')),\n",
    "                          yr_renovated=pl.col('yr_renovated').replace(0, None),\n",
    "                          )\n",
    "            .select(['id', 'price', 'bedrooms', 'bathrooms', 'sqft_living', 'sqft_lot', 'floors', \n",
    "                     'waterfront', 'view', 'condition', 'grade', 'sqft_above', 'sqft_basement', \n",
    "                     'yr_built', 'yr_renovated', 'zipcode', 'lat', 'long', 'sqft_living15', \n",
    "                     'sqft_lot15', 'date',  #'date_year', 'date_month', 'date_day', \n",
    "                     ])\n",
    "    )\n",
    "\n",
    "# make the pipeline\n",
    "numeric_features = ['bedrooms', 'bathrooms', 'sqft_living', 'sqft_lot', 'floors', 'waterfront', 'view', \n",
    "                    'condition', 'grade', 'sqft_above', 'sqft_basement', 'yr_built', 'yr_renovated', \n",
    "                    'lat', 'long', 'sqft_living15', 'sqft_lot15', 'zip_mean']\n",
    "numeric_transformer = Pipeline(steps=[\n",
    "    ('imputer', SimpleImputer(strategy='median')),\n",
    "    ('scaler', StandardScaler())])\n",
    "\n",
    "categorical_features = ['zipcode']\n",
    "\n",
    "preprocessor = ColumnTransformer(\n",
    "    transformers=[\n",
    "        ('num', numeric_transformer, numeric_features),\n",
    "        ('cat', OneHotEncoder(handle_unknown='ignore',\n",
    "                              sparse_output=False), categorical_features)])\n",
    "\n",
    "def to_pandas(df):\n",
    "    return df.to_pandas()\n",
    "pandas_transformer = FunctionTransformer(to_pandas)\n",
    "\n",
    "tweak_transformer = FunctionTransformer(tweak_housing)\n",
    "\n",
    "class ZipAvgPriceAdder(BaseEstimator, TransformerMixin):\n",
    "    def __init__(self):\n",
    "        pass\n",
    "    def fit(self, X, y=None):\n",
    "        # assume X is a polars dataframe\n",
    "        self.zip_avg_price = (X\n",
    "                              .group_by('zipcode')\n",
    "                              .agg(zip_mean=pl.col('price').mean())\n",
    "        )\n",
    "        return self\n",
    "    \n",
    "    def transform(self, X, y=None):\n",
    "        with pl.StringCache():\n",
    "            return X.join(self.zip_avg_price, on='zipcode')\n",
    "\n",
    "\n",
    "# King County House Sales dataset from OpenML (includes Seattle)\n",
    "# this is an ARFF file, which is a text file with a specific format\n",
    "url = 'https://www.openml.org/data/download/22044765/dataset'\n",
    "cols = ['id', 'price', 'bedrooms', 'bathrooms', 'sqft_living', 'sqft_lot', 'floors', 'waterfront', 'view', \n",
    "        'condition', 'grade', 'sqft_above', 'sqft_basement', 'yr_built', 'yr_renovated',\n",
    "        'zipcode', 'lat', 'long', 'sqft_living15', 'sqft_lot15', 'date_year', 'date_month', 'date_day']\n",
    "\n",
    "raw = pl.read_csv(url, new_columns=cols, skip_rows=31, has_header=False)\n",
    "\n",
    "lr =  LinearRegression()\n",
    "y = raw.select('price')\n",
    "X_train, X_test, y_train, y_test = train_test_split(raw, y, test_size=0.2, random_state=42)\n",
    "lr_pipe = Pipeline(steps=[('tweak', tweak_transformer),\n",
    "                      ('zip_avg_price', ZipAvgPriceAdder()),\n",
    "                      ('preprocessor', preprocessor),\n",
    "                      ('lr', lr),\n",
    "                      ])\n",
    "\n",
    "lr_pipe.fit(X_train, y_train)\n",
    "lr_pipe.score(X_test, y_test)\n",
    "    "
   ]
  },
  {
   "cell_type": "markdown",
   "metadata": {},
   "source": []
  },
  {
   "cell_type": "code",
   "execution_count": null,
   "metadata": {},
   "outputs": [],
   "source": []
  },
  {
   "cell_type": "code",
   "execution_count": null,
   "metadata": {},
   "outputs": [],
   "source": []
  },
  {
   "cell_type": "code",
   "execution_count": null,
   "metadata": {},
   "outputs": [],
   "source": []
  },
  {
   "cell_type": "code",
   "execution_count": null,
   "metadata": {},
   "outputs": [],
   "source": []
  },
  {
   "cell_type": "code",
   "execution_count": null,
   "metadata": {},
   "outputs": [],
   "source": []
  },
  {
   "cell_type": "markdown",
   "metadata": {},
   "source": [
    "## Using MLFlow\n",
    "\n",
    "Going to show how to persist and load a model, but can also:\n",
    "\n",
    "- Start a endpoint to serve predictions\n",
    "- Build a Docker image\n"
   ]
  },
  {
   "cell_type": "code",
   "execution_count": null,
   "metadata": {},
   "outputs": [],
   "source": [
    "import mlflow"
   ]
  },
  {
   "cell_type": "code",
   "execution_count": null,
   "metadata": {},
   "outputs": [],
   "source": [
    "mlflow.__version__"
   ]
  },
  {
   "cell_type": "code",
   "execution_count": null,
   "metadata": {},
   "outputs": [],
   "source": [
    "model_info = mlflow.sklearn.log_model(lr_pipe, artifact_path='lr_pipe')"
   ]
  },
  {
   "cell_type": "code",
   "execution_count": null,
   "metadata": {},
   "outputs": [],
   "source": [
    "model_info.artifact_path    "
   ]
  },
  {
   "cell_type": "code",
   "execution_count": null,
   "metadata": {},
   "outputs": [],
   "source": [
    "!tree"
   ]
  },
  {
   "cell_type": "code",
   "execution_count": null,
   "metadata": {},
   "outputs": [],
   "source": [
    "model_info.run_id"
   ]
  },
  {
   "cell_type": "code",
   "execution_count": null,
   "metadata": {},
   "outputs": [],
   "source": [
    "model = mlflow.pyfunc.load_model(f'mlruns/0/{model_info.run_id}/artifacts/lr_pipe')"
   ]
  },
  {
   "cell_type": "code",
   "execution_count": null,
   "metadata": {},
   "outputs": [],
   "source": [
    "model.predict(X_test)"
   ]
  },
  {
   "cell_type": "code",
   "execution_count": null,
   "metadata": {},
   "outputs": [],
   "source": []
  },
  {
   "cell_type": "markdown",
   "metadata": {},
   "source": [
    "## Challenge\n",
    "\n",
    "Reformat your notebook so that you can load the data and create an optimized random forest model in a single cell. Then, use MLFlow to log the model and its parameters."
   ]
  },
  {
   "cell_type": "code",
   "execution_count": null,
   "metadata": {},
   "outputs": [],
   "source": []
  },
  {
   "cell_type": "markdown",
   "metadata": {},
   "source": [
    "\n",
    "## Solution"
   ]
  },
  {
   "cell_type": "markdown",
   "metadata": {},
   "source": []
  }
 ],
 "metadata": {
  "kernelspec": {
   "display_name": "Python 3 (ipykernel)",
   "language": "python",
   "name": "python3"
  },
  "language_info": {
   "codemirror_mode": {
    "name": "ipython",
    "version": 3
   },
   "file_extension": ".py",
   "mimetype": "text/x-python",
   "name": "python",
   "nbconvert_exporter": "python",
   "pygments_lexer": "ipython3",
   "version": "3.10.13"
  }
 },
 "nbformat": 4,
 "nbformat_minor": 4
}
